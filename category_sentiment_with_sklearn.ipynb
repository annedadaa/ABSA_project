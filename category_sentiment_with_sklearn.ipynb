{
 "cells": [
  {
   "cell_type": "code",
   "execution_count": 4,
   "id": "95c38abc",
   "metadata": {},
   "outputs": [],
   "source": [
    "import pandas as pd\n",
    "from sklearn.model_selection import train_test_split\n",
    "from sklearn import preprocessing"
   ]
  },
  {
   "cell_type": "markdown",
   "id": "e3e8dc2f",
   "metadata": {},
   "source": [
    "Посчитаем сколько упоминаний каждого типа тональности содержит каждая категория. Для этого нам понадобится файл с размеченными упоминаниями категорий и тональностью каждого упоминания"
   ]
  },
  {
   "cell_type": "code",
   "execution_count": 5,
   "id": "a9555985",
   "metadata": {},
   "outputs": [],
   "source": [
    "def count_sentiments(df_asp, df_sent):\n",
    "    text_ids = df_asp['text_id'].unique()\n",
    "    frames = []\n",
    "    for j in text_ids:\n",
    "        neutral = {'Whole':0, 'Service':0, 'Food':0, 'Interior':0, 'Price':0}\n",
    "        frequency = {'Whole':0, 'Service':0, 'Food':0, 'Interior':0, 'Price':0}\n",
    "        both = {'Whole':0, 'Service':0, 'Food':0, 'Interior':0, 'Price':0}\n",
    "        positive = {'Whole':0, 'Service':0, 'Food':0, 'Interior':0, 'Price':0}\n",
    "        negative = {'Whole':0, 'Service':0, 'Food':0, 'Interior':0, 'Price':0}\n",
    "        asp_slice = df_asp.loc[df_asp['text_id']==j]\n",
    "        asp_slice = asp_slice.reset_index()\n",
    "        for i in range(len(asp_slice)):\n",
    "            if asp_slice['sentiment'][i] == 'neutral':\n",
    "                neutral[asp_slice['category'][i]] +=1\n",
    "            if asp_slice['sentiment'][i] == 'positive':\n",
    "                positive[asp_slice['category'][i]] +=1\n",
    "            if asp_slice['sentiment'][i] == 'negative':\n",
    "                negative[asp_slice['category'][i]] +=1\n",
    "            if asp_slice['sentiment'][i] == 'both':\n",
    "                both[asp_slice['category'][i]] +=1\n",
    "        sent_slice = df_sent.loc[df_sent['text_id']==j]\n",
    "        sent_slice = sent_slice.reset_index()\n",
    "        sent_slice['positive'] = 0\n",
    "        sent_slice['negative'] = 0\n",
    "        sent_slice['both'] = 0\n",
    "        sent_slice['neutral'] = 0\n",
    "        for i in range(5):\n",
    "            sent_slice.at[i,'positive'] = positive[sent_slice['category'][i]]\n",
    "            sent_slice.at[i, 'negative'] = negative[sent_slice['category'][i]]\n",
    "            sent_slice.at[i, 'both'] = both[sent_slice['category'][i]]\n",
    "            sent_slice.at[i, 'neutral'] = neutral[sent_slice['category'][i]]\n",
    "        frames.append(sent_slice)\n",
    "    return pd.concat(frames)"
   ]
  },
  {
   "cell_type": "code",
   "execution_count": 6,
   "id": "862452e9",
   "metadata": {},
   "outputs": [],
   "source": [
    "train_asp = pd.read_csv(\n",
    "    'train_split_aspects.txt', \n",
    "    delimiter='\\t', \n",
    "    names=['text_id', 'category', 'mention', 'start', 'end', 'sentiment']\n",
    ")\n",
    "train_sent = pd.read_csv(\n",
    "    'train_split_cats.txt',\n",
    "    delimiter='\\t',\n",
    "    names=['text_id', 'category', 'sentiment'])\n",
    "result = count_sentiments(train_asp, train_sent)"
   ]
  },
  {
   "cell_type": "code",
   "execution_count": 10,
   "id": "87f9d2e8",
   "metadata": {},
   "outputs": [],
   "source": [
    "dev_cats = pd.read_csv('dev_cats.txt', delimiter='\\t', names=['text_id', 'category', 'sentiment'])\n",
    "d_asp = pd.read_csv('devpred_aspects_ours.txt',  delimiter='\\t', names=['text_id', 'category', 'text', 'start', 'end', 'sentiment'])\n",
    "dev_cats = count_sentiments(d_asp, dev_cats)"
   ]
  },
  {
   "cell_type": "code",
   "execution_count": 11,
   "id": "1f16a600",
   "metadata": {},
   "outputs": [
    {
     "data": {
      "text/html": [
       "<div>\n",
       "<style scoped>\n",
       "    .dataframe tbody tr th:only-of-type {\n",
       "        vertical-align: middle;\n",
       "    }\n",
       "\n",
       "    .dataframe tbody tr th {\n",
       "        vertical-align: top;\n",
       "    }\n",
       "\n",
       "    .dataframe thead th {\n",
       "        text-align: right;\n",
       "    }\n",
       "</style>\n",
       "<table border=\"1\" class=\"dataframe\">\n",
       "  <thead>\n",
       "    <tr style=\"text-align: right;\">\n",
       "      <th></th>\n",
       "      <th>index</th>\n",
       "      <th>text_id</th>\n",
       "      <th>category</th>\n",
       "      <th>sentiment</th>\n",
       "      <th>positive</th>\n",
       "      <th>negative</th>\n",
       "      <th>both</th>\n",
       "      <th>neutral</th>\n",
       "    </tr>\n",
       "  </thead>\n",
       "  <tbody>\n",
       "    <tr>\n",
       "      <th>0</th>\n",
       "      <td>210</td>\n",
       "      <td>785</td>\n",
       "      <td>Food</td>\n",
       "      <td>both</td>\n",
       "      <td>1</td>\n",
       "      <td>1</td>\n",
       "      <td>0</td>\n",
       "      <td>0</td>\n",
       "    </tr>\n",
       "    <tr>\n",
       "      <th>1</th>\n",
       "      <td>211</td>\n",
       "      <td>785</td>\n",
       "      <td>Interior</td>\n",
       "      <td>positive</td>\n",
       "      <td>1</td>\n",
       "      <td>0</td>\n",
       "      <td>0</td>\n",
       "      <td>0</td>\n",
       "    </tr>\n",
       "    <tr>\n",
       "      <th>2</th>\n",
       "      <td>212</td>\n",
       "      <td>785</td>\n",
       "      <td>Price</td>\n",
       "      <td>negative</td>\n",
       "      <td>0</td>\n",
       "      <td>0</td>\n",
       "      <td>0</td>\n",
       "      <td>0</td>\n",
       "    </tr>\n",
       "    <tr>\n",
       "      <th>3</th>\n",
       "      <td>213</td>\n",
       "      <td>785</td>\n",
       "      <td>Whole</td>\n",
       "      <td>both</td>\n",
       "      <td>1</td>\n",
       "      <td>0</td>\n",
       "      <td>0</td>\n",
       "      <td>0</td>\n",
       "    </tr>\n",
       "    <tr>\n",
       "      <th>4</th>\n",
       "      <td>214</td>\n",
       "      <td>785</td>\n",
       "      <td>Service</td>\n",
       "      <td>positive</td>\n",
       "      <td>2</td>\n",
       "      <td>0</td>\n",
       "      <td>0</td>\n",
       "      <td>0</td>\n",
       "    </tr>\n",
       "    <tr>\n",
       "      <th>...</th>\n",
       "      <td>...</td>\n",
       "      <td>...</td>\n",
       "      <td>...</td>\n",
       "      <td>...</td>\n",
       "      <td>...</td>\n",
       "      <td>...</td>\n",
       "      <td>...</td>\n",
       "      <td>...</td>\n",
       "    </tr>\n",
       "    <tr>\n",
       "      <th>0</th>\n",
       "      <td>315</td>\n",
       "      <td>38299</td>\n",
       "      <td>Food</td>\n",
       "      <td>positive</td>\n",
       "      <td>8</td>\n",
       "      <td>0</td>\n",
       "      <td>0</td>\n",
       "      <td>0</td>\n",
       "    </tr>\n",
       "    <tr>\n",
       "      <th>1</th>\n",
       "      <td>316</td>\n",
       "      <td>38299</td>\n",
       "      <td>Interior</td>\n",
       "      <td>positive</td>\n",
       "      <td>3</td>\n",
       "      <td>0</td>\n",
       "      <td>0</td>\n",
       "      <td>0</td>\n",
       "    </tr>\n",
       "    <tr>\n",
       "      <th>2</th>\n",
       "      <td>317</td>\n",
       "      <td>38299</td>\n",
       "      <td>Price</td>\n",
       "      <td>absence</td>\n",
       "      <td>0</td>\n",
       "      <td>0</td>\n",
       "      <td>0</td>\n",
       "      <td>0</td>\n",
       "    </tr>\n",
       "    <tr>\n",
       "      <th>3</th>\n",
       "      <td>318</td>\n",
       "      <td>38299</td>\n",
       "      <td>Whole</td>\n",
       "      <td>positive</td>\n",
       "      <td>1</td>\n",
       "      <td>0</td>\n",
       "      <td>0</td>\n",
       "      <td>1</td>\n",
       "    </tr>\n",
       "    <tr>\n",
       "      <th>4</th>\n",
       "      <td>319</td>\n",
       "      <td>38299</td>\n",
       "      <td>Service</td>\n",
       "      <td>positive</td>\n",
       "      <td>2</td>\n",
       "      <td>0</td>\n",
       "      <td>0</td>\n",
       "      <td>1</td>\n",
       "    </tr>\n",
       "  </tbody>\n",
       "</table>\n",
       "<p>355 rows × 8 columns</p>\n",
       "</div>"
      ],
      "text/plain": [
       "    index  text_id  category sentiment  positive  negative  both  neutral\n",
       "0     210      785      Food      both         1         1     0        0\n",
       "1     211      785  Interior  positive         1         0     0        0\n",
       "2     212      785     Price  negative         0         0     0        0\n",
       "3     213      785     Whole      both         1         0     0        0\n",
       "4     214      785   Service  positive         2         0     0        0\n",
       "..    ...      ...       ...       ...       ...       ...   ...      ...\n",
       "0     315    38299      Food  positive         8         0     0        0\n",
       "1     316    38299  Interior  positive         3         0     0        0\n",
       "2     317    38299     Price   absence         0         0     0        0\n",
       "3     318    38299     Whole  positive         1         0     0        1\n",
       "4     319    38299   Service  positive         2         0     0        1\n",
       "\n",
       "[355 rows x 8 columns]"
      ]
     },
     "execution_count": 11,
     "metadata": {},
     "output_type": "execute_result"
    }
   ],
   "source": [
    "train = result\n",
    "test = dev_cats\n",
    "dev_cats"
   ]
  },
  {
   "cell_type": "code",
   "execution_count": 12,
   "id": "40b00d44",
   "metadata": {},
   "outputs": [
    {
     "data": {
      "text/html": [
       "<div>\n",
       "<style scoped>\n",
       "    .dataframe tbody tr th:only-of-type {\n",
       "        vertical-align: middle;\n",
       "    }\n",
       "\n",
       "    .dataframe tbody tr th {\n",
       "        vertical-align: top;\n",
       "    }\n",
       "\n",
       "    .dataframe thead th {\n",
       "        text-align: right;\n",
       "    }\n",
       "</style>\n",
       "<table border=\"1\" class=\"dataframe\">\n",
       "  <thead>\n",
       "    <tr style=\"text-align: right;\">\n",
       "      <th></th>\n",
       "      <th>index</th>\n",
       "      <th>text_id</th>\n",
       "      <th>category</th>\n",
       "      <th>sentiment</th>\n",
       "      <th>positive</th>\n",
       "      <th>negative</th>\n",
       "      <th>both</th>\n",
       "      <th>neutral</th>\n",
       "    </tr>\n",
       "  </thead>\n",
       "  <tbody>\n",
       "    <tr>\n",
       "      <th>0</th>\n",
       "      <td>0</td>\n",
       "      <td>30808</td>\n",
       "      <td>Food</td>\n",
       "      <td>positive</td>\n",
       "      <td>2</td>\n",
       "      <td>0</td>\n",
       "      <td>0</td>\n",
       "      <td>0</td>\n",
       "    </tr>\n",
       "    <tr>\n",
       "      <th>1</th>\n",
       "      <td>1</td>\n",
       "      <td>30808</td>\n",
       "      <td>Interior</td>\n",
       "      <td>positive</td>\n",
       "      <td>1</td>\n",
       "      <td>0</td>\n",
       "      <td>0</td>\n",
       "      <td>1</td>\n",
       "    </tr>\n",
       "    <tr>\n",
       "      <th>2</th>\n",
       "      <td>2</td>\n",
       "      <td>30808</td>\n",
       "      <td>Price</td>\n",
       "      <td>positive</td>\n",
       "      <td>1</td>\n",
       "      <td>0</td>\n",
       "      <td>0</td>\n",
       "      <td>0</td>\n",
       "    </tr>\n",
       "    <tr>\n",
       "      <th>3</th>\n",
       "      <td>3</td>\n",
       "      <td>30808</td>\n",
       "      <td>Whole</td>\n",
       "      <td>positive</td>\n",
       "      <td>2</td>\n",
       "      <td>0</td>\n",
       "      <td>0</td>\n",
       "      <td>1</td>\n",
       "    </tr>\n",
       "    <tr>\n",
       "      <th>4</th>\n",
       "      <td>4</td>\n",
       "      <td>30808</td>\n",
       "      <td>Service</td>\n",
       "      <td>positive</td>\n",
       "      <td>4</td>\n",
       "      <td>0</td>\n",
       "      <td>0</td>\n",
       "      <td>0</td>\n",
       "    </tr>\n",
       "    <tr>\n",
       "      <th>...</th>\n",
       "      <td>...</td>\n",
       "      <td>...</td>\n",
       "      <td>...</td>\n",
       "      <td>...</td>\n",
       "      <td>...</td>\n",
       "      <td>...</td>\n",
       "      <td>...</td>\n",
       "      <td>...</td>\n",
       "    </tr>\n",
       "    <tr>\n",
       "      <th>0</th>\n",
       "      <td>1060</td>\n",
       "      <td>16630</td>\n",
       "      <td>Food</td>\n",
       "      <td>positive</td>\n",
       "      <td>1</td>\n",
       "      <td>0</td>\n",
       "      <td>0</td>\n",
       "      <td>0</td>\n",
       "    </tr>\n",
       "    <tr>\n",
       "      <th>1</th>\n",
       "      <td>1061</td>\n",
       "      <td>16630</td>\n",
       "      <td>Interior</td>\n",
       "      <td>positive</td>\n",
       "      <td>1</td>\n",
       "      <td>0</td>\n",
       "      <td>0</td>\n",
       "      <td>0</td>\n",
       "    </tr>\n",
       "    <tr>\n",
       "      <th>2</th>\n",
       "      <td>1062</td>\n",
       "      <td>16630</td>\n",
       "      <td>Price</td>\n",
       "      <td>absence</td>\n",
       "      <td>0</td>\n",
       "      <td>0</td>\n",
       "      <td>0</td>\n",
       "      <td>0</td>\n",
       "    </tr>\n",
       "    <tr>\n",
       "      <th>3</th>\n",
       "      <td>1063</td>\n",
       "      <td>16630</td>\n",
       "      <td>Whole</td>\n",
       "      <td>positive</td>\n",
       "      <td>2</td>\n",
       "      <td>0</td>\n",
       "      <td>0</td>\n",
       "      <td>0</td>\n",
       "    </tr>\n",
       "    <tr>\n",
       "      <th>4</th>\n",
       "      <td>1064</td>\n",
       "      <td>16630</td>\n",
       "      <td>Service</td>\n",
       "      <td>positive</td>\n",
       "      <td>3</td>\n",
       "      <td>0</td>\n",
       "      <td>0</td>\n",
       "      <td>0</td>\n",
       "    </tr>\n",
       "  </tbody>\n",
       "</table>\n",
       "<p>1065 rows × 8 columns</p>\n",
       "</div>"
      ],
      "text/plain": [
       "    index  text_id  category sentiment  positive  negative  both  neutral\n",
       "0       0    30808      Food  positive         2         0     0        0\n",
       "1       1    30808  Interior  positive         1         0     0        1\n",
       "2       2    30808     Price  positive         1         0     0        0\n",
       "3       3    30808     Whole  positive         2         0     0        1\n",
       "4       4    30808   Service  positive         4         0     0        0\n",
       "..    ...      ...       ...       ...       ...       ...   ...      ...\n",
       "0    1060    16630      Food  positive         1         0     0        0\n",
       "1    1061    16630  Interior  positive         1         0     0        0\n",
       "2    1062    16630     Price   absence         0         0     0        0\n",
       "3    1063    16630     Whole  positive         2         0     0        0\n",
       "4    1064    16630   Service  positive         3         0     0        0\n",
       "\n",
       "[1065 rows x 8 columns]"
      ]
     },
     "execution_count": 12,
     "metadata": {},
     "output_type": "execute_result"
    }
   ],
   "source": [
    "result"
   ]
  },
  {
   "cell_type": "code",
   "execution_count": 13,
   "id": "c720b522",
   "metadata": {},
   "outputs": [],
   "source": [
    "le = preprocessing.LabelEncoder()\n",
    "y_train = le.fit_transform(train['sentiment'])"
   ]
  },
  {
   "cell_type": "code",
   "execution_count": 14,
   "id": "6411ee7e",
   "metadata": {},
   "outputs": [],
   "source": [
    "features_columns = ['positive', 'negative', 'both', 'neutral']"
   ]
  },
  {
   "cell_type": "markdown",
   "id": "8b7e9352",
   "metadata": {},
   "source": [
    "Будем использовать гридсерч на SVM, Decision Tree и KNN классификаторах"
   ]
  },
  {
   "cell_type": "code",
   "execution_count": 22,
   "id": "9384436b",
   "metadata": {
    "scrolled": true
   },
   "outputs": [
    {
     "name": "stdout",
     "output_type": "stream",
     "text": [
      "0.8134237550305681\n",
      "{'class_weight': 'balanced', 'decision_function_shape': 'ovo', 'gamma': 'scale', 'kernel': 'linear', 'shrinking': False}\n"
     ]
    }
   ],
   "source": [
    "from sklearn.model_selection import cross_val_score, GridSearchCV\n",
    "from sklearn.model_selection import GridSearchCV\n",
    "from sklearn import svm\n",
    "from sklearn.svm import LinearSVC\n",
    "clf = svm.SVC()\n",
    "parameters_svm = {'kernel': ('linear', 'poly', 'rbf', 'sigmoid'),\n",
    "                  'gamma': ('scale', 'auto'),\n",
    "                  'shrinking': (True, False),\n",
    "               'class_weight': ('balanced', None),\n",
    "                 'decision_function_shape': ('ovo', 'ovr')}\n",
    "\n",
    "\n",
    "grid_search_SVM = GridSearchCV(clf, parameters_svm, n_jobs=-1, scoring = \"f1_weighted\")\n",
    "grid_search_SVM = grid_search_SVM.fit(train[features_columns], y_train)\n",
    "\n",
    "\n",
    "print(grid_search_SVM.best_score_)\n",
    "print(grid_search_SVM.best_params_)"
   ]
  },
  {
   "cell_type": "code",
   "execution_count": 23,
   "id": "79a24558",
   "metadata": {},
   "outputs": [],
   "source": [
    "y_test = le.transform(test['sentiment'])\n",
    "y_pred = grid_search_SVM.predict(test[features_columns])"
   ]
  },
  {
   "cell_type": "code",
   "execution_count": 24,
   "id": "239c5520",
   "metadata": {},
   "outputs": [
    {
     "data": {
      "text/plain": [
       "0.7070422535211267"
      ]
     },
     "execution_count": 24,
     "metadata": {},
     "output_type": "execute_result"
    }
   ],
   "source": [
    "from sklearn.metrics import accuracy_score\n",
    "accuracy_score(y_test, y_pred)"
   ]
  },
  {
   "cell_type": "code",
   "execution_count": 25,
   "id": "d503b7f7",
   "metadata": {},
   "outputs": [
    {
     "name": "stdout",
     "output_type": "stream",
     "text": [
      "Fitting 5 folds for each of 336 candidates, totalling 1680 fits\n"
     ]
    },
    {
     "name": "stderr",
     "output_type": "stream",
     "text": [
      "[Parallel(n_jobs=1)]: Using backend SequentialBackend with 1 concurrent workers.\n"
     ]
    },
    {
     "name": "stdout",
     "output_type": "stream",
     "text": [
      "{'ccp_alpha': 0.01, 'criterion': 'entropy', 'max_depth': 9, 'max_features': 'auto'}\n",
      "0.8178403755868546\n"
     ]
    },
    {
     "name": "stderr",
     "output_type": "stream",
     "text": [
      "[Parallel(n_jobs=1)]: Done 1680 out of 1680 | elapsed:    1.3s finished\n"
     ]
    }
   ],
   "source": [
    "from sklearn.tree import DecisionTreeClassifier\n",
    "param_grid = {'max_features': ['auto', 'sqrt', 'log2'],\n",
    "              'ccp_alpha': [1, .1, .01, 0.12, 0.15, 0.17, 0.2, .001],\n",
    "              'max_depth' : [3, 5, 6, 7, 8, 9, 10],\n",
    "              'criterion' :['gini', 'entropy']\n",
    "             }\n",
    "tree_clas = DecisionTreeClassifier(random_state=1024)\n",
    "grid_search_DTC = GridSearchCV(estimator=tree_clas, param_grid=param_grid, cv=5, verbose=True)\n",
    "grid_search_DTC.fit(train[features_columns], y_train)\n",
    "print(grid_search_DTC.best_params_)\n",
    "print(grid_search_DTC.best_score_)"
   ]
  },
  {
   "cell_type": "code",
   "execution_count": 26,
   "id": "afcd2d42",
   "metadata": {},
   "outputs": [
    {
     "data": {
      "text/plain": [
       "0.7098591549295775"
      ]
     },
     "execution_count": 26,
     "metadata": {},
     "output_type": "execute_result"
    }
   ],
   "source": [
    "y_pred = grid_search_DTC.predict(test[features_columns])\n",
    "accuracy_score(y_test, y_pred)"
   ]
  },
  {
   "cell_type": "code",
   "execution_count": 27,
   "id": "473fc274",
   "metadata": {},
   "outputs": [
    {
     "name": "stdout",
     "output_type": "stream",
     "text": [
      "{'leaf_size': 20, 'metric': 'minkowski', 'n_neighbors': 10, 'p': 2, 'weights': 'uniform'}\n",
      "0.8131455399061032\n"
     ]
    }
   ],
   "source": [
    "from sklearn.neighbors import KNeighborsClassifier\n",
    "estimator_KNN = KNeighborsClassifier(algorithm='auto')\n",
    "parameters_KNN = {\n",
    "    'n_neighbors': (1,10, 1),\n",
    "    'leaf_size': (20,40,1),\n",
    "    'p': (1,2),\n",
    "    'weights': ('uniform', 'distance'),\n",
    "    'metric': ('minkowski', 'chebyshev')}\n",
    "\n",
    "grid_search_KNN = GridSearchCV(\n",
    "    estimator=estimator_KNN,\n",
    "    param_grid=parameters_KNN,\n",
    "    scoring = 'accuracy',\n",
    "    n_jobs = -1,\n",
    "    cv = 5)\n",
    "\n",
    "grid_search_KNN.fit(train[features_columns], y_train)\n",
    "\n",
    "print(grid_search_KNN.best_params_)\n",
    "print(grid_search_KNN.best_score_)"
   ]
  },
  {
   "cell_type": "code",
   "execution_count": 28,
   "id": "a75e4bc8",
   "metadata": {},
   "outputs": [
    {
     "data": {
      "text/plain": [
       "0.7323943661971831"
      ]
     },
     "execution_count": 28,
     "metadata": {},
     "output_type": "execute_result"
    }
   ],
   "source": [
    "y_pred = grid_search_KNN.predict(test[features_columns])\n",
    "accuracy_score(y_test, y_pred)"
   ]
  },
  {
   "cell_type": "markdown",
   "id": "174990de",
   "metadata": {},
   "source": [
    "Лучшие результаты у KNN"
   ]
  },
  {
   "cell_type": "code",
   "execution_count": 32,
   "id": "87088086",
   "metadata": {},
   "outputs": [],
   "source": [
    "model = grid_search_KNN.best_estimator_"
   ]
  },
  {
   "cell_type": "code",
   "execution_count": 33,
   "id": "2c4dd36e",
   "metadata": {},
   "outputs": [
    {
     "data": {
      "text/plain": [
       "KNeighborsClassifier(algorithm='auto', leaf_size=20, metric='minkowski',\n",
       "                     metric_params=None, n_jobs=None, n_neighbors=10, p=2,\n",
       "                     weights='uniform')"
      ]
     },
     "execution_count": 33,
     "metadata": {},
     "output_type": "execute_result"
    }
   ],
   "source": [
    "model.fit(train[features_columns], y_train)"
   ]
  },
  {
   "cell_type": "code",
   "execution_count": 34,
   "id": "d1ed1d6a",
   "metadata": {},
   "outputs": [
    {
     "data": {
      "text/plain": [
       "0.7323943661971831"
      ]
     },
     "execution_count": 34,
     "metadata": {},
     "output_type": "execute_result"
    }
   ],
   "source": [
    "y_pred = model.predict(test[features_columns])\n",
    "accuracy_score(y_test, y_pred)"
   ]
  },
  {
   "cell_type": "code",
   "execution_count": 35,
   "id": "60d86e34",
   "metadata": {},
   "outputs": [
    {
     "name": "stdout",
     "output_type": "stream",
     "text": [
      "              precision    recall  f1-score   support\n",
      "\n",
      "     absence       0.72      0.93      0.81        59\n",
      "        both       0.33      0.18      0.24        38\n",
      "    negative       0.67      0.06      0.10        36\n",
      "     neutral       0.00      0.00      0.00         8\n",
      "    positive       0.77      0.92      0.84       214\n",
      "\n",
      "    accuracy                           0.73       355\n",
      "   macro avg       0.50      0.42      0.40       355\n",
      "weighted avg       0.69      0.73      0.68       355\n",
      "\n"
     ]
    },
    {
     "name": "stderr",
     "output_type": "stream",
     "text": [
      "/opt/homebrew/lib/python3.9/site-packages/sklearn/metrics/_classification.py:1272: UndefinedMetricWarning: Precision and F-score are ill-defined and being set to 0.0 in labels with no predicted samples. Use `zero_division` parameter to control this behavior.\n",
      "  _warn_prf(average, modifier, msg_start, len(result))\n"
     ]
    }
   ],
   "source": [
    "from sklearn.metrics import classification_report\n",
    "print(classification_report(y_test, y_pred, target_names=['absence', 'both', 'negative', 'neutral', 'positive']))"
   ]
  },
  {
   "cell_type": "code",
   "execution_count": 36,
   "id": "fdf70834",
   "metadata": {},
   "outputs": [
    {
     "name": "stdout",
     "output_type": "stream",
     "text": [
      "[[[275  21]\n",
      "  [  4  55]]\n",
      "\n",
      " [[303  14]\n",
      "  [ 31   7]]\n",
      "\n",
      " [[318   1]\n",
      "  [ 34   2]]\n",
      "\n",
      " [[347   0]\n",
      "  [  8   0]]\n",
      "\n",
      " [[ 82  59]\n",
      "  [ 18 196]]]\n"
     ]
    }
   ],
   "source": [
    "from sklearn.metrics import multilabel_confusion_matrix\n",
    "print(multilabel_confusion_matrix(y_test, y_pred, labels=[0,1,2,3,4]))"
   ]
  },
  {
   "cell_type": "code",
   "execution_count": 41,
   "id": "1ec01484",
   "metadata": {},
   "outputs": [],
   "source": [
    "mark_asp = pd.read_csv(\n",
    "    'dev_aspects_sentiment_pred.txt', \n",
    "    delimiter='\\t', \n",
    "    names=['text_id', 'category', 'mention', 'start', 'end', 'sentiment']\n",
    ")\n",
    "mark_cats = pd.read_csv('dev_cats.txt', delimiter='\\t', names=['text_id', 'category', 'sentiment'])\n",
    "makring = count_sentiments(mark_asp, mark_cats)"
   ]
  },
  {
   "cell_type": "code",
   "execution_count": 42,
   "id": "f1467c3c",
   "metadata": {},
   "outputs": [
    {
     "data": {
      "text/plain": [
       "positive    1005\n",
       "neutral       89\n",
       "negative      43\n",
       "Name: sentiment, dtype: int64"
      ]
     },
     "execution_count": 42,
     "metadata": {},
     "output_type": "execute_result"
    }
   ],
   "source": [
    "mark_asp['sentiment'].value_counts()"
   ]
  },
  {
   "cell_type": "code",
   "execution_count": 43,
   "id": "fdecec41",
   "metadata": {},
   "outputs": [],
   "source": [
    "y_pred = model.predict(makring[features_columns])"
   ]
  },
  {
   "cell_type": "code",
   "execution_count": 44,
   "id": "ad1b7ebc",
   "metadata": {},
   "outputs": [],
   "source": [
    "def get_markings(pred_df, y_pred):\n",
    "    in_df = pred_df\n",
    "    y_pred = le.inverse_transform(y_pred)\n",
    "    pred_df['sentiment'] = 0\n",
    "    pred_df['sentiment'] = y_pred\n",
    "    pred_df.drop(['positive', 'negative', 'both', 'neutral', 'index'], axis=1, inplace=True)\n",
    "    return pred_df"
   ]
  },
  {
   "cell_type": "code",
   "execution_count": 45,
   "id": "ce801022",
   "metadata": {},
   "outputs": [],
   "source": [
    "output = get_markings(makring, y_pred)"
   ]
  },
  {
   "cell_type": "code",
   "execution_count": 46,
   "id": "1e719f68",
   "metadata": {},
   "outputs": [
    {
     "data": {
      "text/html": [
       "<div>\n",
       "<style scoped>\n",
       "    .dataframe tbody tr th:only-of-type {\n",
       "        vertical-align: middle;\n",
       "    }\n",
       "\n",
       "    .dataframe tbody tr th {\n",
       "        vertical-align: top;\n",
       "    }\n",
       "\n",
       "    .dataframe thead th {\n",
       "        text-align: right;\n",
       "    }\n",
       "</style>\n",
       "<table border=\"1\" class=\"dataframe\">\n",
       "  <thead>\n",
       "    <tr style=\"text-align: right;\">\n",
       "      <th></th>\n",
       "      <th>text_id</th>\n",
       "      <th>category</th>\n",
       "      <th>sentiment</th>\n",
       "    </tr>\n",
       "  </thead>\n",
       "  <tbody>\n",
       "    <tr>\n",
       "      <th>0</th>\n",
       "      <td>785</td>\n",
       "      <td>Food</td>\n",
       "      <td>both</td>\n",
       "    </tr>\n",
       "    <tr>\n",
       "      <th>1</th>\n",
       "      <td>785</td>\n",
       "      <td>Interior</td>\n",
       "      <td>positive</td>\n",
       "    </tr>\n",
       "    <tr>\n",
       "      <th>2</th>\n",
       "      <td>785</td>\n",
       "      <td>Price</td>\n",
       "      <td>absence</td>\n",
       "    </tr>\n",
       "    <tr>\n",
       "      <th>3</th>\n",
       "      <td>785</td>\n",
       "      <td>Whole</td>\n",
       "      <td>positive</td>\n",
       "    </tr>\n",
       "    <tr>\n",
       "      <th>4</th>\n",
       "      <td>785</td>\n",
       "      <td>Service</td>\n",
       "      <td>positive</td>\n",
       "    </tr>\n",
       "    <tr>\n",
       "      <th>...</th>\n",
       "      <td>...</td>\n",
       "      <td>...</td>\n",
       "      <td>...</td>\n",
       "    </tr>\n",
       "    <tr>\n",
       "      <th>0</th>\n",
       "      <td>38299</td>\n",
       "      <td>Food</td>\n",
       "      <td>positive</td>\n",
       "    </tr>\n",
       "    <tr>\n",
       "      <th>1</th>\n",
       "      <td>38299</td>\n",
       "      <td>Interior</td>\n",
       "      <td>positive</td>\n",
       "    </tr>\n",
       "    <tr>\n",
       "      <th>2</th>\n",
       "      <td>38299</td>\n",
       "      <td>Price</td>\n",
       "      <td>absence</td>\n",
       "    </tr>\n",
       "    <tr>\n",
       "      <th>3</th>\n",
       "      <td>38299</td>\n",
       "      <td>Whole</td>\n",
       "      <td>positive</td>\n",
       "    </tr>\n",
       "    <tr>\n",
       "      <th>4</th>\n",
       "      <td>38299</td>\n",
       "      <td>Service</td>\n",
       "      <td>positive</td>\n",
       "    </tr>\n",
       "  </tbody>\n",
       "</table>\n",
       "<p>355 rows × 3 columns</p>\n",
       "</div>"
      ],
      "text/plain": [
       "    text_id  category sentiment\n",
       "0       785      Food      both\n",
       "1       785  Interior  positive\n",
       "2       785     Price   absence\n",
       "3       785     Whole  positive\n",
       "4       785   Service  positive\n",
       "..      ...       ...       ...\n",
       "0     38299      Food  positive\n",
       "1     38299  Interior  positive\n",
       "2     38299     Price   absence\n",
       "3     38299     Whole  positive\n",
       "4     38299   Service  positive\n",
       "\n",
       "[355 rows x 3 columns]"
      ]
     },
     "execution_count": 46,
     "metadata": {},
     "output_type": "execute_result"
    }
   ],
   "source": [
    "output"
   ]
  },
  {
   "cell_type": "code",
   "execution_count": 47,
   "id": "a3befa0b",
   "metadata": {},
   "outputs": [],
   "source": [
    "output.to_csv('dev_cats_output.txt', sep='\\t', header=False, index=False)"
   ]
  }
 ],
 "metadata": {
  "kernelspec": {
   "display_name": "Python 3 (ipykernel)",
   "language": "python",
   "name": "python3"
  },
  "language_info": {
   "codemirror_mode": {
    "name": "ipython",
    "version": 3
   },
   "file_extension": ".py",
   "mimetype": "text/x-python",
   "name": "python",
   "nbconvert_exporter": "python",
   "pygments_lexer": "ipython3",
   "version": "3.9.8"
  }
 },
 "nbformat": 4,
 "nbformat_minor": 5
}
