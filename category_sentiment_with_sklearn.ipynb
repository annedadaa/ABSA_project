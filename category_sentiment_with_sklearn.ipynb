{
 "cells": [
  {
   "cell_type": "code",
   "execution_count": 218,
   "id": "95c38abc",
   "metadata": {},
   "outputs": [],
   "source": [
    "import pandas as pd\n",
    "from sklearn.model_selection import train_test_split\n",
    "from sklearn import preprocessing"
   ]
  },
  {
   "cell_type": "markdown",
   "id": "cddaddbc",
   "metadata": {},
   "source": [
    "Посчитаем сколько упоминаний каждого типа тональности содержит каждая категория. Для этого нам понадобится файл с размеченными упоминаниями категорий и тональностью каждого упоминания"
   ]
  },
  {
   "cell_type": "code",
   "execution_count": 219,
   "id": "a9555985",
   "metadata": {},
   "outputs": [],
   "source": [
    "def count_sentiments(df_asp, df_sent):\n",
    "    text_ids = df_asp['text_id'].unique()\n",
    "    frames = []\n",
    "    for j in text_ids:\n",
    "        neutral = {'Whole':0, 'Service':0, 'Food':0, 'Interior':0, 'Price':0}\n",
    "        frequency = {'Whole':0, 'Service':0, 'Food':0, 'Interior':0, 'Price':0}\n",
    "        both = {'Whole':0, 'Service':0, 'Food':0, 'Interior':0, 'Price':0}\n",
    "        positive = {'Whole':0, 'Service':0, 'Food':0, 'Interior':0, 'Price':0}\n",
    "        negative = {'Whole':0, 'Service':0, 'Food':0, 'Interior':0, 'Price':0}\n",
    "        asp_slice = df_asp.loc[df_asp['text_id']==j]\n",
    "        asp_slice = asp_slice.reset_index()\n",
    "        for i in range(len(asp_slice)):\n",
    "            if asp_slice['sentiment'][i] == 'neutral':\n",
    "                neutral[asp_slice['category'][i]] +=1\n",
    "            if asp_slice['sentiment'][i] == 'positive':\n",
    "                positive[asp_slice['category'][i]] +=1\n",
    "            if asp_slice['sentiment'][i] == 'negative':\n",
    "                negative[asp_slice['category'][i]] +=1\n",
    "            if asp_slice['sentiment'][i] == 'both':\n",
    "                both[asp_slice['category'][i]] +=1\n",
    "        sent_slice = df_sent.loc[df_sent['text_id']==j]\n",
    "        sent_slice = sent_slice.reset_index()\n",
    "        sent_slice['positive'] = 0\n",
    "        sent_slice['negative'] = 0\n",
    "        sent_slice['both'] = 0\n",
    "        sent_slice['neutral'] = 0\n",
    "        for i in range(5):\n",
    "            sent_slice.at[i,'positive'] = positive[sent_slice['category'][i]]\n",
    "            sent_slice.at[i, 'negative'] = negative[sent_slice['category'][i]]\n",
    "            sent_slice.at[i, 'both'] = both[sent_slice['category'][i]]\n",
    "            sent_slice.at[i, 'neutral'] = neutral[sent_slice['category'][i]]\n",
    "        frames.append(sent_slice)\n",
    "    return pd.concat(frames)"
   ]
  },
  {
   "cell_type": "code",
   "execution_count": 220,
   "id": "862452e9",
   "metadata": {},
   "outputs": [],
   "source": [
    "train_asp = pd.read_csv(\n",
    "    'train_split_aspects.txt', \n",
    "    delimiter='\\t', \n",
    "    names=['text_id', 'category', 'mention', 'start', 'end', 'sentiment']\n",
    ")\n",
    "train_sent = pd.read_csv(\n",
    "    'train_split_cats.txt',\n",
    "    delimiter='\\t',\n",
    "    names=['text_id', 'category', 'sentiment'])\n",
    "result = count_sentiments(train_asp, train_sent)"
   ]
  },
  {
   "cell_type": "code",
   "execution_count": 221,
   "id": "e011f740",
   "metadata": {},
   "outputs": [],
   "source": [
    "dev_cats = pd.read_csv('dev_cats.txt', delimiter='\\t', names=['text_id', 'category', 'sentiment'])\n",
    "d_asp = pd.read_csv('dev_aspects.txt',  delimiter='\\t', names=['text_id', 'category', 'text', 'start', 'end', 'sentiment'])\n",
    "dev_cats = count_sentiments(d_asp, dev_cats)"
   ]
  },
  {
   "cell_type": "code",
   "execution_count": 222,
   "id": "1f16a600",
   "metadata": {},
   "outputs": [],
   "source": [
    "train = result\n",
    "test = dev_cats"
   ]
  },
  {
   "cell_type": "code",
   "execution_count": 223,
   "id": "c720b522",
   "metadata": {},
   "outputs": [],
   "source": [
    "le = preprocessing.LabelEncoder()\n",
    "y_train = le.fit_transform(train['sentiment'])\n",
    "y_train = train['sentiment']"
   ]
  },
  {
   "cell_type": "code",
   "execution_count": 224,
   "id": "6411ee7e",
   "metadata": {},
   "outputs": [],
   "source": [
    "features_columns = ['positive', 'negative', 'both', 'neutral']"
   ]
  },
  {
   "cell_type": "markdown",
   "id": "612980a6",
   "metadata": {},
   "source": [
    "Будем использовать гридсерч на SVM, Decision Tree и KNN классификаторах"
   ]
  },
  {
   "cell_type": "code",
   "execution_count": 186,
   "id": "9384436b",
   "metadata": {},
   "outputs": [
    {
     "name": "stdout",
     "output_type": "stream",
     "text": [
      "0.8134237550305681\n",
      "{'class_weight': 'balanced', 'decision_function_shape': 'ovo', 'gamma': 'scale', 'kernel': 'linear', 'shrinking': False}\n"
     ]
    }
   ],
   "source": [
    "from sklearn.model_selection import cross_val_score, GridSearchCV\n",
    "from sklearn.model_selection import GridSearchCV\n",
    "from sklearn import svm\n",
    "from sklearn.svm import LinearSVC\n",
    "clf = svm.SVC()\n",
    "parameters_svm = {'kernel': ('linear', 'poly', 'rbf', 'sigmoid'),\n",
    "                  'gamma': ('scale', 'auto'),\n",
    "                  'shrinking': (True, False),\n",
    "               'class_weight': ('balanced', None),\n",
    "                 'decision_function_shape': ('ovo', 'ovr')}\n",
    "\n",
    "\n",
    "grid_search_SVM = GridSearchCV(clf, parameters_svm, n_jobs=-1, scoring = \"f1_weighted\")\n",
    "grid_search_SVM = grid_search_SVM.fit(train[features_columns], y_train)\n",
    "\n",
    "\n",
    "print(grid_search_SVM.best_score_)\n",
    "print(grid_search_SVM.best_params_)"
   ]
  },
  {
   "cell_type": "code",
   "execution_count": 187,
   "id": "79a24558",
   "metadata": {},
   "outputs": [],
   "source": [
    "y_test = le.transform(test['sentiment'])\n",
    "y_pred = gs_clf_svm.predict(test[features_columns])"
   ]
  },
  {
   "cell_type": "code",
   "execution_count": 188,
   "id": "51cc37b3",
   "metadata": {},
   "outputs": [
    {
     "data": {
      "text/plain": [
       "0.8084507042253521"
      ]
     },
     "execution_count": 188,
     "metadata": {},
     "output_type": "execute_result"
    }
   ],
   "source": [
    "accuracy_score(y_test, y_pred)"
   ]
  },
  {
   "cell_type": "code",
   "execution_count": 189,
   "id": "d503b7f7",
   "metadata": {},
   "outputs": [
    {
     "name": "stdout",
     "output_type": "stream",
     "text": [
      "Fitting 5 folds for each of 336 candidates, totalling 1680 fits\n"
     ]
    },
    {
     "name": "stderr",
     "output_type": "stream",
     "text": [
      "[Parallel(n_jobs=1)]: Using backend SequentialBackend with 1 concurrent workers.\n"
     ]
    },
    {
     "name": "stdout",
     "output_type": "stream",
     "text": [
      "{'ccp_alpha': 0.01, 'criterion': 'entropy', 'max_depth': 9, 'max_features': 'auto'}\n",
      "0.8178403755868546\n"
     ]
    },
    {
     "name": "stderr",
     "output_type": "stream",
     "text": [
      "[Parallel(n_jobs=1)]: Done 1680 out of 1680 | elapsed:    1.9s finished\n"
     ]
    }
   ],
   "source": [
    "from sklearn.tree import DecisionTreeClassifier\n",
    "param_grid = {'max_features': ['auto', 'sqrt', 'log2'],\n",
    "              'ccp_alpha': [1, .1, .01, 0.12, 0.15, 0.17, 0.2, .001],\n",
    "              'max_depth' : [3, 5, 6, 7, 8, 9, 10],\n",
    "              'criterion' :['gini', 'entropy']\n",
    "             }\n",
    "tree_clas = DecisionTreeClassifier(random_state=1024)\n",
    "grid_search_DTC = GridSearchCV(estimator=tree_clas, param_grid=param_grid, cv=5, verbose=True)\n",
    "grid_search_DTC.fit(train[features_columns], y_train)\n",
    "print(grid_search_DTC.best_params_)\n",
    "print(grid_search_DTC.best_score_)"
   ]
  },
  {
   "cell_type": "code",
   "execution_count": 190,
   "id": "9ad5fbba",
   "metadata": {},
   "outputs": [
    {
     "data": {
      "text/plain": [
       "0.8394366197183099"
      ]
     },
     "execution_count": 190,
     "metadata": {},
     "output_type": "execute_result"
    }
   ],
   "source": [
    "y_pred = grid_search.predict(test[features_columns])\n",
    "accuracy_score(y_test, y_pred)"
   ]
  },
  {
   "cell_type": "code",
   "execution_count": 139,
   "id": "aa2c7d99",
   "metadata": {},
   "outputs": [
    {
     "name": "stdout",
     "output_type": "stream",
     "text": [
      "{'leaf_size': 20, 'metric': 'minkowski', 'n_neighbors': 10, 'p': 2, 'weights': 'uniform'}\n",
      "0.8131455399061032\n"
     ]
    }
   ],
   "source": [
    "from sklearn.neighbors import KNeighborsClassifier\n",
    "estimator_KNN = KNeighborsClassifier(algorithm='auto')\n",
    "parameters_KNN = {\n",
    "    'n_neighbors': (1,10, 1),\n",
    "    'leaf_size': (20,40,1),\n",
    "    'p': (1,2),\n",
    "    'weights': ('uniform', 'distance'),\n",
    "    'metric': ('minkowski', 'chebyshev')}\n",
    "\n",
    "grid_search_KNN = GridSearchCV(\n",
    "    estimator=estimator_KNN,\n",
    "    param_grid=parameters_KNN,\n",
    "    scoring = 'accuracy',\n",
    "    n_jobs = -1,\n",
    "    cv = 5)\n",
    "\n",
    "grid_search_KNN.fit(train[features_columns], y_train)\n",
    "\n",
    "print(grid_search_KNN.best_params_)\n",
    "print(grid_search_KNN.best_score_)"
   ]
  },
  {
   "cell_type": "code",
   "execution_count": 140,
   "id": "727096df",
   "metadata": {},
   "outputs": [
    {
     "data": {
      "text/plain": [
       "0.819718309859155"
      ]
     },
     "execution_count": 140,
     "metadata": {},
     "output_type": "execute_result"
    }
   ],
   "source": [
    "y_pred = grid_search_KNN.predict(test[features_columns])\n",
    "accuracy_score(y_test, y_pred)"
   ]
  },
  {
   "cell_type": "markdown",
   "id": "38644b79",
   "metadata": {},
   "source": [
    "Лучшие результаты у Decision Tree"
   ]
  },
  {
   "cell_type": "code",
   "execution_count": 141,
   "id": "870828d8",
   "metadata": {},
   "outputs": [],
   "source": [
    "model = grid_search_DTC.best_estimator_"
   ]
  },
  {
   "cell_type": "code",
   "execution_count": 142,
   "id": "5bc9d2cc",
   "metadata": {},
   "outputs": [
    {
     "data": {
      "text/plain": [
       "DecisionTreeClassifier(ccp_alpha=0.01, class_weight=None, criterion='entropy',\n",
       "                       max_depth=9, max_features='auto', max_leaf_nodes=None,\n",
       "                       min_impurity_decrease=0.0, min_impurity_split=None,\n",
       "                       min_samples_leaf=1, min_samples_split=2,\n",
       "                       min_weight_fraction_leaf=0.0, presort='deprecated',\n",
       "                       random_state=1024, splitter='best')"
      ]
     },
     "execution_count": 142,
     "metadata": {},
     "output_type": "execute_result"
    }
   ],
   "source": [
    "model.fit(train[features_columns], y_train)"
   ]
  },
  {
   "cell_type": "code",
   "execution_count": 143,
   "id": "16659df9",
   "metadata": {},
   "outputs": [
    {
     "data": {
      "text/plain": [
       "0.8394366197183099"
      ]
     },
     "execution_count": 143,
     "metadata": {},
     "output_type": "execute_result"
    }
   ],
   "source": [
    "y_pred = model.predict(test[features_columns])\n",
    "accuracy_score(y_test, y_pred)"
   ]
  },
  {
   "cell_type": "code",
   "execution_count": 163,
   "id": "80aed1f5",
   "metadata": {},
   "outputs": [
    {
     "name": "stdout",
     "output_type": "stream",
     "text": [
      "              precision    recall  f1-score   support\n",
      "\n",
      "     absence       0.84      0.88      0.86        59\n",
      "        both       0.56      0.74      0.64        38\n",
      "    negative       0.87      0.56      0.68        36\n",
      "     neutral       0.43      0.75      0.55         8\n",
      "    positive       0.93      0.90      0.91       214\n",
      "\n",
      "    accuracy                           0.84       355\n",
      "   macro avg       0.73      0.76      0.73       355\n",
      "weighted avg       0.86      0.84      0.84       355\n",
      "\n"
     ]
    }
   ],
   "source": [
    "from sklearn.metrics import classification_report\n",
    "print(classification_report(y_test, y_pred, target_names=['absence', 'both', 'negative', 'neutral', 'positive']))"
   ]
  },
  {
   "cell_type": "code",
   "execution_count": 166,
   "id": "3125e2f5",
   "metadata": {},
   "outputs": [
    {
     "name": "stdout",
     "output_type": "stream",
     "text": [
      "[[[286  10]\n",
      "  [  7  52]]\n",
      "\n",
      " [[295  22]\n",
      "  [ 10  28]]\n",
      "\n",
      " [[316   3]\n",
      "  [ 16  20]]\n",
      "\n",
      " [[339   8]\n",
      "  [  2   6]]\n",
      "\n",
      " [[127  14]\n",
      "  [ 22 192]]]\n"
     ]
    }
   ],
   "source": [
    "from sklearn.metrics import multilabel_confusion_matrix\n",
    "print(multilabel_confusion_matrix(y_test, y_pred, labels=[0,1,2,3,4]))"
   ]
  },
  {
   "cell_type": "code",
   "execution_count": 267,
   "id": "0b4817d6",
   "metadata": {},
   "outputs": [],
   "source": [
    "mark_asp = pd.read_csv(\n",
    "    'dev_aspects_sentiment_pred.txt', \n",
    "    delimiter='\\t', \n",
    "    names=['text_id', 'category', 'mention', 'start', 'end', 'sentiment']\n",
    ")\n",
    "mark_cats = pd.read_csv('dev_cats.txt', delimiter='\\t', names=['text_id', 'category', 'sentiment'])\n",
    "makring = count_sentiments(mark_asp, mark_cats)"
   ]
  },
  {
   "cell_type": "code",
   "execution_count": 269,
   "id": "64791ae9",
   "metadata": {},
   "outputs": [],
   "source": [
    "y_pred = model.predict(makring[features_columns])"
   ]
  },
  {
   "cell_type": "code",
   "execution_count": 270,
   "id": "f4853b16",
   "metadata": {},
   "outputs": [],
   "source": [
    "def get_markings(pred_df, y_pred):\n",
    "    in_df = pred_df\n",
    "    y_pred = le.inverse_transform(y_pred)\n",
    "    pred_df['sentiment'] = 0\n",
    "    pred_df['sentiment'] = y_pred\n",
    "    pred_df.drop(['positive', 'negative', 'both', 'neutral', 'index'], axis=1, inplace=True)\n",
    "    return pred_df"
   ]
  },
  {
   "cell_type": "code",
   "execution_count": 271,
   "id": "eb8755a9",
   "metadata": {},
   "outputs": [],
   "source": [
    "output = get_markings(makring, y_pred)"
   ]
  },
  {
   "cell_type": "code",
   "execution_count": 273,
   "id": "b8763c68",
   "metadata": {},
   "outputs": [
    {
     "data": {
      "text/html": [
       "<div>\n",
       "<style scoped>\n",
       "    .dataframe tbody tr th:only-of-type {\n",
       "        vertical-align: middle;\n",
       "    }\n",
       "\n",
       "    .dataframe tbody tr th {\n",
       "        vertical-align: top;\n",
       "    }\n",
       "\n",
       "    .dataframe thead th {\n",
       "        text-align: right;\n",
       "    }\n",
       "</style>\n",
       "<table border=\"1\" class=\"dataframe\">\n",
       "  <thead>\n",
       "    <tr style=\"text-align: right;\">\n",
       "      <th></th>\n",
       "      <th>text_id</th>\n",
       "      <th>category</th>\n",
       "      <th>sentiment</th>\n",
       "    </tr>\n",
       "  </thead>\n",
       "  <tbody>\n",
       "    <tr>\n",
       "      <th>0</th>\n",
       "      <td>785</td>\n",
       "      <td>Food</td>\n",
       "      <td>both</td>\n",
       "    </tr>\n",
       "    <tr>\n",
       "      <th>1</th>\n",
       "      <td>785</td>\n",
       "      <td>Interior</td>\n",
       "      <td>positive</td>\n",
       "    </tr>\n",
       "    <tr>\n",
       "      <th>2</th>\n",
       "      <td>785</td>\n",
       "      <td>Price</td>\n",
       "      <td>absence</td>\n",
       "    </tr>\n",
       "    <tr>\n",
       "      <th>3</th>\n",
       "      <td>785</td>\n",
       "      <td>Whole</td>\n",
       "      <td>positive</td>\n",
       "    </tr>\n",
       "    <tr>\n",
       "      <th>4</th>\n",
       "      <td>785</td>\n",
       "      <td>Service</td>\n",
       "      <td>positive</td>\n",
       "    </tr>\n",
       "    <tr>\n",
       "      <th>...</th>\n",
       "      <td>...</td>\n",
       "      <td>...</td>\n",
       "      <td>...</td>\n",
       "    </tr>\n",
       "    <tr>\n",
       "      <th>0</th>\n",
       "      <td>38299</td>\n",
       "      <td>Food</td>\n",
       "      <td>positive</td>\n",
       "    </tr>\n",
       "    <tr>\n",
       "      <th>1</th>\n",
       "      <td>38299</td>\n",
       "      <td>Interior</td>\n",
       "      <td>positive</td>\n",
       "    </tr>\n",
       "    <tr>\n",
       "      <th>2</th>\n",
       "      <td>38299</td>\n",
       "      <td>Price</td>\n",
       "      <td>absence</td>\n",
       "    </tr>\n",
       "    <tr>\n",
       "      <th>3</th>\n",
       "      <td>38299</td>\n",
       "      <td>Whole</td>\n",
       "      <td>positive</td>\n",
       "    </tr>\n",
       "    <tr>\n",
       "      <th>4</th>\n",
       "      <td>38299</td>\n",
       "      <td>Service</td>\n",
       "      <td>positive</td>\n",
       "    </tr>\n",
       "  </tbody>\n",
       "</table>\n",
       "<p>355 rows × 3 columns</p>\n",
       "</div>"
      ],
      "text/plain": [
       "    text_id  category sentiment\n",
       "0       785      Food      both\n",
       "1       785  Interior  positive\n",
       "2       785     Price   absence\n",
       "3       785     Whole  positive\n",
       "4       785   Service  positive\n",
       "..      ...       ...       ...\n",
       "0     38299      Food  positive\n",
       "1     38299  Interior  positive\n",
       "2     38299     Price   absence\n",
       "3     38299     Whole  positive\n",
       "4     38299   Service  positive\n",
       "\n",
       "[355 rows x 3 columns]"
      ]
     },
     "execution_count": 273,
     "metadata": {},
     "output_type": "execute_result"
    }
   ],
   "source": [
    "output"
   ]
  },
  {
   "cell_type": "code",
   "execution_count": 272,
   "id": "59826861",
   "metadata": {},
   "outputs": [],
   "source": [
    "output.to_csv('dev_cats_output.txt', sep='\\t', header=False, index=False)"
   ]
  }
 ],
 "metadata": {
  "kernelspec": {
   "display_name": "Python 3 (ipykernel)",
   "language": "python",
   "name": "python3"
  },
  "language_info": {
   "codemirror_mode": {
    "name": "ipython",
    "version": 3
   },
   "file_extension": ".py",
   "mimetype": "text/x-python",
   "name": "python",
   "nbconvert_exporter": "python",
   "pygments_lexer": "ipython3",
   "version": "3.9.8"
  }
 },
 "nbformat": 4,
 "nbformat_minor": 5
}
