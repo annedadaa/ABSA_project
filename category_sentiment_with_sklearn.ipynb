{
  "cells": [
    {
      "cell_type": "code",
      "execution_count": 1,
      "id": "95c38abc",
      "metadata": {
        "id": "95c38abc"
      },
      "outputs": [],
      "source": [
        "import pandas as pd\n",
        "from sklearn.model_selection import train_test_split\n",
        "from sklearn import preprocessing"
      ]
    },
    {
      "cell_type": "code",
      "source": [
        "!wget https://raw.githubusercontent.com/named-entity/hse-nlp/master/4th_year/Project/dev_aspects.txt\n",
        "!wget https://raw.githubusercontent.com/named-entity/hse-nlp/master/4th_year/Project/dev_cats.txt\n",
        "!wget https://raw.githubusercontent.com/named-entity/hse-nlp/master/4th_year/Project/train_split_aspects.txt\n",
        "!wget https://raw.githubusercontent.com/named-entity/hse-nlp/master/4th_year/Project/train_split_cats.txt\n",
        "!wget https://raw.githubusercontent.com/annedadaa/ABSA_project/main/dev_pred_aspects_ours.txt"
      ],
      "metadata": {
        "id": "DKTD2SwwhBuv"
      },
      "id": "DKTD2SwwhBuv",
      "execution_count": null,
      "outputs": []
    },
    {
      "cell_type": "markdown",
      "id": "e3e8dc2f",
      "metadata": {
        "id": "e3e8dc2f"
      },
      "source": [
        "Посчитаем сколько упоминаний каждого типа тональности содержит каждая категория. Для этого нам понадобится файл с размеченными упоминаниями категорий и тональностью каждого упоминания"
      ]
    },
    {
      "cell_type": "code",
      "execution_count": 9,
      "id": "a9555985",
      "metadata": {
        "id": "a9555985"
      },
      "outputs": [],
      "source": [
        "def count_sentiments(df_asp, df_sent):\n",
        "    text_ids = df_asp['text_id'].unique()\n",
        "    frames = []\n",
        "    for j in text_ids:\n",
        "        neutral = {'Whole':0, 'Service':0, 'Food':0, 'Interior':0, 'Price':0}\n",
        "        frequency = {'Whole':0, 'Service':0, 'Food':0, 'Interior':0, 'Price':0}\n",
        "        both = {'Whole':0, 'Service':0, 'Food':0, 'Interior':0, 'Price':0}\n",
        "        positive = {'Whole':0, 'Service':0, 'Food':0, 'Interior':0, 'Price':0}\n",
        "        negative = {'Whole':0, 'Service':0, 'Food':0, 'Interior':0, 'Price':0}\n",
        "        asp_slice = df_asp.loc[df_asp['text_id']==j]\n",
        "        asp_slice = asp_slice.reset_index()\n",
        "        for i in range(len(asp_slice)):\n",
        "            if asp_slice['sentiment'][i] == 'neutral':\n",
        "                neutral[asp_slice['category'][i]] +=1\n",
        "            if asp_slice['sentiment'][i] == 'positive':\n",
        "                positive[asp_slice['category'][i]] +=1\n",
        "            if asp_slice['sentiment'][i] == 'negative':\n",
        "                negative[asp_slice['category'][i]] +=1\n",
        "            if asp_slice['sentiment'][i] == 'both':\n",
        "                both[asp_slice['category'][i]] +=1\n",
        "        sent_slice = df_sent.loc[df_sent['text_id']==j]\n",
        "        sent_slice = sent_slice.reset_index()\n",
        "        sent_slice['positive'] = 0\n",
        "        sent_slice['negative'] = 0\n",
        "        sent_slice['both'] = 0\n",
        "        sent_slice['neutral'] = 0\n",
        "        for i in range(5):\n",
        "            sent_slice.at[i,'positive'] = positive[sent_slice['category'][i]]\n",
        "            sent_slice.at[i, 'negative'] = negative[sent_slice['category'][i]]\n",
        "            sent_slice.at[i, 'both'] = both[sent_slice['category'][i]]\n",
        "            sent_slice.at[i, 'neutral'] = neutral[sent_slice['category'][i]]\n",
        "        frames.append(sent_slice)\n",
        "    return pd.concat(frames)"
      ]
    },
    {
      "cell_type": "code",
      "execution_count": 10,
      "id": "862452e9",
      "metadata": {
        "id": "862452e9"
      },
      "outputs": [],
      "source": [
        "train_asp = pd.read_csv(\n",
        "    'train_split_aspects.txt', \n",
        "    delimiter='\\t', \n",
        "    names=['text_id', 'category', 'mention', 'start', 'end', 'sentiment']\n",
        ")\n",
        "train_sent = pd.read_csv(\n",
        "    'train_split_cats.txt',\n",
        "    delimiter='\\t',\n",
        "    names=['text_id', 'category', 'sentiment'])\n",
        "result = count_sentiments(train_asp, train_sent)"
      ]
    },
    {
      "cell_type": "code",
      "execution_count": 15,
      "id": "87f9d2e8",
      "metadata": {
        "id": "87f9d2e8"
      },
      "outputs": [],
      "source": [
        "dev_cats = pd.read_csv('dev_cats.txt', delimiter='\\t', names=['text_id', 'category', 'sentiment'])\n",
        "d_asp = pd.read_csv('dev_pred_aspects_ours.txt',  delimiter='\\t', names=['text_id', 'category', 'text', 'start', 'end', 'sentiment'])\n",
        "dev_cats = count_sentiments(d_asp, dev_cats)"
      ]
    },
    {
      "cell_type": "code",
      "execution_count": 16,
      "id": "1f16a600",
      "metadata": {
        "colab": {
          "base_uri": "https://localhost:8080/",
          "height": 419
        },
        "id": "1f16a600",
        "outputId": "82dcdf4e-2be4-4ce0-e3b7-b2c37c704ea2"
      },
      "outputs": [
        {
          "output_type": "execute_result",
          "data": {
            "text/html": [
              "\n",
              "  <div id=\"df-abe4fc75-f473-4b23-ae73-9b96cf5f6719\">\n",
              "    <div class=\"colab-df-container\">\n",
              "      <div>\n",
              "<style scoped>\n",
              "    .dataframe tbody tr th:only-of-type {\n",
              "        vertical-align: middle;\n",
              "    }\n",
              "\n",
              "    .dataframe tbody tr th {\n",
              "        vertical-align: top;\n",
              "    }\n",
              "\n",
              "    .dataframe thead th {\n",
              "        text-align: right;\n",
              "    }\n",
              "</style>\n",
              "<table border=\"1\" class=\"dataframe\">\n",
              "  <thead>\n",
              "    <tr style=\"text-align: right;\">\n",
              "      <th></th>\n",
              "      <th>index</th>\n",
              "      <th>text_id</th>\n",
              "      <th>category</th>\n",
              "      <th>sentiment</th>\n",
              "      <th>positive</th>\n",
              "      <th>negative</th>\n",
              "      <th>both</th>\n",
              "      <th>neutral</th>\n",
              "    </tr>\n",
              "  </thead>\n",
              "  <tbody>\n",
              "    <tr>\n",
              "      <th>0</th>\n",
              "      <td>210</td>\n",
              "      <td>785</td>\n",
              "      <td>Food</td>\n",
              "      <td>both</td>\n",
              "      <td>1</td>\n",
              "      <td>1</td>\n",
              "      <td>0</td>\n",
              "      <td>0</td>\n",
              "    </tr>\n",
              "    <tr>\n",
              "      <th>1</th>\n",
              "      <td>211</td>\n",
              "      <td>785</td>\n",
              "      <td>Interior</td>\n",
              "      <td>positive</td>\n",
              "      <td>1</td>\n",
              "      <td>0</td>\n",
              "      <td>0</td>\n",
              "      <td>0</td>\n",
              "    </tr>\n",
              "    <tr>\n",
              "      <th>2</th>\n",
              "      <td>212</td>\n",
              "      <td>785</td>\n",
              "      <td>Price</td>\n",
              "      <td>negative</td>\n",
              "      <td>0</td>\n",
              "      <td>0</td>\n",
              "      <td>0</td>\n",
              "      <td>0</td>\n",
              "    </tr>\n",
              "    <tr>\n",
              "      <th>3</th>\n",
              "      <td>213</td>\n",
              "      <td>785</td>\n",
              "      <td>Whole</td>\n",
              "      <td>both</td>\n",
              "      <td>1</td>\n",
              "      <td>0</td>\n",
              "      <td>0</td>\n",
              "      <td>0</td>\n",
              "    </tr>\n",
              "    <tr>\n",
              "      <th>4</th>\n",
              "      <td>214</td>\n",
              "      <td>785</td>\n",
              "      <td>Service</td>\n",
              "      <td>positive</td>\n",
              "      <td>2</td>\n",
              "      <td>0</td>\n",
              "      <td>0</td>\n",
              "      <td>0</td>\n",
              "    </tr>\n",
              "    <tr>\n",
              "      <th>...</th>\n",
              "      <td>...</td>\n",
              "      <td>...</td>\n",
              "      <td>...</td>\n",
              "      <td>...</td>\n",
              "      <td>...</td>\n",
              "      <td>...</td>\n",
              "      <td>...</td>\n",
              "      <td>...</td>\n",
              "    </tr>\n",
              "    <tr>\n",
              "      <th>0</th>\n",
              "      <td>315</td>\n",
              "      <td>38299</td>\n",
              "      <td>Food</td>\n",
              "      <td>positive</td>\n",
              "      <td>8</td>\n",
              "      <td>0</td>\n",
              "      <td>0</td>\n",
              "      <td>0</td>\n",
              "    </tr>\n",
              "    <tr>\n",
              "      <th>1</th>\n",
              "      <td>316</td>\n",
              "      <td>38299</td>\n",
              "      <td>Interior</td>\n",
              "      <td>positive</td>\n",
              "      <td>3</td>\n",
              "      <td>0</td>\n",
              "      <td>0</td>\n",
              "      <td>0</td>\n",
              "    </tr>\n",
              "    <tr>\n",
              "      <th>2</th>\n",
              "      <td>317</td>\n",
              "      <td>38299</td>\n",
              "      <td>Price</td>\n",
              "      <td>absence</td>\n",
              "      <td>0</td>\n",
              "      <td>0</td>\n",
              "      <td>0</td>\n",
              "      <td>0</td>\n",
              "    </tr>\n",
              "    <tr>\n",
              "      <th>3</th>\n",
              "      <td>318</td>\n",
              "      <td>38299</td>\n",
              "      <td>Whole</td>\n",
              "      <td>positive</td>\n",
              "      <td>1</td>\n",
              "      <td>0</td>\n",
              "      <td>0</td>\n",
              "      <td>1</td>\n",
              "    </tr>\n",
              "    <tr>\n",
              "      <th>4</th>\n",
              "      <td>319</td>\n",
              "      <td>38299</td>\n",
              "      <td>Service</td>\n",
              "      <td>positive</td>\n",
              "      <td>2</td>\n",
              "      <td>0</td>\n",
              "      <td>0</td>\n",
              "      <td>1</td>\n",
              "    </tr>\n",
              "  </tbody>\n",
              "</table>\n",
              "<p>355 rows × 8 columns</p>\n",
              "</div>\n",
              "      <button class=\"colab-df-convert\" onclick=\"convertToInteractive('df-abe4fc75-f473-4b23-ae73-9b96cf5f6719')\"\n",
              "              title=\"Convert this dataframe to an interactive table.\"\n",
              "              style=\"display:none;\">\n",
              "        \n",
              "  <svg xmlns=\"http://www.w3.org/2000/svg\" height=\"24px\"viewBox=\"0 0 24 24\"\n",
              "       width=\"24px\">\n",
              "    <path d=\"M0 0h24v24H0V0z\" fill=\"none\"/>\n",
              "    <path d=\"M18.56 5.44l.94 2.06.94-2.06 2.06-.94-2.06-.94-.94-2.06-.94 2.06-2.06.94zm-11 1L8.5 8.5l.94-2.06 2.06-.94-2.06-.94L8.5 2.5l-.94 2.06-2.06.94zm10 10l.94 2.06.94-2.06 2.06-.94-2.06-.94-.94-2.06-.94 2.06-2.06.94z\"/><path d=\"M17.41 7.96l-1.37-1.37c-.4-.4-.92-.59-1.43-.59-.52 0-1.04.2-1.43.59L10.3 9.45l-7.72 7.72c-.78.78-.78 2.05 0 2.83L4 21.41c.39.39.9.59 1.41.59.51 0 1.02-.2 1.41-.59l7.78-7.78 2.81-2.81c.8-.78.8-2.07 0-2.86zM5.41 20L4 18.59l7.72-7.72 1.47 1.35L5.41 20z\"/>\n",
              "  </svg>\n",
              "      </button>\n",
              "      \n",
              "  <style>\n",
              "    .colab-df-container {\n",
              "      display:flex;\n",
              "      flex-wrap:wrap;\n",
              "      gap: 12px;\n",
              "    }\n",
              "\n",
              "    .colab-df-convert {\n",
              "      background-color: #E8F0FE;\n",
              "      border: none;\n",
              "      border-radius: 50%;\n",
              "      cursor: pointer;\n",
              "      display: none;\n",
              "      fill: #1967D2;\n",
              "      height: 32px;\n",
              "      padding: 0 0 0 0;\n",
              "      width: 32px;\n",
              "    }\n",
              "\n",
              "    .colab-df-convert:hover {\n",
              "      background-color: #E2EBFA;\n",
              "      box-shadow: 0px 1px 2px rgba(60, 64, 67, 0.3), 0px 1px 3px 1px rgba(60, 64, 67, 0.15);\n",
              "      fill: #174EA6;\n",
              "    }\n",
              "\n",
              "    [theme=dark] .colab-df-convert {\n",
              "      background-color: #3B4455;\n",
              "      fill: #D2E3FC;\n",
              "    }\n",
              "\n",
              "    [theme=dark] .colab-df-convert:hover {\n",
              "      background-color: #434B5C;\n",
              "      box-shadow: 0px 1px 3px 1px rgba(0, 0, 0, 0.15);\n",
              "      filter: drop-shadow(0px 1px 2px rgba(0, 0, 0, 0.3));\n",
              "      fill: #FFFFFF;\n",
              "    }\n",
              "  </style>\n",
              "\n",
              "      <script>\n",
              "        const buttonEl =\n",
              "          document.querySelector('#df-abe4fc75-f473-4b23-ae73-9b96cf5f6719 button.colab-df-convert');\n",
              "        buttonEl.style.display =\n",
              "          google.colab.kernel.accessAllowed ? 'block' : 'none';\n",
              "\n",
              "        async function convertToInteractive(key) {\n",
              "          const element = document.querySelector('#df-abe4fc75-f473-4b23-ae73-9b96cf5f6719');\n",
              "          const dataTable =\n",
              "            await google.colab.kernel.invokeFunction('convertToInteractive',\n",
              "                                                     [key], {});\n",
              "          if (!dataTable) return;\n",
              "\n",
              "          const docLinkHtml = 'Like what you see? Visit the ' +\n",
              "            '<a target=\"_blank\" href=https://colab.research.google.com/notebooks/data_table.ipynb>data table notebook</a>'\n",
              "            + ' to learn more about interactive tables.';\n",
              "          element.innerHTML = '';\n",
              "          dataTable['output_type'] = 'display_data';\n",
              "          await google.colab.output.renderOutput(dataTable, element);\n",
              "          const docLink = document.createElement('div');\n",
              "          docLink.innerHTML = docLinkHtml;\n",
              "          element.appendChild(docLink);\n",
              "        }\n",
              "      </script>\n",
              "    </div>\n",
              "  </div>\n",
              "  "
            ],
            "text/plain": [
              "    index  text_id  category sentiment  positive  negative  both  neutral\n",
              "0     210      785      Food      both         1         1     0        0\n",
              "1     211      785  Interior  positive         1         0     0        0\n",
              "2     212      785     Price  negative         0         0     0        0\n",
              "3     213      785     Whole      both         1         0     0        0\n",
              "4     214      785   Service  positive         2         0     0        0\n",
              "..    ...      ...       ...       ...       ...       ...   ...      ...\n",
              "0     315    38299      Food  positive         8         0     0        0\n",
              "1     316    38299  Interior  positive         3         0     0        0\n",
              "2     317    38299     Price   absence         0         0     0        0\n",
              "3     318    38299     Whole  positive         1         0     0        1\n",
              "4     319    38299   Service  positive         2         0     0        1\n",
              "\n",
              "[355 rows x 8 columns]"
            ]
          },
          "metadata": {},
          "execution_count": 16
        }
      ],
      "source": [
        "train = result\n",
        "test = dev_cats\n",
        "dev_cats"
      ]
    },
    {
      "cell_type": "code",
      "execution_count": 17,
      "id": "40b00d44",
      "metadata": {
        "colab": {
          "base_uri": "https://localhost:8080/",
          "height": 419
        },
        "id": "40b00d44",
        "outputId": "eb01e3bf-98d9-46b6-af5d-cf96f554e976"
      },
      "outputs": [
        {
          "output_type": "execute_result",
          "data": {
            "text/html": [
              "\n",
              "  <div id=\"df-db9f444c-0d64-4fff-850f-8eba9290224c\">\n",
              "    <div class=\"colab-df-container\">\n",
              "      <div>\n",
              "<style scoped>\n",
              "    .dataframe tbody tr th:only-of-type {\n",
              "        vertical-align: middle;\n",
              "    }\n",
              "\n",
              "    .dataframe tbody tr th {\n",
              "        vertical-align: top;\n",
              "    }\n",
              "\n",
              "    .dataframe thead th {\n",
              "        text-align: right;\n",
              "    }\n",
              "</style>\n",
              "<table border=\"1\" class=\"dataframe\">\n",
              "  <thead>\n",
              "    <tr style=\"text-align: right;\">\n",
              "      <th></th>\n",
              "      <th>index</th>\n",
              "      <th>text_id</th>\n",
              "      <th>category</th>\n",
              "      <th>sentiment</th>\n",
              "      <th>positive</th>\n",
              "      <th>negative</th>\n",
              "      <th>both</th>\n",
              "      <th>neutral</th>\n",
              "    </tr>\n",
              "  </thead>\n",
              "  <tbody>\n",
              "    <tr>\n",
              "      <th>0</th>\n",
              "      <td>0</td>\n",
              "      <td>30808</td>\n",
              "      <td>Food</td>\n",
              "      <td>positive</td>\n",
              "      <td>2</td>\n",
              "      <td>0</td>\n",
              "      <td>0</td>\n",
              "      <td>0</td>\n",
              "    </tr>\n",
              "    <tr>\n",
              "      <th>1</th>\n",
              "      <td>1</td>\n",
              "      <td>30808</td>\n",
              "      <td>Interior</td>\n",
              "      <td>positive</td>\n",
              "      <td>1</td>\n",
              "      <td>0</td>\n",
              "      <td>0</td>\n",
              "      <td>1</td>\n",
              "    </tr>\n",
              "    <tr>\n",
              "      <th>2</th>\n",
              "      <td>2</td>\n",
              "      <td>30808</td>\n",
              "      <td>Price</td>\n",
              "      <td>positive</td>\n",
              "      <td>1</td>\n",
              "      <td>0</td>\n",
              "      <td>0</td>\n",
              "      <td>0</td>\n",
              "    </tr>\n",
              "    <tr>\n",
              "      <th>3</th>\n",
              "      <td>3</td>\n",
              "      <td>30808</td>\n",
              "      <td>Whole</td>\n",
              "      <td>positive</td>\n",
              "      <td>2</td>\n",
              "      <td>0</td>\n",
              "      <td>0</td>\n",
              "      <td>1</td>\n",
              "    </tr>\n",
              "    <tr>\n",
              "      <th>4</th>\n",
              "      <td>4</td>\n",
              "      <td>30808</td>\n",
              "      <td>Service</td>\n",
              "      <td>positive</td>\n",
              "      <td>4</td>\n",
              "      <td>0</td>\n",
              "      <td>0</td>\n",
              "      <td>0</td>\n",
              "    </tr>\n",
              "    <tr>\n",
              "      <th>...</th>\n",
              "      <td>...</td>\n",
              "      <td>...</td>\n",
              "      <td>...</td>\n",
              "      <td>...</td>\n",
              "      <td>...</td>\n",
              "      <td>...</td>\n",
              "      <td>...</td>\n",
              "      <td>...</td>\n",
              "    </tr>\n",
              "    <tr>\n",
              "      <th>0</th>\n",
              "      <td>1060</td>\n",
              "      <td>16630</td>\n",
              "      <td>Food</td>\n",
              "      <td>positive</td>\n",
              "      <td>1</td>\n",
              "      <td>0</td>\n",
              "      <td>0</td>\n",
              "      <td>0</td>\n",
              "    </tr>\n",
              "    <tr>\n",
              "      <th>1</th>\n",
              "      <td>1061</td>\n",
              "      <td>16630</td>\n",
              "      <td>Interior</td>\n",
              "      <td>positive</td>\n",
              "      <td>1</td>\n",
              "      <td>0</td>\n",
              "      <td>0</td>\n",
              "      <td>0</td>\n",
              "    </tr>\n",
              "    <tr>\n",
              "      <th>2</th>\n",
              "      <td>1062</td>\n",
              "      <td>16630</td>\n",
              "      <td>Price</td>\n",
              "      <td>absence</td>\n",
              "      <td>0</td>\n",
              "      <td>0</td>\n",
              "      <td>0</td>\n",
              "      <td>0</td>\n",
              "    </tr>\n",
              "    <tr>\n",
              "      <th>3</th>\n",
              "      <td>1063</td>\n",
              "      <td>16630</td>\n",
              "      <td>Whole</td>\n",
              "      <td>positive</td>\n",
              "      <td>2</td>\n",
              "      <td>0</td>\n",
              "      <td>0</td>\n",
              "      <td>0</td>\n",
              "    </tr>\n",
              "    <tr>\n",
              "      <th>4</th>\n",
              "      <td>1064</td>\n",
              "      <td>16630</td>\n",
              "      <td>Service</td>\n",
              "      <td>positive</td>\n",
              "      <td>3</td>\n",
              "      <td>0</td>\n",
              "      <td>0</td>\n",
              "      <td>0</td>\n",
              "    </tr>\n",
              "  </tbody>\n",
              "</table>\n",
              "<p>1065 rows × 8 columns</p>\n",
              "</div>\n",
              "      <button class=\"colab-df-convert\" onclick=\"convertToInteractive('df-db9f444c-0d64-4fff-850f-8eba9290224c')\"\n",
              "              title=\"Convert this dataframe to an interactive table.\"\n",
              "              style=\"display:none;\">\n",
              "        \n",
              "  <svg xmlns=\"http://www.w3.org/2000/svg\" height=\"24px\"viewBox=\"0 0 24 24\"\n",
              "       width=\"24px\">\n",
              "    <path d=\"M0 0h24v24H0V0z\" fill=\"none\"/>\n",
              "    <path d=\"M18.56 5.44l.94 2.06.94-2.06 2.06-.94-2.06-.94-.94-2.06-.94 2.06-2.06.94zm-11 1L8.5 8.5l.94-2.06 2.06-.94-2.06-.94L8.5 2.5l-.94 2.06-2.06.94zm10 10l.94 2.06.94-2.06 2.06-.94-2.06-.94-.94-2.06-.94 2.06-2.06.94z\"/><path d=\"M17.41 7.96l-1.37-1.37c-.4-.4-.92-.59-1.43-.59-.52 0-1.04.2-1.43.59L10.3 9.45l-7.72 7.72c-.78.78-.78 2.05 0 2.83L4 21.41c.39.39.9.59 1.41.59.51 0 1.02-.2 1.41-.59l7.78-7.78 2.81-2.81c.8-.78.8-2.07 0-2.86zM5.41 20L4 18.59l7.72-7.72 1.47 1.35L5.41 20z\"/>\n",
              "  </svg>\n",
              "      </button>\n",
              "      \n",
              "  <style>\n",
              "    .colab-df-container {\n",
              "      display:flex;\n",
              "      flex-wrap:wrap;\n",
              "      gap: 12px;\n",
              "    }\n",
              "\n",
              "    .colab-df-convert {\n",
              "      background-color: #E8F0FE;\n",
              "      border: none;\n",
              "      border-radius: 50%;\n",
              "      cursor: pointer;\n",
              "      display: none;\n",
              "      fill: #1967D2;\n",
              "      height: 32px;\n",
              "      padding: 0 0 0 0;\n",
              "      width: 32px;\n",
              "    }\n",
              "\n",
              "    .colab-df-convert:hover {\n",
              "      background-color: #E2EBFA;\n",
              "      box-shadow: 0px 1px 2px rgba(60, 64, 67, 0.3), 0px 1px 3px 1px rgba(60, 64, 67, 0.15);\n",
              "      fill: #174EA6;\n",
              "    }\n",
              "\n",
              "    [theme=dark] .colab-df-convert {\n",
              "      background-color: #3B4455;\n",
              "      fill: #D2E3FC;\n",
              "    }\n",
              "\n",
              "    [theme=dark] .colab-df-convert:hover {\n",
              "      background-color: #434B5C;\n",
              "      box-shadow: 0px 1px 3px 1px rgba(0, 0, 0, 0.15);\n",
              "      filter: drop-shadow(0px 1px 2px rgba(0, 0, 0, 0.3));\n",
              "      fill: #FFFFFF;\n",
              "    }\n",
              "  </style>\n",
              "\n",
              "      <script>\n",
              "        const buttonEl =\n",
              "          document.querySelector('#df-db9f444c-0d64-4fff-850f-8eba9290224c button.colab-df-convert');\n",
              "        buttonEl.style.display =\n",
              "          google.colab.kernel.accessAllowed ? 'block' : 'none';\n",
              "\n",
              "        async function convertToInteractive(key) {\n",
              "          const element = document.querySelector('#df-db9f444c-0d64-4fff-850f-8eba9290224c');\n",
              "          const dataTable =\n",
              "            await google.colab.kernel.invokeFunction('convertToInteractive',\n",
              "                                                     [key], {});\n",
              "          if (!dataTable) return;\n",
              "\n",
              "          const docLinkHtml = 'Like what you see? Visit the ' +\n",
              "            '<a target=\"_blank\" href=https://colab.research.google.com/notebooks/data_table.ipynb>data table notebook</a>'\n",
              "            + ' to learn more about interactive tables.';\n",
              "          element.innerHTML = '';\n",
              "          dataTable['output_type'] = 'display_data';\n",
              "          await google.colab.output.renderOutput(dataTable, element);\n",
              "          const docLink = document.createElement('div');\n",
              "          docLink.innerHTML = docLinkHtml;\n",
              "          element.appendChild(docLink);\n",
              "        }\n",
              "      </script>\n",
              "    </div>\n",
              "  </div>\n",
              "  "
            ],
            "text/plain": [
              "    index  text_id  category sentiment  positive  negative  both  neutral\n",
              "0       0    30808      Food  positive         2         0     0        0\n",
              "1       1    30808  Interior  positive         1         0     0        1\n",
              "2       2    30808     Price  positive         1         0     0        0\n",
              "3       3    30808     Whole  positive         2         0     0        1\n",
              "4       4    30808   Service  positive         4         0     0        0\n",
              "..    ...      ...       ...       ...       ...       ...   ...      ...\n",
              "0    1060    16630      Food  positive         1         0     0        0\n",
              "1    1061    16630  Interior  positive         1         0     0        0\n",
              "2    1062    16630     Price   absence         0         0     0        0\n",
              "3    1063    16630     Whole  positive         2         0     0        0\n",
              "4    1064    16630   Service  positive         3         0     0        0\n",
              "\n",
              "[1065 rows x 8 columns]"
            ]
          },
          "metadata": {},
          "execution_count": 17
        }
      ],
      "source": [
        "result"
      ]
    },
    {
      "cell_type": "code",
      "execution_count": 18,
      "id": "c720b522",
      "metadata": {
        "id": "c720b522"
      },
      "outputs": [],
      "source": [
        "le = preprocessing.LabelEncoder()\n",
        "y_train = le.fit_transform(train['sentiment'])"
      ]
    },
    {
      "cell_type": "code",
      "execution_count": 19,
      "id": "6411ee7e",
      "metadata": {
        "id": "6411ee7e"
      },
      "outputs": [],
      "source": [
        "features_columns = ['positive', 'negative', 'both', 'neutral']"
      ]
    },
    {
      "cell_type": "markdown",
      "id": "8b7e9352",
      "metadata": {
        "id": "8b7e9352"
      },
      "source": [
        "Будем использовать гридсерч на SVM, Decision Tree и KNN классификаторах"
      ]
    },
    {
      "cell_type": "code",
      "execution_count": 20,
      "id": "9384436b",
      "metadata": {
        "scrolled": true,
        "colab": {
          "base_uri": "https://localhost:8080/"
        },
        "id": "9384436b",
        "outputId": "a9cd32d6-0e80-4355-b40c-725799bf181e"
      },
      "outputs": [
        {
          "output_type": "stream",
          "name": "stdout",
          "text": [
            "0.8134237550305681\n",
            "{'class_weight': 'balanced', 'decision_function_shape': 'ovo', 'gamma': 'scale', 'kernel': 'linear', 'shrinking': False}\n"
          ]
        }
      ],
      "source": [
        "from sklearn.model_selection import cross_val_score, GridSearchCV\n",
        "from sklearn.model_selection import GridSearchCV\n",
        "from sklearn import svm\n",
        "from sklearn.svm import LinearSVC\n",
        "clf = svm.SVC()\n",
        "parameters_svm = {'kernel': ('linear', 'poly', 'rbf', 'sigmoid'),\n",
        "                  'gamma': ('scale', 'auto'),\n",
        "                  'shrinking': (True, False),\n",
        "               'class_weight': ('balanced', None),\n",
        "                 'decision_function_shape': ('ovo', 'ovr')}\n",
        "\n",
        "\n",
        "grid_search_SVM = GridSearchCV(clf, parameters_svm, n_jobs=-1, scoring = \"f1_weighted\")\n",
        "grid_search_SVM = grid_search_SVM.fit(train[features_columns], y_train)\n",
        "\n",
        "\n",
        "print(grid_search_SVM.best_score_)\n",
        "print(grid_search_SVM.best_params_)"
      ]
    },
    {
      "cell_type": "code",
      "execution_count": 21,
      "id": "79a24558",
      "metadata": {
        "id": "79a24558"
      },
      "outputs": [],
      "source": [
        "y_test = le.transform(test['sentiment'])\n",
        "y_pred = grid_search_SVM.predict(test[features_columns])"
      ]
    },
    {
      "cell_type": "code",
      "execution_count": 22,
      "id": "239c5520",
      "metadata": {
        "colab": {
          "base_uri": "https://localhost:8080/"
        },
        "id": "239c5520",
        "outputId": "e3a53049-24b5-4e8a-e2a6-241e85774737"
      },
      "outputs": [
        {
          "output_type": "execute_result",
          "data": {
            "text/plain": [
              "0.7070422535211267"
            ]
          },
          "metadata": {},
          "execution_count": 22
        }
      ],
      "source": [
        "from sklearn.metrics import accuracy_score\n",
        "accuracy_score(y_test, y_pred)"
      ]
    },
    {
      "cell_type": "code",
      "execution_count": 23,
      "id": "d503b7f7",
      "metadata": {
        "colab": {
          "base_uri": "https://localhost:8080/"
        },
        "id": "d503b7f7",
        "outputId": "12d19834-76b0-46ad-83fa-42fe823e7ad7"
      },
      "outputs": [
        {
          "output_type": "stream",
          "name": "stdout",
          "text": [
            "Fitting 5 folds for each of 336 candidates, totalling 1680 fits\n",
            "{'ccp_alpha': 0.01, 'criterion': 'entropy', 'max_depth': 9, 'max_features': 'auto'}\n",
            "0.8178403755868546\n"
          ]
        }
      ],
      "source": [
        "from sklearn.tree import DecisionTreeClassifier\n",
        "param_grid = {'max_features': ['auto', 'sqrt', 'log2'],\n",
        "              'ccp_alpha': [1, .1, .01, 0.12, 0.15, 0.17, 0.2, .001],\n",
        "              'max_depth' : [3, 5, 6, 7, 8, 9, 10],\n",
        "              'criterion' :['gini', 'entropy']\n",
        "             }\n",
        "tree_clas = DecisionTreeClassifier(random_state=1024)\n",
        "grid_search_DTC = GridSearchCV(estimator=tree_clas, param_grid=param_grid, cv=5, verbose=True)\n",
        "grid_search_DTC.fit(train[features_columns], y_train)\n",
        "print(grid_search_DTC.best_params_)\n",
        "print(grid_search_DTC.best_score_)"
      ]
    },
    {
      "cell_type": "code",
      "execution_count": 24,
      "id": "afcd2d42",
      "metadata": {
        "colab": {
          "base_uri": "https://localhost:8080/"
        },
        "id": "afcd2d42",
        "outputId": "dad5850f-0876-4f61-e306-458a637eb064"
      },
      "outputs": [
        {
          "output_type": "execute_result",
          "data": {
            "text/plain": [
              "0.7098591549295775"
            ]
          },
          "metadata": {},
          "execution_count": 24
        }
      ],
      "source": [
        "y_pred = grid_search_DTC.predict(test[features_columns])\n",
        "accuracy_score(y_test, y_pred)"
      ]
    },
    {
      "cell_type": "code",
      "execution_count": 25,
      "id": "473fc274",
      "metadata": {
        "colab": {
          "base_uri": "https://localhost:8080/"
        },
        "id": "473fc274",
        "outputId": "748d61e9-3a74-4cdd-d201-c2147d7f8e9d"
      },
      "outputs": [
        {
          "output_type": "stream",
          "name": "stdout",
          "text": [
            "{'leaf_size': 40, 'metric': 'minkowski', 'n_neighbors': 10, 'p': 2, 'weights': 'uniform'}\n",
            "0.812206572769953\n"
          ]
        }
      ],
      "source": [
        "from sklearn.neighbors import KNeighborsClassifier\n",
        "estimator_KNN = KNeighborsClassifier(algorithm='auto')\n",
        "parameters_KNN = {\n",
        "    'n_neighbors': (1,10, 1),\n",
        "    'leaf_size': (20,40,1),\n",
        "    'p': (1,2),\n",
        "    'weights': ('uniform', 'distance'),\n",
        "    'metric': ('minkowski', 'chebyshev')}\n",
        "\n",
        "grid_search_KNN = GridSearchCV(\n",
        "    estimator=estimator_KNN,\n",
        "    param_grid=parameters_KNN,\n",
        "    scoring = 'accuracy',\n",
        "    n_jobs = -1,\n",
        "    cv = 5)\n",
        "\n",
        "grid_search_KNN.fit(train[features_columns], y_train)\n",
        "\n",
        "print(grid_search_KNN.best_params_)\n",
        "print(grid_search_KNN.best_score_)"
      ]
    },
    {
      "cell_type": "code",
      "execution_count": 26,
      "id": "a75e4bc8",
      "metadata": {
        "colab": {
          "base_uri": "https://localhost:8080/"
        },
        "id": "a75e4bc8",
        "outputId": "ed700ae8-529f-482d-9a2e-a25a6bc0cf51"
      },
      "outputs": [
        {
          "output_type": "execute_result",
          "data": {
            "text/plain": [
              "0.7323943661971831"
            ]
          },
          "metadata": {},
          "execution_count": 26
        }
      ],
      "source": [
        "y_pred = grid_search_KNN.predict(test[features_columns])\n",
        "accuracy_score(y_test, y_pred)"
      ]
    },
    {
      "cell_type": "markdown",
      "id": "174990de",
      "metadata": {
        "id": "174990de"
      },
      "source": [
        "Лучшие результаты у KNN"
      ]
    },
    {
      "cell_type": "code",
      "execution_count": 27,
      "id": "87088086",
      "metadata": {
        "id": "87088086"
      },
      "outputs": [],
      "source": [
        "model = grid_search_KNN.best_estimator_"
      ]
    },
    {
      "cell_type": "code",
      "execution_count": 28,
      "id": "2c4dd36e",
      "metadata": {
        "colab": {
          "base_uri": "https://localhost:8080/"
        },
        "id": "2c4dd36e",
        "outputId": "c010e787-a8fa-44c0-b31d-cb7517c4d990"
      },
      "outputs": [
        {
          "output_type": "execute_result",
          "data": {
            "text/plain": [
              "KNeighborsClassifier(leaf_size=40, n_neighbors=10)"
            ]
          },
          "metadata": {},
          "execution_count": 28
        }
      ],
      "source": [
        "model.fit(train[features_columns], y_train)"
      ]
    },
    {
      "cell_type": "code",
      "execution_count": null,
      "id": "d1ed1d6a",
      "metadata": {
        "id": "d1ed1d6a",
        "outputId": "bca10bcf-8784-4959-87dd-393df05d9e52"
      },
      "outputs": [
        {
          "data": {
            "text/plain": [
              "0.7323943661971831"
            ]
          },
          "execution_count": 34,
          "metadata": {},
          "output_type": "execute_result"
        }
      ],
      "source": [
        "y_pred = model.predict(test[features_columns])\n",
        "accuracy_score(y_test, y_pred)"
      ]
    },
    {
      "cell_type": "code",
      "execution_count": 29,
      "id": "60d86e34",
      "metadata": {
        "colab": {
          "base_uri": "https://localhost:8080/"
        },
        "id": "60d86e34",
        "outputId": "7b4ecb78-eb24-47f3-db6c-d77b33461733"
      },
      "outputs": [
        {
          "output_type": "stream",
          "name": "stdout",
          "text": [
            "              precision    recall  f1-score   support\n",
            "\n",
            "     absence       0.69      0.93      0.79        59\n",
            "        both       0.46      0.16      0.24        38\n",
            "    negative       0.67      0.06      0.10        36\n",
            "     neutral       0.00      0.00      0.00         8\n",
            "    positive       0.76      0.92      0.83       214\n",
            "\n",
            "    accuracy                           0.73       355\n",
            "   macro avg       0.52      0.41      0.39       355\n",
            "weighted avg       0.69      0.73      0.67       355\n",
            "\n"
          ]
        },
        {
          "output_type": "stream",
          "name": "stderr",
          "text": [
            "/usr/local/lib/python3.7/dist-packages/sklearn/metrics/_classification.py:1308: UndefinedMetricWarning: Precision and F-score are ill-defined and being set to 0.0 in labels with no predicted samples. Use `zero_division` parameter to control this behavior.\n",
            "  _warn_prf(average, modifier, msg_start, len(result))\n",
            "/usr/local/lib/python3.7/dist-packages/sklearn/metrics/_classification.py:1308: UndefinedMetricWarning: Precision and F-score are ill-defined and being set to 0.0 in labels with no predicted samples. Use `zero_division` parameter to control this behavior.\n",
            "  _warn_prf(average, modifier, msg_start, len(result))\n",
            "/usr/local/lib/python3.7/dist-packages/sklearn/metrics/_classification.py:1308: UndefinedMetricWarning: Precision and F-score are ill-defined and being set to 0.0 in labels with no predicted samples. Use `zero_division` parameter to control this behavior.\n",
            "  _warn_prf(average, modifier, msg_start, len(result))\n"
          ]
        }
      ],
      "source": [
        "from sklearn.metrics import classification_report\n",
        "print(classification_report(y_test, y_pred, target_names=['absence', 'both', 'negative', 'neutral', 'positive']))"
      ]
    },
    {
      "cell_type": "code",
      "execution_count": 30,
      "id": "fdf70834",
      "metadata": {
        "colab": {
          "base_uri": "https://localhost:8080/"
        },
        "id": "fdf70834",
        "outputId": "c26178f2-e42c-437b-f090-57e0f17441e0"
      },
      "outputs": [
        {
          "output_type": "stream",
          "name": "stdout",
          "text": [
            "[[[271  25]\n",
            "  [  4  55]]\n",
            "\n",
            " [[310   7]\n",
            "  [ 32   6]]\n",
            "\n",
            " [[318   1]\n",
            "  [ 34   2]]\n",
            "\n",
            " [[347   0]\n",
            "  [  8   0]]\n",
            "\n",
            " [[ 79  62]\n",
            "  [ 17 197]]]\n"
          ]
        }
      ],
      "source": [
        "from sklearn.metrics import multilabel_confusion_matrix\n",
        "print(multilabel_confusion_matrix(y_test, y_pred, labels=[0,1,2,3,4]))"
      ]
    },
    {
      "cell_type": "code",
      "execution_count": 32,
      "id": "1ec01484",
      "metadata": {
        "id": "1ec01484"
      },
      "outputs": [],
      "source": [
        "mark_asp = pd.read_csv(\n",
        "    'dev_pred_aspects_ours.txt', \n",
        "    delimiter='\\t', \n",
        "    names=['text_id', 'category', 'mention', 'start', 'end', 'sentiment']\n",
        ")\n",
        "mark_cats = pd.read_csv('dev_cats.txt', delimiter='\\t', names=['text_id', 'category', 'sentiment'])\n",
        "makring = count_sentiments(mark_asp, mark_cats)"
      ]
    },
    {
      "cell_type": "code",
      "execution_count": 33,
      "id": "f1467c3c",
      "metadata": {
        "colab": {
          "base_uri": "https://localhost:8080/"
        },
        "id": "f1467c3c",
        "outputId": "53c0434e-4f92-4b86-eea6-f4cfea3eb0b0"
      },
      "outputs": [
        {
          "output_type": "execute_result",
          "data": {
            "text/plain": [
              "positive    836\n",
              "neutral      74\n",
              "negative     41\n",
              "Name: sentiment, dtype: int64"
            ]
          },
          "metadata": {},
          "execution_count": 33
        }
      ],
      "source": [
        "mark_asp['sentiment'].value_counts()"
      ]
    },
    {
      "cell_type": "code",
      "execution_count": 34,
      "id": "fdecec41",
      "metadata": {
        "id": "fdecec41"
      },
      "outputs": [],
      "source": [
        "y_pred = model.predict(makring[features_columns])"
      ]
    },
    {
      "cell_type": "code",
      "execution_count": 35,
      "id": "ad1b7ebc",
      "metadata": {
        "id": "ad1b7ebc"
      },
      "outputs": [],
      "source": [
        "def get_markings(pred_df, y_pred):\n",
        "    in_df = pred_df\n",
        "    y_pred = le.inverse_transform(y_pred)\n",
        "    pred_df['sentiment'] = 0\n",
        "    pred_df['sentiment'] = y_pred\n",
        "    pred_df.drop(['positive', 'negative', 'both', 'neutral', 'index'], axis=1, inplace=True)\n",
        "    return pred_df"
      ]
    },
    {
      "cell_type": "code",
      "execution_count": 36,
      "id": "ce801022",
      "metadata": {
        "id": "ce801022"
      },
      "outputs": [],
      "source": [
        "output = get_markings(makring, y_pred)"
      ]
    },
    {
      "cell_type": "code",
      "execution_count": 37,
      "id": "1e719f68",
      "metadata": {
        "colab": {
          "base_uri": "https://localhost:8080/",
          "height": 419
        },
        "id": "1e719f68",
        "outputId": "3aea00cf-941e-400c-c0ff-a1c0cd3931d1"
      },
      "outputs": [
        {
          "output_type": "execute_result",
          "data": {
            "text/html": [
              "\n",
              "  <div id=\"df-9ca04c96-dcd4-4f38-a135-bc89879e1087\">\n",
              "    <div class=\"colab-df-container\">\n",
              "      <div>\n",
              "<style scoped>\n",
              "    .dataframe tbody tr th:only-of-type {\n",
              "        vertical-align: middle;\n",
              "    }\n",
              "\n",
              "    .dataframe tbody tr th {\n",
              "        vertical-align: top;\n",
              "    }\n",
              "\n",
              "    .dataframe thead th {\n",
              "        text-align: right;\n",
              "    }\n",
              "</style>\n",
              "<table border=\"1\" class=\"dataframe\">\n",
              "  <thead>\n",
              "    <tr style=\"text-align: right;\">\n",
              "      <th></th>\n",
              "      <th>text_id</th>\n",
              "      <th>category</th>\n",
              "      <th>sentiment</th>\n",
              "    </tr>\n",
              "  </thead>\n",
              "  <tbody>\n",
              "    <tr>\n",
              "      <th>0</th>\n",
              "      <td>785</td>\n",
              "      <td>Food</td>\n",
              "      <td>both</td>\n",
              "    </tr>\n",
              "    <tr>\n",
              "      <th>1</th>\n",
              "      <td>785</td>\n",
              "      <td>Interior</td>\n",
              "      <td>positive</td>\n",
              "    </tr>\n",
              "    <tr>\n",
              "      <th>2</th>\n",
              "      <td>785</td>\n",
              "      <td>Price</td>\n",
              "      <td>absence</td>\n",
              "    </tr>\n",
              "    <tr>\n",
              "      <th>3</th>\n",
              "      <td>785</td>\n",
              "      <td>Whole</td>\n",
              "      <td>positive</td>\n",
              "    </tr>\n",
              "    <tr>\n",
              "      <th>4</th>\n",
              "      <td>785</td>\n",
              "      <td>Service</td>\n",
              "      <td>positive</td>\n",
              "    </tr>\n",
              "    <tr>\n",
              "      <th>...</th>\n",
              "      <td>...</td>\n",
              "      <td>...</td>\n",
              "      <td>...</td>\n",
              "    </tr>\n",
              "    <tr>\n",
              "      <th>0</th>\n",
              "      <td>38299</td>\n",
              "      <td>Food</td>\n",
              "      <td>positive</td>\n",
              "    </tr>\n",
              "    <tr>\n",
              "      <th>1</th>\n",
              "      <td>38299</td>\n",
              "      <td>Interior</td>\n",
              "      <td>positive</td>\n",
              "    </tr>\n",
              "    <tr>\n",
              "      <th>2</th>\n",
              "      <td>38299</td>\n",
              "      <td>Price</td>\n",
              "      <td>absence</td>\n",
              "    </tr>\n",
              "    <tr>\n",
              "      <th>3</th>\n",
              "      <td>38299</td>\n",
              "      <td>Whole</td>\n",
              "      <td>positive</td>\n",
              "    </tr>\n",
              "    <tr>\n",
              "      <th>4</th>\n",
              "      <td>38299</td>\n",
              "      <td>Service</td>\n",
              "      <td>positive</td>\n",
              "    </tr>\n",
              "  </tbody>\n",
              "</table>\n",
              "<p>355 rows × 3 columns</p>\n",
              "</div>\n",
              "      <button class=\"colab-df-convert\" onclick=\"convertToInteractive('df-9ca04c96-dcd4-4f38-a135-bc89879e1087')\"\n",
              "              title=\"Convert this dataframe to an interactive table.\"\n",
              "              style=\"display:none;\">\n",
              "        \n",
              "  <svg xmlns=\"http://www.w3.org/2000/svg\" height=\"24px\"viewBox=\"0 0 24 24\"\n",
              "       width=\"24px\">\n",
              "    <path d=\"M0 0h24v24H0V0z\" fill=\"none\"/>\n",
              "    <path d=\"M18.56 5.44l.94 2.06.94-2.06 2.06-.94-2.06-.94-.94-2.06-.94 2.06-2.06.94zm-11 1L8.5 8.5l.94-2.06 2.06-.94-2.06-.94L8.5 2.5l-.94 2.06-2.06.94zm10 10l.94 2.06.94-2.06 2.06-.94-2.06-.94-.94-2.06-.94 2.06-2.06.94z\"/><path d=\"M17.41 7.96l-1.37-1.37c-.4-.4-.92-.59-1.43-.59-.52 0-1.04.2-1.43.59L10.3 9.45l-7.72 7.72c-.78.78-.78 2.05 0 2.83L4 21.41c.39.39.9.59 1.41.59.51 0 1.02-.2 1.41-.59l7.78-7.78 2.81-2.81c.8-.78.8-2.07 0-2.86zM5.41 20L4 18.59l7.72-7.72 1.47 1.35L5.41 20z\"/>\n",
              "  </svg>\n",
              "      </button>\n",
              "      \n",
              "  <style>\n",
              "    .colab-df-container {\n",
              "      display:flex;\n",
              "      flex-wrap:wrap;\n",
              "      gap: 12px;\n",
              "    }\n",
              "\n",
              "    .colab-df-convert {\n",
              "      background-color: #E8F0FE;\n",
              "      border: none;\n",
              "      border-radius: 50%;\n",
              "      cursor: pointer;\n",
              "      display: none;\n",
              "      fill: #1967D2;\n",
              "      height: 32px;\n",
              "      padding: 0 0 0 0;\n",
              "      width: 32px;\n",
              "    }\n",
              "\n",
              "    .colab-df-convert:hover {\n",
              "      background-color: #E2EBFA;\n",
              "      box-shadow: 0px 1px 2px rgba(60, 64, 67, 0.3), 0px 1px 3px 1px rgba(60, 64, 67, 0.15);\n",
              "      fill: #174EA6;\n",
              "    }\n",
              "\n",
              "    [theme=dark] .colab-df-convert {\n",
              "      background-color: #3B4455;\n",
              "      fill: #D2E3FC;\n",
              "    }\n",
              "\n",
              "    [theme=dark] .colab-df-convert:hover {\n",
              "      background-color: #434B5C;\n",
              "      box-shadow: 0px 1px 3px 1px rgba(0, 0, 0, 0.15);\n",
              "      filter: drop-shadow(0px 1px 2px rgba(0, 0, 0, 0.3));\n",
              "      fill: #FFFFFF;\n",
              "    }\n",
              "  </style>\n",
              "\n",
              "      <script>\n",
              "        const buttonEl =\n",
              "          document.querySelector('#df-9ca04c96-dcd4-4f38-a135-bc89879e1087 button.colab-df-convert');\n",
              "        buttonEl.style.display =\n",
              "          google.colab.kernel.accessAllowed ? 'block' : 'none';\n",
              "\n",
              "        async function convertToInteractive(key) {\n",
              "          const element = document.querySelector('#df-9ca04c96-dcd4-4f38-a135-bc89879e1087');\n",
              "          const dataTable =\n",
              "            await google.colab.kernel.invokeFunction('convertToInteractive',\n",
              "                                                     [key], {});\n",
              "          if (!dataTable) return;\n",
              "\n",
              "          const docLinkHtml = 'Like what you see? Visit the ' +\n",
              "            '<a target=\"_blank\" href=https://colab.research.google.com/notebooks/data_table.ipynb>data table notebook</a>'\n",
              "            + ' to learn more about interactive tables.';\n",
              "          element.innerHTML = '';\n",
              "          dataTable['output_type'] = 'display_data';\n",
              "          await google.colab.output.renderOutput(dataTable, element);\n",
              "          const docLink = document.createElement('div');\n",
              "          docLink.innerHTML = docLinkHtml;\n",
              "          element.appendChild(docLink);\n",
              "        }\n",
              "      </script>\n",
              "    </div>\n",
              "  </div>\n",
              "  "
            ],
            "text/plain": [
              "    text_id  category sentiment\n",
              "0       785      Food      both\n",
              "1       785  Interior  positive\n",
              "2       785     Price   absence\n",
              "3       785     Whole  positive\n",
              "4       785   Service  positive\n",
              "..      ...       ...       ...\n",
              "0     38299      Food  positive\n",
              "1     38299  Interior  positive\n",
              "2     38299     Price   absence\n",
              "3     38299     Whole  positive\n",
              "4     38299   Service  positive\n",
              "\n",
              "[355 rows x 3 columns]"
            ]
          },
          "metadata": {},
          "execution_count": 37
        }
      ],
      "source": [
        "output"
      ]
    },
    {
      "cell_type": "code",
      "execution_count": 39,
      "id": "a3befa0b",
      "metadata": {
        "id": "a3befa0b"
      },
      "outputs": [],
      "source": [
        "output.to_csv('dev_cats_output.txt', sep='\\t', header=False, index=False)"
      ]
    },
    {
      "cell_type": "markdown",
      "source": [
        "# Обучение на всем трейне\n",
        "Мы уже знаем какие модели лучше с чем справляются и получили разметку для получения evaluation-scores, поэтому, чтобы модели лучше работали на новых данных обучим их на всем трейне."
      ],
      "metadata": {
        "id": "Mg0jieK3iA3P"
      },
      "id": "Mg0jieK3iA3P"
    },
    {
      "cell_type": "code",
      "source": [
        "!wget https://raw.githubusercontent.com/named-entity/hse-nlp/master/4th_year/Project/train_cats.txt\n",
        "!wget https://raw.githubusercontent.com/named-entity/hse-nlp/master/4th_year/Project/train_aspects.txt"
      ],
      "metadata": {
        "id": "7qQqes1ejGzV"
      },
      "id": "7qQqes1ejGzV",
      "execution_count": null,
      "outputs": []
    },
    {
      "cell_type": "code",
      "source": [
        "KNN_full = grid_search_KNN.best_estimator_"
      ],
      "metadata": {
        "id": "fJVzRY3Fiz2C"
      },
      "id": "fJVzRY3Fiz2C",
      "execution_count": 40,
      "outputs": []
    },
    {
      "cell_type": "code",
      "source": [
        "full_asp = pd.read_csv(\n",
        "    'train_split_aspects.txt', \n",
        "    delimiter='\\t', \n",
        "    names=['text_id', 'category', 'mention', 'start', 'end', 'sentiment']\n",
        ")\n",
        "full_sent = pd.read_csv(\n",
        "    'train_split_cats.txt',\n",
        "    delimiter='\\t',\n",
        "    names=['text_id', 'category', 'sentiment'])\n",
        "full_result = count_sentiments(full_asp, full_sent)"
      ],
      "metadata": {
        "id": "dCZygJLji392"
      },
      "id": "dCZygJLji392",
      "execution_count": 42,
      "outputs": []
    },
    {
      "cell_type": "code",
      "source": [
        "y_full = le.transform(full_result['sentiment'])\n",
        "KNN_full.fit(full_result[features_columns], y_full)"
      ],
      "metadata": {
        "colab": {
          "base_uri": "https://localhost:8080/"
        },
        "id": "xlkvGh1CjPG0",
        "outputId": "ec78fc99-00d1-4e3d-802b-6012c915403c"
      },
      "id": "xlkvGh1CjPG0",
      "execution_count": 43,
      "outputs": [
        {
          "output_type": "execute_result",
          "data": {
            "text/plain": [
              "KNeighborsClassifier(leaf_size=40, n_neighbors=10)"
            ]
          },
          "metadata": {},
          "execution_count": 43
        }
      ]
    },
    {
      "cell_type": "code",
      "source": [
        "import pickle\n",
        "filename = 'task3.sav'\n",
        "pickle.dump(model, open(filename, 'wb'))"
      ],
      "metadata": {
        "id": "LepvYSevjiPy"
      },
      "id": "LepvYSevjiPy",
      "execution_count": 44,
      "outputs": []
    }
  ],
  "metadata": {
    "kernelspec": {
      "display_name": "Python 3 (ipykernel)",
      "language": "python",
      "name": "python3"
    },
    "language_info": {
      "codemirror_mode": {
        "name": "ipython",
        "version": 3
      },
      "file_extension": ".py",
      "mimetype": "text/x-python",
      "name": "python",
      "nbconvert_exporter": "python",
      "pygments_lexer": "ipython3",
      "version": "3.9.8"
    },
    "colab": {
      "name": "category_sentiment_with_sklearn.ipynb",
      "provenance": []
    }
  },
  "nbformat": 4,
  "nbformat_minor": 5
}