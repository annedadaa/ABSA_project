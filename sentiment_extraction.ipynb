{
  "cells": [
    {
      "cell_type": "code",
      "source": [
        "!pip install corus"
      ],
      "metadata": {
        "id": "d7Li-17jO0XJ"
      },
      "id": "d7Li-17jO0XJ",
      "execution_count": 35,
      "outputs": []
    },
    {
      "cell_type": "code",
      "execution_count": 36,
      "metadata": {
        "id": "qazDSjXOm21e"
      },
      "outputs": [],
      "source": [
        "import pandas as pd\n",
        "import numpy as np\n",
        "import random\n",
        "from corus import load_lenta2\n",
        "from tqdm import tqdm\n",
        "np.random.seed(42)\n",
        "random.seed(42)"
      ],
      "id": "qazDSjXOm21e"
    },
    {
      "cell_type": "code",
      "source": [
        "!wget https://github.com/named-entity/hse-nlp/raw/master/4th_year/Project/train_split_aspects.txt\n",
        "!wget https://github.com/named-entity/hse-nlp/raw/master/4th_year/Project/train_split_reviews.txt"
      ],
      "metadata": {
        "id": "ZJyfR8AinDmH"
      },
      "id": "ZJyfR8AinDmH",
      "execution_count": null,
      "outputs": []
    },
    {
      "cell_type": "code",
      "execution_count": 37,
      "metadata": {
        "id": "2vzjYmROm21i"
      },
      "outputs": [],
      "source": [
        "train_asp = pd.read_csv(\n",
        "    'train_split_aspects.txt', \n",
        "    delimiter='\\t', \n",
        "    names=['text_id', 'category', 'mention', 'start', 'end', 'sentiment']\n",
        ")\n",
        "train_texts = pd.read_csv('train_split_reviews.txt', delimiter='\\t', names=['text_id','text'])"
      ],
      "id": "2vzjYmROm21i"
    },
    {
      "cell_type": "code",
      "execution_count": 38,
      "metadata": {
        "colab": {
          "base_uri": "https://localhost:8080/",
          "height": 204
        },
        "id": "o3e0wB2Zm21j",
        "outputId": "929e3171-9af5-4f9b-89eb-15c62bb4ef7d"
      },
      "outputs": [
        {
          "output_type": "execute_result",
          "data": {
            "text/html": [
              "\n",
              "  <div id=\"df-64b9e6e4-0c9c-4308-bc53-a00704a837b9\">\n",
              "    <div class=\"colab-df-container\">\n",
              "      <div>\n",
              "<style scoped>\n",
              "    .dataframe tbody tr th:only-of-type {\n",
              "        vertical-align: middle;\n",
              "    }\n",
              "\n",
              "    .dataframe tbody tr th {\n",
              "        vertical-align: top;\n",
              "    }\n",
              "\n",
              "    .dataframe thead th {\n",
              "        text-align: right;\n",
              "    }\n",
              "</style>\n",
              "<table border=\"1\" class=\"dataframe\">\n",
              "  <thead>\n",
              "    <tr style=\"text-align: right;\">\n",
              "      <th></th>\n",
              "      <th>text_id</th>\n",
              "      <th>category</th>\n",
              "      <th>mention</th>\n",
              "      <th>start</th>\n",
              "      <th>end</th>\n",
              "      <th>sentiment</th>\n",
              "    </tr>\n",
              "  </thead>\n",
              "  <tbody>\n",
              "    <tr>\n",
              "      <th>0</th>\n",
              "      <td>30808</td>\n",
              "      <td>Whole</td>\n",
              "      <td>ресторане</td>\n",
              "      <td>16</td>\n",
              "      <td>25</td>\n",
              "      <td>neutral</td>\n",
              "    </tr>\n",
              "    <tr>\n",
              "      <th>1</th>\n",
              "      <td>30808</td>\n",
              "      <td>Interior</td>\n",
              "      <td>первом этаже</td>\n",
              "      <td>43</td>\n",
              "      <td>55</td>\n",
              "      <td>neutral</td>\n",
              "    </tr>\n",
              "    <tr>\n",
              "      <th>2</th>\n",
              "      <td>30808</td>\n",
              "      <td>Whole</td>\n",
              "      <td>руководству ресторана</td>\n",
              "      <td>124</td>\n",
              "      <td>145</td>\n",
              "      <td>positive</td>\n",
              "    </tr>\n",
              "    <tr>\n",
              "      <th>3</th>\n",
              "      <td>30808</td>\n",
              "      <td>Service</td>\n",
              "      <td>обслуживающему персоналу</td>\n",
              "      <td>147</td>\n",
              "      <td>171</td>\n",
              "      <td>positive</td>\n",
              "    </tr>\n",
              "    <tr>\n",
              "      <th>4</th>\n",
              "      <td>30808</td>\n",
              "      <td>Service</td>\n",
              "      <td>сотрудникам</td>\n",
              "      <td>189</td>\n",
              "      <td>200</td>\n",
              "      <td>positive</td>\n",
              "    </tr>\n",
              "  </tbody>\n",
              "</table>\n",
              "</div>\n",
              "      <button class=\"colab-df-convert\" onclick=\"convertToInteractive('df-64b9e6e4-0c9c-4308-bc53-a00704a837b9')\"\n",
              "              title=\"Convert this dataframe to an interactive table.\"\n",
              "              style=\"display:none;\">\n",
              "        \n",
              "  <svg xmlns=\"http://www.w3.org/2000/svg\" height=\"24px\"viewBox=\"0 0 24 24\"\n",
              "       width=\"24px\">\n",
              "    <path d=\"M0 0h24v24H0V0z\" fill=\"none\"/>\n",
              "    <path d=\"M18.56 5.44l.94 2.06.94-2.06 2.06-.94-2.06-.94-.94-2.06-.94 2.06-2.06.94zm-11 1L8.5 8.5l.94-2.06 2.06-.94-2.06-.94L8.5 2.5l-.94 2.06-2.06.94zm10 10l.94 2.06.94-2.06 2.06-.94-2.06-.94-.94-2.06-.94 2.06-2.06.94z\"/><path d=\"M17.41 7.96l-1.37-1.37c-.4-.4-.92-.59-1.43-.59-.52 0-1.04.2-1.43.59L10.3 9.45l-7.72 7.72c-.78.78-.78 2.05 0 2.83L4 21.41c.39.39.9.59 1.41.59.51 0 1.02-.2 1.41-.59l7.78-7.78 2.81-2.81c.8-.78.8-2.07 0-2.86zM5.41 20L4 18.59l7.72-7.72 1.47 1.35L5.41 20z\"/>\n",
              "  </svg>\n",
              "      </button>\n",
              "      \n",
              "  <style>\n",
              "    .colab-df-container {\n",
              "      display:flex;\n",
              "      flex-wrap:wrap;\n",
              "      gap: 12px;\n",
              "    }\n",
              "\n",
              "    .colab-df-convert {\n",
              "      background-color: #E8F0FE;\n",
              "      border: none;\n",
              "      border-radius: 50%;\n",
              "      cursor: pointer;\n",
              "      display: none;\n",
              "      fill: #1967D2;\n",
              "      height: 32px;\n",
              "      padding: 0 0 0 0;\n",
              "      width: 32px;\n",
              "    }\n",
              "\n",
              "    .colab-df-convert:hover {\n",
              "      background-color: #E2EBFA;\n",
              "      box-shadow: 0px 1px 2px rgba(60, 64, 67, 0.3), 0px 1px 3px 1px rgba(60, 64, 67, 0.15);\n",
              "      fill: #174EA6;\n",
              "    }\n",
              "\n",
              "    [theme=dark] .colab-df-convert {\n",
              "      background-color: #3B4455;\n",
              "      fill: #D2E3FC;\n",
              "    }\n",
              "\n",
              "    [theme=dark] .colab-df-convert:hover {\n",
              "      background-color: #434B5C;\n",
              "      box-shadow: 0px 1px 3px 1px rgba(0, 0, 0, 0.15);\n",
              "      filter: drop-shadow(0px 1px 2px rgba(0, 0, 0, 0.3));\n",
              "      fill: #FFFFFF;\n",
              "    }\n",
              "  </style>\n",
              "\n",
              "      <script>\n",
              "        const buttonEl =\n",
              "          document.querySelector('#df-64b9e6e4-0c9c-4308-bc53-a00704a837b9 button.colab-df-convert');\n",
              "        buttonEl.style.display =\n",
              "          google.colab.kernel.accessAllowed ? 'block' : 'none';\n",
              "\n",
              "        async function convertToInteractive(key) {\n",
              "          const element = document.querySelector('#df-64b9e6e4-0c9c-4308-bc53-a00704a837b9');\n",
              "          const dataTable =\n",
              "            await google.colab.kernel.invokeFunction('convertToInteractive',\n",
              "                                                     [key], {});\n",
              "          if (!dataTable) return;\n",
              "\n",
              "          const docLinkHtml = 'Like what you see? Visit the ' +\n",
              "            '<a target=\"_blank\" href=https://colab.research.google.com/notebooks/data_table.ipynb>data table notebook</a>'\n",
              "            + ' to learn more about interactive tables.';\n",
              "          element.innerHTML = '';\n",
              "          dataTable['output_type'] = 'display_data';\n",
              "          await google.colab.output.renderOutput(dataTable, element);\n",
              "          const docLink = document.createElement('div');\n",
              "          docLink.innerHTML = docLinkHtml;\n",
              "          element.appendChild(docLink);\n",
              "        }\n",
              "      </script>\n",
              "    </div>\n",
              "  </div>\n",
              "  "
            ],
            "text/plain": [
              "   text_id  category                   mention  start  end sentiment\n",
              "0    30808     Whole                 ресторане     16   25   neutral\n",
              "1    30808  Interior              первом этаже     43   55   neutral\n",
              "2    30808     Whole     руководству ресторана    124  145  positive\n",
              "3    30808   Service  обслуживающему персоналу    147  171  positive\n",
              "4    30808   Service               сотрудникам    189  200  positive"
            ]
          },
          "metadata": {},
          "execution_count": 38
        }
      ],
      "source": [
        "train_asp.head()"
      ],
      "id": "o3e0wB2Zm21j"
    },
    {
      "cell_type": "code",
      "execution_count": 39,
      "metadata": {
        "colab": {
          "base_uri": "https://localhost:8080/",
          "height": 204
        },
        "id": "gQ1td6z1m21k",
        "outputId": "b6004050-8aba-4ed7-8c23-ad53aa72a27d"
      },
      "outputs": [
        {
          "output_type": "execute_result",
          "data": {
            "text/html": [
              "\n",
              "  <div id=\"df-a2f58b4f-099c-4d56-8c5b-d9cfd23fa513\">\n",
              "    <div class=\"colab-df-container\">\n",
              "      <div>\n",
              "<style scoped>\n",
              "    .dataframe tbody tr th:only-of-type {\n",
              "        vertical-align: middle;\n",
              "    }\n",
              "\n",
              "    .dataframe tbody tr th {\n",
              "        vertical-align: top;\n",
              "    }\n",
              "\n",
              "    .dataframe thead th {\n",
              "        text-align: right;\n",
              "    }\n",
              "</style>\n",
              "<table border=\"1\" class=\"dataframe\">\n",
              "  <thead>\n",
              "    <tr style=\"text-align: right;\">\n",
              "      <th></th>\n",
              "      <th>text_id</th>\n",
              "      <th>text</th>\n",
              "    </tr>\n",
              "  </thead>\n",
              "  <tbody>\n",
              "    <tr>\n",
              "      <th>0</th>\n",
              "      <td>25709</td>\n",
              "      <td>Были 1 февраля. Я второй раз, подруга - первый...</td>\n",
              "    </tr>\n",
              "    <tr>\n",
              "      <th>1</th>\n",
              "      <td>10099</td>\n",
              "      <td>Были в Дитае на прошлой неделе с подругой. Заш...</td>\n",
              "    </tr>\n",
              "    <tr>\n",
              "      <th>2</th>\n",
              "      <td>1105</td>\n",
              "      <td>Один из моих любимых ресторанов. С самого откр...</td>\n",
              "    </tr>\n",
              "    <tr>\n",
              "      <th>3</th>\n",
              "      <td>3647</td>\n",
              "      <td>Остались очень довольны. Хотим поблагодарить ш...</td>\n",
              "    </tr>\n",
              "    <tr>\n",
              "      <th>4</th>\n",
              "      <td>37070</td>\n",
              "      <td>приехали к друзьям в Питер из Москвы на Новый ...</td>\n",
              "    </tr>\n",
              "  </tbody>\n",
              "</table>\n",
              "</div>\n",
              "      <button class=\"colab-df-convert\" onclick=\"convertToInteractive('df-a2f58b4f-099c-4d56-8c5b-d9cfd23fa513')\"\n",
              "              title=\"Convert this dataframe to an interactive table.\"\n",
              "              style=\"display:none;\">\n",
              "        \n",
              "  <svg xmlns=\"http://www.w3.org/2000/svg\" height=\"24px\"viewBox=\"0 0 24 24\"\n",
              "       width=\"24px\">\n",
              "    <path d=\"M0 0h24v24H0V0z\" fill=\"none\"/>\n",
              "    <path d=\"M18.56 5.44l.94 2.06.94-2.06 2.06-.94-2.06-.94-.94-2.06-.94 2.06-2.06.94zm-11 1L8.5 8.5l.94-2.06 2.06-.94-2.06-.94L8.5 2.5l-.94 2.06-2.06.94zm10 10l.94 2.06.94-2.06 2.06-.94-2.06-.94-.94-2.06-.94 2.06-2.06.94z\"/><path d=\"M17.41 7.96l-1.37-1.37c-.4-.4-.92-.59-1.43-.59-.52 0-1.04.2-1.43.59L10.3 9.45l-7.72 7.72c-.78.78-.78 2.05 0 2.83L4 21.41c.39.39.9.59 1.41.59.51 0 1.02-.2 1.41-.59l7.78-7.78 2.81-2.81c.8-.78.8-2.07 0-2.86zM5.41 20L4 18.59l7.72-7.72 1.47 1.35L5.41 20z\"/>\n",
              "  </svg>\n",
              "      </button>\n",
              "      \n",
              "  <style>\n",
              "    .colab-df-container {\n",
              "      display:flex;\n",
              "      flex-wrap:wrap;\n",
              "      gap: 12px;\n",
              "    }\n",
              "\n",
              "    .colab-df-convert {\n",
              "      background-color: #E8F0FE;\n",
              "      border: none;\n",
              "      border-radius: 50%;\n",
              "      cursor: pointer;\n",
              "      display: none;\n",
              "      fill: #1967D2;\n",
              "      height: 32px;\n",
              "      padding: 0 0 0 0;\n",
              "      width: 32px;\n",
              "    }\n",
              "\n",
              "    .colab-df-convert:hover {\n",
              "      background-color: #E2EBFA;\n",
              "      box-shadow: 0px 1px 2px rgba(60, 64, 67, 0.3), 0px 1px 3px 1px rgba(60, 64, 67, 0.15);\n",
              "      fill: #174EA6;\n",
              "    }\n",
              "\n",
              "    [theme=dark] .colab-df-convert {\n",
              "      background-color: #3B4455;\n",
              "      fill: #D2E3FC;\n",
              "    }\n",
              "\n",
              "    [theme=dark] .colab-df-convert:hover {\n",
              "      background-color: #434B5C;\n",
              "      box-shadow: 0px 1px 3px 1px rgba(0, 0, 0, 0.15);\n",
              "      filter: drop-shadow(0px 1px 2px rgba(0, 0, 0, 0.3));\n",
              "      fill: #FFFFFF;\n",
              "    }\n",
              "  </style>\n",
              "\n",
              "      <script>\n",
              "        const buttonEl =\n",
              "          document.querySelector('#df-a2f58b4f-099c-4d56-8c5b-d9cfd23fa513 button.colab-df-convert');\n",
              "        buttonEl.style.display =\n",
              "          google.colab.kernel.accessAllowed ? 'block' : 'none';\n",
              "\n",
              "        async function convertToInteractive(key) {\n",
              "          const element = document.querySelector('#df-a2f58b4f-099c-4d56-8c5b-d9cfd23fa513');\n",
              "          const dataTable =\n",
              "            await google.colab.kernel.invokeFunction('convertToInteractive',\n",
              "                                                     [key], {});\n",
              "          if (!dataTable) return;\n",
              "\n",
              "          const docLinkHtml = 'Like what you see? Visit the ' +\n",
              "            '<a target=\"_blank\" href=https://colab.research.google.com/notebooks/data_table.ipynb>data table notebook</a>'\n",
              "            + ' to learn more about interactive tables.';\n",
              "          element.innerHTML = '';\n",
              "          dataTable['output_type'] = 'display_data';\n",
              "          await google.colab.output.renderOutput(dataTable, element);\n",
              "          const docLink = document.createElement('div');\n",
              "          docLink.innerHTML = docLinkHtml;\n",
              "          element.appendChild(docLink);\n",
              "        }\n",
              "      </script>\n",
              "    </div>\n",
              "  </div>\n",
              "  "
            ],
            "text/plain": [
              "   text_id                                               text\n",
              "0    25709  Были 1 февраля. Я второй раз, подруга - первый...\n",
              "1    10099  Были в Дитае на прошлой неделе с подругой. Заш...\n",
              "2     1105  Один из моих любимых ресторанов. С самого откр...\n",
              "3     3647  Остались очень довольны. Хотим поблагодарить ш...\n",
              "4    37070  приехали к друзьям в Питер из Москвы на Новый ..."
            ]
          },
          "metadata": {},
          "execution_count": 39
        }
      ],
      "source": [
        "train_texts.head()"
      ],
      "id": "gQ1td6z1m21k"
    },
    {
      "cell_type": "code",
      "execution_count": 40,
      "metadata": {
        "id": "NqfSgigOm21l"
      },
      "outputs": [],
      "source": [
        "from tqdm import tqdm\n",
        "import re"
      ],
      "id": "NqfSgigOm21l"
    },
    {
      "cell_type": "markdown",
      "metadata": {
        "id": "rN3nOMSJm21m"
      },
      "source": [
        "Функция для создания окна в n слов вокруг упоминания аспекта в тексте отзыва:"
      ],
      "id": "rN3nOMSJm21m"
    },
    {
      "cell_type": "code",
      "execution_count": 41,
      "metadata": {
        "id": "8xKtyUz5m21o"
      },
      "outputs": [],
      "source": [
        "def depunct(text):\n",
        "    return re.sub(\"[^а-яёА-ЯЁ \\-]\", \"\", text)"
      ],
      "id": "8xKtyUz5m21o"
    },
    {
      "cell_type": "code",
      "execution_count": 42,
      "metadata": {
        "id": "shvTxzogm21p"
      },
      "outputs": [],
      "source": [
        "def text_window(text, start, end, window=7, padding=True):\n",
        "    after_text = depunct(text[end+1:])\n",
        "    before_text = depunct(text[:start])\n",
        "    end_text = \"\"\n",
        "    start_text = \"\"\n",
        "    if after_text:\n",
        "        space_counter = 0\n",
        "        i = 0\n",
        "        while space_counter < window:\n",
        "            end_text += after_text[i]\n",
        "            if i == len(after_text) - 1:\n",
        "                break\n",
        "            i += 1\n",
        "            if after_text[i] == \" \":\n",
        "                space_counter += 1\n",
        "\n",
        "    if before_text:\n",
        "        space_counter = 0\n",
        "        i = -1\n",
        "        while space_counter < window:\n",
        "            start_text += before_text[i]\n",
        "            if i == -len(before_text):\n",
        "                break\n",
        "            i -= 1\n",
        "            if before_text[i] == \" \":\n",
        "                space_counter += 1\n",
        "    \n",
        "    end_tokens = end_text.strip().split()\n",
        "    start_tokens = start_text[::-1].strip().split()\n",
        "    if padding:\n",
        "        while len(end_tokens) < window:\n",
        "            end_tokens.append(\"PAD\")\n",
        "        while len(start_tokens) < window:\n",
        "            start_tokens.insert(0, \"PAD\")\n",
        "    return start_tokens, end_tokens"
      ],
      "id": "shvTxzogm21p"
    },
    {
      "cell_type": "code",
      "execution_count": 43,
      "metadata": {
        "id": "sqaqJf1Xm21q"
      },
      "outputs": [],
      "source": [
        "from sklearn.feature_extraction.text import TfidfVectorizer"
      ],
      "id": "sqaqJf1Xm21q"
    },
    {
      "cell_type": "code",
      "source": [
        "!wget https://github.com/named-entity/hse-nlp/raw/master/4th_year/Project/dev_reviews.txt\n",
        "!wget https://github.com/named-entity/hse-nlp/raw/master/4th_year/Project/dev_aspects.txt"
      ],
      "metadata": {
        "id": "auTjGTa7nn4v"
      },
      "id": "auTjGTa7nn4v",
      "execution_count": null,
      "outputs": []
    },
    {
      "cell_type": "code",
      "execution_count": 45,
      "metadata": {
        "id": "WMVlJuQTm21r"
      },
      "outputs": [],
      "source": [
        "dev_texts = pd.read_csv('dev_reviews.txt', delimiter='\\t', names=['text_id', 'text'])"
      ],
      "id": "WMVlJuQTm21r"
    },
    {
      "cell_type": "code",
      "execution_count": 46,
      "metadata": {
        "id": "j72sIJL5m21r"
      },
      "outputs": [],
      "source": [
        "dev_aspects = pd.read_csv('dev_aspects.txt',\n",
        "                          delimiter='\\t',\n",
        "                          names=['text_id', 'category', 'mention', 'start', 'end', 'sentiment'])"
      ],
      "id": "j72sIJL5m21r"
    },
    {
      "cell_type": "code",
      "execution_count": 47,
      "metadata": {
        "colab": {
          "base_uri": "https://localhost:8080/",
          "height": 204
        },
        "id": "4nKWWWAFm21s",
        "outputId": "20cf8cca-d6a1-4303-b7eb-e7b09ea94ff8"
      },
      "outputs": [
        {
          "output_type": "execute_result",
          "data": {
            "text/html": [
              "\n",
              "  <div id=\"df-15adad97-9b21-4e84-8f81-cf70deb1cc73\">\n",
              "    <div class=\"colab-df-container\">\n",
              "      <div>\n",
              "<style scoped>\n",
              "    .dataframe tbody tr th:only-of-type {\n",
              "        vertical-align: middle;\n",
              "    }\n",
              "\n",
              "    .dataframe tbody tr th {\n",
              "        vertical-align: top;\n",
              "    }\n",
              "\n",
              "    .dataframe thead th {\n",
              "        text-align: right;\n",
              "    }\n",
              "</style>\n",
              "<table border=\"1\" class=\"dataframe\">\n",
              "  <thead>\n",
              "    <tr style=\"text-align: right;\">\n",
              "      <th></th>\n",
              "      <th>text_id</th>\n",
              "      <th>category</th>\n",
              "      <th>mention</th>\n",
              "      <th>start</th>\n",
              "      <th>end</th>\n",
              "      <th>sentiment</th>\n",
              "    </tr>\n",
              "  </thead>\n",
              "  <tbody>\n",
              "    <tr>\n",
              "      <th>0</th>\n",
              "      <td>3976</td>\n",
              "      <td>Whole</td>\n",
              "      <td>ресторане</td>\n",
              "      <td>71</td>\n",
              "      <td>80</td>\n",
              "      <td>neutral</td>\n",
              "    </tr>\n",
              "    <tr>\n",
              "      <th>1</th>\n",
              "      <td>3976</td>\n",
              "      <td>Whole</td>\n",
              "      <td>ресторанах</td>\n",
              "      <td>198</td>\n",
              "      <td>208</td>\n",
              "      <td>neutral</td>\n",
              "    </tr>\n",
              "    <tr>\n",
              "      <th>2</th>\n",
              "      <td>3976</td>\n",
              "      <td>Whole</td>\n",
              "      <td>ресторане</td>\n",
              "      <td>256</td>\n",
              "      <td>265</td>\n",
              "      <td>neutral</td>\n",
              "    </tr>\n",
              "    <tr>\n",
              "      <th>3</th>\n",
              "      <td>3976</td>\n",
              "      <td>Service</td>\n",
              "      <td>Столик бронировали</td>\n",
              "      <td>267</td>\n",
              "      <td>285</td>\n",
              "      <td>neutral</td>\n",
              "    </tr>\n",
              "    <tr>\n",
              "      <th>4</th>\n",
              "      <td>3976</td>\n",
              "      <td>Service</td>\n",
              "      <td>администратор</td>\n",
              "      <td>322</td>\n",
              "      <td>335</td>\n",
              "      <td>positive</td>\n",
              "    </tr>\n",
              "  </tbody>\n",
              "</table>\n",
              "</div>\n",
              "      <button class=\"colab-df-convert\" onclick=\"convertToInteractive('df-15adad97-9b21-4e84-8f81-cf70deb1cc73')\"\n",
              "              title=\"Convert this dataframe to an interactive table.\"\n",
              "              style=\"display:none;\">\n",
              "        \n",
              "  <svg xmlns=\"http://www.w3.org/2000/svg\" height=\"24px\"viewBox=\"0 0 24 24\"\n",
              "       width=\"24px\">\n",
              "    <path d=\"M0 0h24v24H0V0z\" fill=\"none\"/>\n",
              "    <path d=\"M18.56 5.44l.94 2.06.94-2.06 2.06-.94-2.06-.94-.94-2.06-.94 2.06-2.06.94zm-11 1L8.5 8.5l.94-2.06 2.06-.94-2.06-.94L8.5 2.5l-.94 2.06-2.06.94zm10 10l.94 2.06.94-2.06 2.06-.94-2.06-.94-.94-2.06-.94 2.06-2.06.94z\"/><path d=\"M17.41 7.96l-1.37-1.37c-.4-.4-.92-.59-1.43-.59-.52 0-1.04.2-1.43.59L10.3 9.45l-7.72 7.72c-.78.78-.78 2.05 0 2.83L4 21.41c.39.39.9.59 1.41.59.51 0 1.02-.2 1.41-.59l7.78-7.78 2.81-2.81c.8-.78.8-2.07 0-2.86zM5.41 20L4 18.59l7.72-7.72 1.47 1.35L5.41 20z\"/>\n",
              "  </svg>\n",
              "      </button>\n",
              "      \n",
              "  <style>\n",
              "    .colab-df-container {\n",
              "      display:flex;\n",
              "      flex-wrap:wrap;\n",
              "      gap: 12px;\n",
              "    }\n",
              "\n",
              "    .colab-df-convert {\n",
              "      background-color: #E8F0FE;\n",
              "      border: none;\n",
              "      border-radius: 50%;\n",
              "      cursor: pointer;\n",
              "      display: none;\n",
              "      fill: #1967D2;\n",
              "      height: 32px;\n",
              "      padding: 0 0 0 0;\n",
              "      width: 32px;\n",
              "    }\n",
              "\n",
              "    .colab-df-convert:hover {\n",
              "      background-color: #E2EBFA;\n",
              "      box-shadow: 0px 1px 2px rgba(60, 64, 67, 0.3), 0px 1px 3px 1px rgba(60, 64, 67, 0.15);\n",
              "      fill: #174EA6;\n",
              "    }\n",
              "\n",
              "    [theme=dark] .colab-df-convert {\n",
              "      background-color: #3B4455;\n",
              "      fill: #D2E3FC;\n",
              "    }\n",
              "\n",
              "    [theme=dark] .colab-df-convert:hover {\n",
              "      background-color: #434B5C;\n",
              "      box-shadow: 0px 1px 3px 1px rgba(0, 0, 0, 0.15);\n",
              "      filter: drop-shadow(0px 1px 2px rgba(0, 0, 0, 0.3));\n",
              "      fill: #FFFFFF;\n",
              "    }\n",
              "  </style>\n",
              "\n",
              "      <script>\n",
              "        const buttonEl =\n",
              "          document.querySelector('#df-15adad97-9b21-4e84-8f81-cf70deb1cc73 button.colab-df-convert');\n",
              "        buttonEl.style.display =\n",
              "          google.colab.kernel.accessAllowed ? 'block' : 'none';\n",
              "\n",
              "        async function convertToInteractive(key) {\n",
              "          const element = document.querySelector('#df-15adad97-9b21-4e84-8f81-cf70deb1cc73');\n",
              "          const dataTable =\n",
              "            await google.colab.kernel.invokeFunction('convertToInteractive',\n",
              "                                                     [key], {});\n",
              "          if (!dataTable) return;\n",
              "\n",
              "          const docLinkHtml = 'Like what you see? Visit the ' +\n",
              "            '<a target=\"_blank\" href=https://colab.research.google.com/notebooks/data_table.ipynb>data table notebook</a>'\n",
              "            + ' to learn more about interactive tables.';\n",
              "          element.innerHTML = '';\n",
              "          dataTable['output_type'] = 'display_data';\n",
              "          await google.colab.output.renderOutput(dataTable, element);\n",
              "          const docLink = document.createElement('div');\n",
              "          docLink.innerHTML = docLinkHtml;\n",
              "          element.appendChild(docLink);\n",
              "        }\n",
              "      </script>\n",
              "    </div>\n",
              "  </div>\n",
              "  "
            ],
            "text/plain": [
              "   text_id category             mention  start  end sentiment\n",
              "0     3976    Whole           ресторане     71   80   neutral\n",
              "1     3976    Whole          ресторанах    198  208   neutral\n",
              "2     3976    Whole           ресторане    256  265   neutral\n",
              "3     3976  Service  Столик бронировали    267  285   neutral\n",
              "4     3976  Service       администратор    322  335  positive"
            ]
          },
          "metadata": {},
          "execution_count": 47
        }
      ],
      "source": [
        "dev_aspects.head()"
      ],
      "id": "4nKWWWAFm21s"
    },
    {
      "cell_type": "markdown",
      "metadata": {
        "id": "FkE1fdoUm21u"
      },
      "source": [
        "В качестве классификатора была выбрана логистическая регрессия, поскольку она показала лучшие результаты в сравнении с наивным байесом:"
      ],
      "id": "FkE1fdoUm21u"
    },
    {
      "cell_type": "markdown",
      "metadata": {
        "id": "N8eZDniMm21v"
      },
      "source": [
        "![image.png](attachment:image.png)"
      ],
      "id": "N8eZDniMm21v"
    },
    {
      "cell_type": "markdown",
      "metadata": {
        "id": "CHp_lyUkm21w"
      },
      "source": [
        "Посмотрим, какое окно лучше всего отобразится на accuracy и f1.\n",
        "\n",
        "Для этого сравним между собой модели логистической регрессии, дав им окна разного размера.\n",
        "\n",
        "Окна векторизуются при помощи TF-IDF. Странным образом, эмбеддинги этих окон при помощи BERT дали результаты хуже."
      ],
      "id": "CHp_lyUkm21w"
    },
    {
      "cell_type": "code",
      "execution_count": 48,
      "metadata": {
        "id": "XxUHdXjkm21x"
      },
      "outputs": [],
      "source": [
        "from sklearn.metrics import f1_score, accuracy_score\n",
        "from sklearn.linear_model import LogisticRegression\n",
        "from sklearn.metrics import plot_confusion_matrix"
      ],
      "id": "XxUHdXjkm21x"
    },
    {
      "cell_type": "code",
      "execution_count": 49,
      "metadata": {
        "colab": {
          "base_uri": "https://localhost:8080/"
        },
        "id": "jlUz0gzim21y",
        "outputId": "4b3df1bb-4be4-4465-a60b-4e80602fb818"
      },
      "outputs": [
        {
          "output_type": "stream",
          "name": "stderr",
          "text": [
            "100%|██████████| 3573/3573 [00:01<00:00, 1852.17it/s]\n",
            "100%|██████████| 1190/1190 [00:00<00:00, 1839.79it/s]\n",
            "100%|██████████| 3573/3573 [00:03<00:00, 1009.00it/s]\n",
            "100%|██████████| 1190/1190 [00:01<00:00, 768.72it/s]\n",
            "100%|██████████| 3573/3573 [00:01<00:00, 1915.53it/s]\n",
            "100%|██████████| 1190/1190 [00:00<00:00, 1766.35it/s]\n",
            "100%|██████████| 3573/3573 [00:02<00:00, 1530.74it/s]\n",
            "100%|██████████| 1190/1190 [00:01<00:00, 876.71it/s]\n",
            "100%|██████████| 3573/3573 [00:02<00:00, 1707.64it/s]\n",
            "100%|██████████| 1190/1190 [00:00<00:00, 1897.74it/s]\n",
            "100%|██████████| 3573/3573 [00:02<00:00, 1732.76it/s]\n",
            "100%|██████████| 1190/1190 [00:00<00:00, 1755.04it/s]\n",
            "100%|██████████| 3573/3573 [00:02<00:00, 1755.03it/s]\n",
            "100%|██████████| 1190/1190 [00:00<00:00, 1680.84it/s]\n",
            "100%|██████████| 3573/3573 [00:02<00:00, 1722.22it/s]\n",
            "100%|██████████| 1190/1190 [00:00<00:00, 1797.71it/s]\n"
          ]
        }
      ],
      "source": [
        "logreg_by_window = {}\n",
        "y_train = train_asp[\"sentiment\"]\n",
        "for window_size in range(2, 10):\n",
        "    aspect_windows = []\n",
        "    for asp in tqdm(train_asp.values):\n",
        "        text_id = asp[0]\n",
        "        start = asp[3]\n",
        "        end = asp[4]\n",
        "        aspect_windows.append(text_window(list(train_texts[train_texts.text_id == text_id].text)[0], start, end, window_size))\n",
        "    \n",
        "    tfidf = TfidfVectorizer()\n",
        "    tfidf_matrix = tfidf.fit_transform([\" \".join(windows[0]+windows[1]) for windows in aspect_windows])\n",
        "    test_aspect_windows = []\n",
        "\n",
        "    for asp in tqdm(dev_aspects.values):\n",
        "        text_id = asp[0]\n",
        "        start = asp[3]\n",
        "        end = asp[4]\n",
        "        test_aspect_windows.append(text_window(list(dev_texts[dev_texts.text_id == text_id].text)[0], start, end, window_size))\n",
        "    tfidf_test = tfidf.transform([\" \".join(windows[0]+windows[1]) for windows in test_aspect_windows])\n",
        "    X_train = tfidf_matrix.toarray()\n",
        "    \n",
        "    logreg = LogisticRegression()\n",
        "    logreg.fit(X_train, y_train)\n",
        "    logreg_by_window[window_size] = [accuracy_score(dev_aspects.sentiment, logreg.predict(tfidf_test.toarray())),\n",
        "                                     f1_score(dev_aspects.sentiment, logreg.predict(tfidf_test.toarray()), average=\"weighted\")]"
      ],
      "id": "jlUz0gzim21y"
    },
    {
      "cell_type": "code",
      "execution_count": 50,
      "metadata": {
        "colab": {
          "base_uri": "https://localhost:8080/"
        },
        "id": "sgxUhKYAm210",
        "outputId": "435e139d-871d-4a9c-ff0d-4e93a7659583"
      },
      "outputs": [
        {
          "output_type": "execute_result",
          "data": {
            "text/plain": [
              "{2: [0.6848739495798319, 0.6203125983361587],\n",
              " 3: [0.6957983193277311, 0.6397988335827666],\n",
              " 4: [0.7016806722689075, 0.6397050679018753],\n",
              " 5: [0.7, 0.64201176660297],\n",
              " 6: [0.7058823529411765, 0.6419335715610255],\n",
              " 7: [0.7067226890756303, 0.6439199377529347],\n",
              " 8: [0.7, 0.63312591990457],\n",
              " 9: [0.6974789915966386, 0.630827102473007]}"
            ]
          },
          "metadata": {},
          "execution_count": 50
        }
      ],
      "source": [
        "logreg_by_window"
      ],
      "id": "sgxUhKYAm210"
    },
    {
      "cell_type": "markdown",
      "metadata": {
        "id": "caYZ3usTm211"
      },
      "source": [
        "Получаем оптимальный размер окна – 7, при котором максимальные accuracy и f1.\n",
        "\n",
        "Построим эту модель еще раз."
      ],
      "id": "caYZ3usTm211"
    },
    {
      "cell_type": "code",
      "execution_count": 51,
      "metadata": {
        "colab": {
          "base_uri": "https://localhost:8080/"
        },
        "id": "mc8Q0mtsm211",
        "outputId": "f33a64b9-c9c0-4ec9-e68a-4ebc9d77d46a"
      },
      "outputs": [
        {
          "output_type": "stream",
          "name": "stderr",
          "text": [
            "100%|██████████| 3573/3573 [00:02<00:00, 1760.39it/s]\n",
            "100%|██████████| 1190/1190 [00:00<00:00, 1711.60it/s]\n"
          ]
        },
        {
          "output_type": "execute_result",
          "data": {
            "text/plain": [
              "LogisticRegression()"
            ]
          },
          "metadata": {},
          "execution_count": 51
        }
      ],
      "source": [
        "aspect_windows = []\n",
        "for asp in tqdm(train_asp.values):\n",
        "    text_id = asp[0]\n",
        "    start = asp[3]\n",
        "    end = asp[4]\n",
        "    aspect_windows.append(text_window(list(train_texts[train_texts.text_id == text_id].text)[0], start, end, 7))\n",
        "\n",
        "tfidf = TfidfVectorizer()\n",
        "tfidf_matrix = tfidf.fit_transform([\" \".join(windows[0]+windows[1]) for windows in aspect_windows])\n",
        "X_train = tfidf_matrix.toarray()\n",
        "\n",
        "test_aspect_windows = []\n",
        "for asp in tqdm(dev_aspects.values):\n",
        "    text_id = asp[0]\n",
        "    start = asp[3]\n",
        "    end = asp[4]\n",
        "    test_aspect_windows.append(text_window(list(dev_texts[dev_texts.text_id == text_id].text)[0], start, end, window_size))\n",
        "tfidf_test = tfidf.transform([\" \".join(windows[0]+windows[1]) for windows in test_aspect_windows])\n",
        "\n",
        "logreg = LogisticRegression()\n",
        "logreg.fit(X_train, y_train)"
      ],
      "id": "mc8Q0mtsm211"
    },
    {
      "cell_type": "markdown",
      "metadata": {
        "id": "BaDanQ5fm213"
      },
      "source": [
        "Мы видим, что несмотря на то, что это лучшая модель, она все равно большинство отзывов считает positive."
      ],
      "id": "BaDanQ5fm213"
    },
    {
      "cell_type": "code",
      "execution_count": 52,
      "metadata": {
        "scrolled": true,
        "colab": {
          "base_uri": "https://localhost:8080/",
          "height": 350
        },
        "id": "Jzcmu1v_m214",
        "outputId": "f5fd9809-d52b-4de0-d9cc-1222eb4a6761"
      },
      "outputs": [
        {
          "output_type": "stream",
          "name": "stderr",
          "text": [
            "/usr/local/lib/python3.7/dist-packages/sklearn/utils/deprecation.py:87: FutureWarning: Function plot_confusion_matrix is deprecated; Function `plot_confusion_matrix` is deprecated in 1.0 and will be removed in 1.2. Use one of the class methods: ConfusionMatrixDisplay.from_predictions or ConfusionMatrixDisplay.from_estimator.\n",
            "  warnings.warn(msg, category=FutureWarning)\n"
          ]
        },
        {
          "output_type": "execute_result",
          "data": {
            "text/plain": [
              "<sklearn.metrics._plot.confusion_matrix.ConfusionMatrixDisplay at 0x7ff413532a90>"
            ]
          },
          "metadata": {},
          "execution_count": 52
        },
        {
          "output_type": "display_data",
          "data": {
            "image/png": "[encoded data removed]",
            "text/plain": [
              "<Figure size 432x288 with 2 Axes>"
            ]
          },
          "metadata": {
            "needs_background": "light"
          }
        }
      ],
      "source": [
        "plot_confusion_matrix(logreg, tfidf_test.toarray(), dev_aspects.sentiment)"
      ],
      "id": "Jzcmu1v_m214"
    },
    {
      "cell_type": "markdown",
      "metadata": {
        "id": "cK2s0Vfnm215"
      },
      "source": [
        "Сделаем предсказания для размеченных нами аспектов."
      ],
      "id": "cK2s0Vfnm215"
    },
    {
      "cell_type": "code",
      "execution_count": 53,
      "metadata": {
        "id": "Sljrv8aym215"
      },
      "outputs": [],
      "source": [
        "dev_aspects_predicted = pd.read_csv('dev_pred_aspects.txt',\n",
        "                                    delimiter='\\t',\n",
        "                                    names=['text_id', 'category', 'mention', 'start', 'end', 'sentiment'])"
      ],
      "id": "Sljrv8aym215"
    },
    {
      "cell_type": "code",
      "execution_count": 54,
      "metadata": {
        "colab": {
          "base_uri": "https://localhost:8080/",
          "height": 204
        },
        "id": "cVH75GiNm216",
        "outputId": "5065f590-2bb6-47f9-e496-7b782c702d25"
      },
      "outputs": [
        {
          "output_type": "execute_result",
          "data": {
            "text/html": [
              "\n",
              "  <div id=\"df-42b4c6f9-2761-4c06-a735-35acb229407c\">\n",
              "    <div class=\"colab-df-container\">\n",
              "      <div>\n",
              "<style scoped>\n",
              "    .dataframe tbody tr th:only-of-type {\n",
              "        vertical-align: middle;\n",
              "    }\n",
              "\n",
              "    .dataframe tbody tr th {\n",
              "        vertical-align: top;\n",
              "    }\n",
              "\n",
              "    .dataframe thead th {\n",
              "        text-align: right;\n",
              "    }\n",
              "</style>\n",
              "<table border=\"1\" class=\"dataframe\">\n",
              "  <thead>\n",
              "    <tr style=\"text-align: right;\">\n",
              "      <th></th>\n",
              "      <th>text_id</th>\n",
              "      <th>category</th>\n",
              "      <th>mention</th>\n",
              "      <th>start</th>\n",
              "      <th>end</th>\n",
              "      <th>sentiment</th>\n",
              "    </tr>\n",
              "  </thead>\n",
              "  <tbody>\n",
              "    <tr>\n",
              "      <th>0</th>\n",
              "      <td>785</td>\n",
              "      <td>Service</td>\n",
              "      <td>администратор</td>\n",
              "      <td>416</td>\n",
              "      <td>429</td>\n",
              "      <td>NaN</td>\n",
              "    </tr>\n",
              "    <tr>\n",
              "      <th>1</th>\n",
              "      <td>785</td>\n",
              "      <td>Service</td>\n",
              "      <td>помогла</td>\n",
              "      <td>392</td>\n",
              "      <td>399</td>\n",
              "      <td>NaN</td>\n",
              "    </tr>\n",
              "    <tr>\n",
              "      <th>2</th>\n",
              "      <td>785</td>\n",
              "      <td>Food</td>\n",
              "      <td>виды блюд</td>\n",
              "      <td>334</td>\n",
              "      <td>343</td>\n",
              "      <td>NaN</td>\n",
              "    </tr>\n",
              "    <tr>\n",
              "      <th>3</th>\n",
              "      <td>785</td>\n",
              "      <td>Food</td>\n",
              "      <td>Меню</td>\n",
              "      <td>176</td>\n",
              "      <td>180</td>\n",
              "      <td>NaN</td>\n",
              "    </tr>\n",
              "    <tr>\n",
              "      <th>4</th>\n",
              "      <td>785</td>\n",
              "      <td>Whole</td>\n",
              "      <td>Ресторан</td>\n",
              "      <td>69</td>\n",
              "      <td>77</td>\n",
              "      <td>NaN</td>\n",
              "    </tr>\n",
              "  </tbody>\n",
              "</table>\n",
              "</div>\n",
              "      <button class=\"colab-df-convert\" onclick=\"convertToInteractive('df-42b4c6f9-2761-4c06-a735-35acb229407c')\"\n",
              "              title=\"Convert this dataframe to an interactive table.\"\n",
              "              style=\"display:none;\">\n",
              "        \n",
              "  <svg xmlns=\"http://www.w3.org/2000/svg\" height=\"24px\"viewBox=\"0 0 24 24\"\n",
              "       width=\"24px\">\n",
              "    <path d=\"M0 0h24v24H0V0z\" fill=\"none\"/>\n",
              "    <path d=\"M18.56 5.44l.94 2.06.94-2.06 2.06-.94-2.06-.94-.94-2.06-.94 2.06-2.06.94zm-11 1L8.5 8.5l.94-2.06 2.06-.94-2.06-.94L8.5 2.5l-.94 2.06-2.06.94zm10 10l.94 2.06.94-2.06 2.06-.94-2.06-.94-.94-2.06-.94 2.06-2.06.94z\"/><path d=\"M17.41 7.96l-1.37-1.37c-.4-.4-.92-.59-1.43-.59-.52 0-1.04.2-1.43.59L10.3 9.45l-7.72 7.72c-.78.78-.78 2.05 0 2.83L4 21.41c.39.39.9.59 1.41.59.51 0 1.02-.2 1.41-.59l7.78-7.78 2.81-2.81c.8-.78.8-2.07 0-2.86zM5.41 20L4 18.59l7.72-7.72 1.47 1.35L5.41 20z\"/>\n",
              "  </svg>\n",
              "      </button>\n",
              "      \n",
              "  <style>\n",
              "    .colab-df-container {\n",
              "      display:flex;\n",
              "      flex-wrap:wrap;\n",
              "      gap: 12px;\n",
              "    }\n",
              "\n",
              "    .colab-df-convert {\n",
              "      background-color: #E8F0FE;\n",
              "      border: none;\n",
              "      border-radius: 50%;\n",
              "      cursor: pointer;\n",
              "      display: none;\n",
              "      fill: #1967D2;\n",
              "      height: 32px;\n",
              "      padding: 0 0 0 0;\n",
              "      width: 32px;\n",
              "    }\n",
              "\n",
              "    .colab-df-convert:hover {\n",
              "      background-color: #E2EBFA;\n",
              "      box-shadow: 0px 1px 2px rgba(60, 64, 67, 0.3), 0px 1px 3px 1px rgba(60, 64, 67, 0.15);\n",
              "      fill: #174EA6;\n",
              "    }\n",
              "\n",
              "    [theme=dark] .colab-df-convert {\n",
              "      background-color: #3B4455;\n",
              "      fill: #D2E3FC;\n",
              "    }\n",
              "\n",
              "    [theme=dark] .colab-df-convert:hover {\n",
              "      background-color: #434B5C;\n",
              "      box-shadow: 0px 1px 3px 1px rgba(0, 0, 0, 0.15);\n",
              "      filter: drop-shadow(0px 1px 2px rgba(0, 0, 0, 0.3));\n",
              "      fill: #FFFFFF;\n",
              "    }\n",
              "  </style>\n",
              "\n",
              "      <script>\n",
              "        const buttonEl =\n",
              "          document.querySelector('#df-42b4c6f9-2761-4c06-a735-35acb229407c button.colab-df-convert');\n",
              "        buttonEl.style.display =\n",
              "          google.colab.kernel.accessAllowed ? 'block' : 'none';\n",
              "\n",
              "        async function convertToInteractive(key) {\n",
              "          const element = document.querySelector('#df-42b4c6f9-2761-4c06-a735-35acb229407c');\n",
              "          const dataTable =\n",
              "            await google.colab.kernel.invokeFunction('convertToInteractive',\n",
              "                                                     [key], {});\n",
              "          if (!dataTable) return;\n",
              "\n",
              "          const docLinkHtml = 'Like what you see? Visit the ' +\n",
              "            '<a target=\"_blank\" href=https://colab.research.google.com/notebooks/data_table.ipynb>data table notebook</a>'\n",
              "            + ' to learn more about interactive tables.';\n",
              "          element.innerHTML = '';\n",
              "          dataTable['output_type'] = 'display_data';\n",
              "          await google.colab.output.renderOutput(dataTable, element);\n",
              "          const docLink = document.createElement('div');\n",
              "          docLink.innerHTML = docLinkHtml;\n",
              "          element.appendChild(docLink);\n",
              "        }\n",
              "      </script>\n",
              "    </div>\n",
              "  </div>\n",
              "  "
            ],
            "text/plain": [
              "   text_id category        mention  start  end  sentiment\n",
              "0      785  Service  администратор    416  429        NaN\n",
              "1      785  Service        помогла    392  399        NaN\n",
              "2      785     Food      виды блюд    334  343        NaN\n",
              "3      785     Food           Меню    176  180        NaN\n",
              "4      785    Whole       Ресторан     69   77        NaN"
            ]
          },
          "metadata": {},
          "execution_count": 54
        }
      ],
      "source": [
        "dev_aspects_predicted.head()"
      ],
      "id": "cVH75GiNm216"
    },
    {
      "cell_type": "code",
      "execution_count": 55,
      "metadata": {
        "colab": {
          "base_uri": "https://localhost:8080/"
        },
        "id": "NKDs4gjbm217",
        "outputId": "f2ec88c2-e626-495c-a096-7fd241eb1bc9"
      },
      "outputs": [
        {
          "output_type": "stream",
          "name": "stderr",
          "text": [
            "100%|██████████| 951/951 [00:00<00:00, 1821.63it/s]\n"
          ]
        }
      ],
      "source": [
        "pred_aspect_windows = []\n",
        "for asp in tqdm(dev_aspects_predicted.values):\n",
        "    text_id = asp[0]\n",
        "    start = asp[3]\n",
        "    end = asp[4]\n",
        "    pred_aspect_windows.append(text_window(list(dev_texts[dev_texts.text_id == text_id].text)[0], start, end, 7))\n",
        "tfidf_test = tfidf.transform([\" \".join(windows[0]+windows[1]) for windows in pred_aspect_windows])"
      ],
      "id": "NKDs4gjbm217"
    },
    {
      "cell_type": "code",
      "execution_count": 56,
      "metadata": {
        "id": "A8Sa_S-Um217"
      },
      "outputs": [],
      "source": [
        "dev_aspects_predicted[\"sentiment\"] = logreg.predict(tfidf_test.toarray())"
      ],
      "id": "A8Sa_S-Um217"
    },
    {
      "cell_type": "code",
      "execution_count": 57,
      "metadata": {
        "colab": {
          "base_uri": "https://localhost:8080/",
          "height": 204
        },
        "id": "uoVhWh8Qm218",
        "outputId": "56874ccc-1565-4b3f-9bcc-794cb7470aac"
      },
      "outputs": [
        {
          "output_type": "execute_result",
          "data": {
            "text/html": [
              "\n",
              "  <div id=\"df-c6bcc913-3959-4987-893a-e569d2848c3d\">\n",
              "    <div class=\"colab-df-container\">\n",
              "      <div>\n",
              "<style scoped>\n",
              "    .dataframe tbody tr th:only-of-type {\n",
              "        vertical-align: middle;\n",
              "    }\n",
              "\n",
              "    .dataframe tbody tr th {\n",
              "        vertical-align: top;\n",
              "    }\n",
              "\n",
              "    .dataframe thead th {\n",
              "        text-align: right;\n",
              "    }\n",
              "</style>\n",
              "<table border=\"1\" class=\"dataframe\">\n",
              "  <thead>\n",
              "    <tr style=\"text-align: right;\">\n",
              "      <th></th>\n",
              "      <th>text_id</th>\n",
              "      <th>category</th>\n",
              "      <th>mention</th>\n",
              "      <th>start</th>\n",
              "      <th>end</th>\n",
              "      <th>sentiment</th>\n",
              "    </tr>\n",
              "  </thead>\n",
              "  <tbody>\n",
              "    <tr>\n",
              "      <th>0</th>\n",
              "      <td>785</td>\n",
              "      <td>Service</td>\n",
              "      <td>администратор</td>\n",
              "      <td>416</td>\n",
              "      <td>429</td>\n",
              "      <td>positive</td>\n",
              "    </tr>\n",
              "    <tr>\n",
              "      <th>1</th>\n",
              "      <td>785</td>\n",
              "      <td>Service</td>\n",
              "      <td>помогла</td>\n",
              "      <td>392</td>\n",
              "      <td>399</td>\n",
              "      <td>positive</td>\n",
              "    </tr>\n",
              "    <tr>\n",
              "      <th>2</th>\n",
              "      <td>785</td>\n",
              "      <td>Food</td>\n",
              "      <td>виды блюд</td>\n",
              "      <td>334</td>\n",
              "      <td>343</td>\n",
              "      <td>negative</td>\n",
              "    </tr>\n",
              "    <tr>\n",
              "      <th>3</th>\n",
              "      <td>785</td>\n",
              "      <td>Food</td>\n",
              "      <td>Меню</td>\n",
              "      <td>176</td>\n",
              "      <td>180</td>\n",
              "      <td>positive</td>\n",
              "    </tr>\n",
              "    <tr>\n",
              "      <th>4</th>\n",
              "      <td>785</td>\n",
              "      <td>Whole</td>\n",
              "      <td>Ресторан</td>\n",
              "      <td>69</td>\n",
              "      <td>77</td>\n",
              "      <td>positive</td>\n",
              "    </tr>\n",
              "  </tbody>\n",
              "</table>\n",
              "</div>\n",
              "      <button class=\"colab-df-convert\" onclick=\"convertToInteractive('df-c6bcc913-3959-4987-893a-e569d2848c3d')\"\n",
              "              title=\"Convert this dataframe to an interactive table.\"\n",
              "              style=\"display:none;\">\n",
              "        \n",
              "  <svg xmlns=\"http://www.w3.org/2000/svg\" height=\"24px\"viewBox=\"0 0 24 24\"\n",
              "       width=\"24px\">\n",
              "    <path d=\"M0 0h24v24H0V0z\" fill=\"none\"/>\n",
              "    <path d=\"M18.56 5.44l.94 2.06.94-2.06 2.06-.94-2.06-.94-.94-2.06-.94 2.06-2.06.94zm-11 1L8.5 8.5l.94-2.06 2.06-.94-2.06-.94L8.5 2.5l-.94 2.06-2.06.94zm10 10l.94 2.06.94-2.06 2.06-.94-2.06-.94-.94-2.06-.94 2.06-2.06.94z\"/><path d=\"M17.41 7.96l-1.37-1.37c-.4-.4-.92-.59-1.43-.59-.52 0-1.04.2-1.43.59L10.3 9.45l-7.72 7.72c-.78.78-.78 2.05 0 2.83L4 21.41c.39.39.9.59 1.41.59.51 0 1.02-.2 1.41-.59l7.78-7.78 2.81-2.81c.8-.78.8-2.07 0-2.86zM5.41 20L4 18.59l7.72-7.72 1.47 1.35L5.41 20z\"/>\n",
              "  </svg>\n",
              "      </button>\n",
              "      \n",
              "  <style>\n",
              "    .colab-df-container {\n",
              "      display:flex;\n",
              "      flex-wrap:wrap;\n",
              "      gap: 12px;\n",
              "    }\n",
              "\n",
              "    .colab-df-convert {\n",
              "      background-color: #E8F0FE;\n",
              "      border: none;\n",
              "      border-radius: 50%;\n",
              "      cursor: pointer;\n",
              "      display: none;\n",
              "      fill: #1967D2;\n",
              "      height: 32px;\n",
              "      padding: 0 0 0 0;\n",
              "      width: 32px;\n",
              "    }\n",
              "\n",
              "    .colab-df-convert:hover {\n",
              "      background-color: #E2EBFA;\n",
              "      box-shadow: 0px 1px 2px rgba(60, 64, 67, 0.3), 0px 1px 3px 1px rgba(60, 64, 67, 0.15);\n",
              "      fill: #174EA6;\n",
              "    }\n",
              "\n",
              "    [theme=dark] .colab-df-convert {\n",
              "      background-color: #3B4455;\n",
              "      fill: #D2E3FC;\n",
              "    }\n",
              "\n",
              "    [theme=dark] .colab-df-convert:hover {\n",
              "      background-color: #434B5C;\n",
              "      box-shadow: 0px 1px 3px 1px rgba(0, 0, 0, 0.15);\n",
              "      filter: drop-shadow(0px 1px 2px rgba(0, 0, 0, 0.3));\n",
              "      fill: #FFFFFF;\n",
              "    }\n",
              "  </style>\n",
              "\n",
              "      <script>\n",
              "        const buttonEl =\n",
              "          document.querySelector('#df-c6bcc913-3959-4987-893a-e569d2848c3d button.colab-df-convert');\n",
              "        buttonEl.style.display =\n",
              "          google.colab.kernel.accessAllowed ? 'block' : 'none';\n",
              "\n",
              "        async function convertToInteractive(key) {\n",
              "          const element = document.querySelector('#df-c6bcc913-3959-4987-893a-e569d2848c3d');\n",
              "          const dataTable =\n",
              "            await google.colab.kernel.invokeFunction('convertToInteractive',\n",
              "                                                     [key], {});\n",
              "          if (!dataTable) return;\n",
              "\n",
              "          const docLinkHtml = 'Like what you see? Visit the ' +\n",
              "            '<a target=\"_blank\" href=https://colab.research.google.com/notebooks/data_table.ipynb>data table notebook</a>'\n",
              "            + ' to learn more about interactive tables.';\n",
              "          element.innerHTML = '';\n",
              "          dataTable['output_type'] = 'display_data';\n",
              "          await google.colab.output.renderOutput(dataTable, element);\n",
              "          const docLink = document.createElement('div');\n",
              "          docLink.innerHTML = docLinkHtml;\n",
              "          element.appendChild(docLink);\n",
              "        }\n",
              "      </script>\n",
              "    </div>\n",
              "  </div>\n",
              "  "
            ],
            "text/plain": [
              "   text_id category        mention  start  end sentiment\n",
              "0      785  Service  администратор    416  429  positive\n",
              "1      785  Service        помогла    392  399  positive\n",
              "2      785     Food      виды блюд    334  343  negative\n",
              "3      785     Food           Меню    176  180  positive\n",
              "4      785    Whole       Ресторан     69   77  positive"
            ]
          },
          "metadata": {},
          "execution_count": 57
        }
      ],
      "source": [
        "dev_aspects_predicted.head()"
      ],
      "id": "uoVhWh8Qm218"
    },
    {
      "cell_type": "markdown",
      "metadata": {
        "id": "IDkc4bx0m219"
      },
      "source": [
        "Запишем:"
      ],
      "id": "IDkc4bx0m219"
    },
    {
      "cell_type": "code",
      "execution_count": 59,
      "metadata": {
        "id": "cN9W6RXGm219"
      },
      "outputs": [],
      "source": [
        "dev_aspects_predicted.to_csv(\"dev_pred_aspects_ours.txt\", sep=\"\\t\", index=False, header=False)"
      ],
      "id": "cN9W6RXGm219"
    }
  ],
  "metadata": {
    "kernelspec": {
      "display_name": "Python 3",
      "language": "python",
      "name": "python3"
    },
    "language_info": {
      "codemirror_mode": {
        "name": "ipython",
        "version": 3
      },
      "file_extension": ".py",
      "mimetype": "text/x-python",
      "name": "python",
      "nbconvert_exporter": "python",
      "pygments_lexer": "ipython3",
      "version": "3.7.6"
    },
    "colab": {
      "name": "sentiment_extraction.ipynb",
      "provenance": [],
      "collapsed_sections": []
    }
  },
  "nbformat": 4,
  "nbformat_minor": 5
}