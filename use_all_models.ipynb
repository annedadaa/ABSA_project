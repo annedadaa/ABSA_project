{
  "nbformat": 4,
  "nbformat_minor": 0,
  "metadata": {
    "colab": {
      "name": "use_all_models.ipynb",
      "provenance": [],
      "collapsed_sections": []
    },
    "kernelspec": {
      "name": "python3",
      "display_name": "Python 3"
    },
    "language_info": {
      "name": "python"
    }
  },
  "cells": [
    {
      "cell_type": "code",
      "source": [
        "!pip install pymorphy2\n",
        "!pip install -U 'scikit-learn<0.24'\n",
        "!pip install stanza\n",
        "!pip install sklearn-crfsuite"
      ],
      "metadata": {
        "id": "VFnfpS_Osr7f"
      },
      "execution_count": null,
      "outputs": []
    },
    {
      "cell_type": "code",
      "source": [
        "import pandas as pd\n",
        "import re\n",
        "import pickle\n",
        "import seaborn as sns\n",
        "from nltk.tokenize import RegexpTokenizer\n",
        "from pymorphy2 import MorphAnalyzer\n",
        "from tqdm import tqdm\n",
        "from sklearn.model_selection import train_test_split\n",
        "import sklearn_crfsuite\n",
        "from sklearn_crfsuite import scorers\n",
        "from sklearn_crfsuite import metrics\n",
        "import scipy\n",
        "from sklearn.metrics import fbeta_score, make_scorer\n",
        "from sklearn.model_selection import RandomizedSearchCV\n",
        "from sklearn import preprocessing\n",
        "from collections import defaultdict\n",
        "import stanza\n",
        "stanza.download('ru')\n",
        "morph = MorphAnalyzer()\n",
        "token = RegexpTokenizer('\\w+')"
      ],
      "metadata": {
        "id": "HSHZC6oNwLuD"
      },
      "execution_count": null,
      "outputs": []
    },
    {
      "cell_type": "markdown",
      "source": [
        "# Задача 1"
      ],
      "metadata": {
        "id": "T_d0QTJWwHjI"
      }
    },
    {
      "cell_type": "code",
      "source": [
        "nlp = stanza.Pipeline('ru', processors='tokenize')"
      ],
      "metadata": {
        "colab": {
          "base_uri": "https://localhost:8080/"
        },
        "id": "-8GVPImBug8e",
        "outputId": "ad14b2d9-8a3f-48a1-cd7e-0cf7cbf2f77f"
      },
      "execution_count": 27,
      "outputs": [
        {
          "output_type": "stream",
          "name": "stderr",
          "text": [
            "2021-12-28 11:08:21 INFO: Loading these models for language: ru (Russian):\n",
            "=========================\n",
            "| Processor | Package   |\n",
            "-------------------------\n",
            "| tokenize  | syntagrus |\n",
            "=========================\n",
            "\n",
            "2021-12-28 11:08:21 INFO: Use device: cpu\n",
            "2021-12-28 11:08:21 INFO: Loading: tokenize\n",
            "2021-12-28 11:08:22 INFO: Done loading processors!\n"
          ]
        }
      ]
    },
    {
      "cell_type": "code",
      "source": [
        "!wget https://github.com/named-entity/hse-nlp/raw/master/4th_year/Project/dev_aspects.txt\n",
        "!wget https://github.com/named-entity/hse-nlp/raw/master/4th_year/Project/dev_reviews.txt\n",
        "!wget https://github.com/named-entity/hse-nlp/raw/master/4th_year/Project/dev_cats.txt"
      ],
      "metadata": {
        "id": "betXpOFRtRed"
      },
      "execution_count": null,
      "outputs": []
    },
    {
      "cell_type": "code",
      "execution_count": 16,
      "metadata": {
        "id": "CoZAGlfKsLH7"
      },
      "outputs": [],
      "source": [
        "crf = pickle.load(open('task1.sav', 'rb'))"
      ]
    },
    {
      "cell_type": "code",
      "source": [
        "def get_bio(reviews):\n",
        "  bio_texts = []\n",
        "  for text_id, text in tqdm(reviews.items()):\n",
        "    bio_text = []\n",
        "    processed = nlp(text)\n",
        "    postags = []\n",
        "    for token in processed.iter_tokens():\n",
        "      add = False\n",
        "      parse = morph.parse(token.text)[0]\n",
        "      postag = parse.tag.POS\n",
        "      if postag is None:\n",
        "        postag = 'PUNKT'\n",
        "      postags.append(postag)\n",
        "      for mention in aspects[text_id]:\n",
        "        if token.start_char == int(mention['start']) and token.end_char <= int(mention['end']):\n",
        "          bio_text.append({'text':token.text, 'pos': postag, 'tag':'B-'+mention['category'],\n",
        "                          'text_id': text_id, 'start': token.start_char, 'end': token.end_char})\n",
        "          add = True\n",
        "        elif token.start_char > int(mention['start']) and token.end_char <= int(mention['end']):\n",
        "          bio_text.append({'text':token.text, 'pos': postag, 'tag':'I-'+mention['category'],\n",
        "                          'text_id': text_id, 'start': token.start_char, 'end': token.end_char})\n",
        "          add = True\n",
        "      if not add:\n",
        "        bio_text.append({'text':token.text, 'pos': postag, 'tag':'O', \n",
        "                        'text_id': text_id, 'start': token.start_char, \n",
        "                        'end': token.end_char})\n",
        "    bio_texts.append(bio_text)\n",
        "\n",
        "  return bio_texts"
      ],
      "metadata": {
        "id": "j8O9DYVds1LV"
      },
      "execution_count": 14,
      "outputs": []
    },
    {
      "cell_type": "code",
      "source": [
        "def word2features(sent, i):\n",
        "    # достаёт фичи для i-го токена в предложении\n",
        "    word = sent[i]['text']\n",
        "    postag = sent[i]['pos']\n",
        "    text_id = sent[i]['text_id']\n",
        "    start = sent[i]['start']\n",
        "    end = sent[i]['end']\n",
        "\n",
        "    features = {\n",
        "        'text_id': text_id, \n",
        "        'word': word,\n",
        "        'word.lower()': word.lower(),\n",
        "        'word[-3:]': word[-3:],\n",
        "        'word[-2:]': word[-2:],\n",
        "        'word.isupper()': word.isupper(),\n",
        "        'word.istitle()': word.istitle(),\n",
        "        'word.isdigit()': word.isdigit(),\n",
        "        'postag': postag,\n",
        "        'start': start,\n",
        "        'end': end\n",
        "    }\n",
        "    if i > 0:\n",
        "        word1 = sent[i-1]['text']\n",
        "        postag1 = sent[i-1]['pos']\n",
        "        features.update({\n",
        "            '-1:word.lower()': word1.lower(),\n",
        "            '-1:word.istitle()': word1.istitle(),\n",
        "            '-1:word.isupper()': word1.isupper(),\n",
        "            '-1:postag': postag1,\n",
        "        })\n",
        "    else:\n",
        "        features['BOS'] = True\n",
        "        \n",
        "    if i < len(sent)-1:\n",
        "        word1 = sent[i+1]['text']\n",
        "        postag1 = sent[i+1]['pos']\n",
        "        features.update({\n",
        "            '+1:word.lower()': word1.lower(),\n",
        "            '+1:word.istitle()': word1.istitle(),\n",
        "            '+1:word.isupper()': word1.isupper(),\n",
        "            '+1:postag': postag1,\n",
        "            '+1:postag[:2]': postag1[:2],\n",
        "        })\n",
        "    else:\n",
        "        features['EOS'] = True\n",
        "                \n",
        "    return features\n",
        "\n",
        "def sent2features(sent):\n",
        "    return [word2features(sent, i) for i in range(len(sent))]\n",
        "\n",
        "def sent2labels(sent):\n",
        "    return [word['tag'] for word in sent]\n",
        "\n",
        "def sent2tokens(sent):\n",
        "    return [word['text'] for word in sent]"
      ],
      "metadata": {
        "id": "BqNN9G8FtdlQ"
      },
      "execution_count": 29,
      "outputs": []
    },
    {
      "cell_type": "code",
      "source": [
        "def get_marking(y_pred, X_test):\n",
        "  d = {'text_id': [], 'tag': [], 'text': [], 'start': [], 'end': []}\n",
        "  for num, i in enumerate(y_pred):\n",
        "    for j, tag in enumerate(i):\n",
        "      if tag!= 'O':\n",
        "        if i[j].startswith('B') and i[j+1].startswith('I'):\n",
        "          n=j+1\n",
        "          tokens = []\n",
        "          tokens.append(X_test[num][j]['word'])\n",
        "          start = X_test[num][j]['start']\n",
        "          while i[n].startswith('I'):\n",
        "            tokens.append(X_test[num][n]['word'])\n",
        "            n+=1\n",
        "          end = X_test[num][n-1]['end']\n",
        "          t_id = X_test[num][j]['text_id']\n",
        "          tag = i[j].split('-')[1]\n",
        "          d['text_id'].append(t_id)\n",
        "          d['text'].append(' '.join(tokens))\n",
        "          d['tag'].append(tag)\n",
        "          d['start'].append(start)\n",
        "          d['end'].append(end)\n",
        "        elif i[j].startswith('B') and not i[j+1].startswith('I'):\n",
        "          d['text_id'].append(X_test[num][j]['text_id'])\n",
        "          d['tag'].append(i[j].split('-')[1])\n",
        "          d['text'].append(X_test[num][j]['word'])\n",
        "          d['start'].append(X_test[num][j]['start'])\n",
        "          d['end'].append(X_test[num][j]['end'])\n",
        "\n",
        "  df = pd.DataFrame(data=d)\n",
        "  return df"
      ],
      "metadata": {
        "id": "5pEFfga7th2m"
      },
      "execution_count": 30,
      "outputs": []
    },
    {
      "cell_type": "code",
      "source": [
        "dev_texts = pd.read_csv('dev_reviews.txt', delimiter='\\t', names=['text_id', 'text'])\n",
        "dev_texts.head()"
      ],
      "metadata": {
        "colab": {
          "base_uri": "https://localhost:8080/",
          "height": 204
        },
        "id": "tQiX6PXctpPa",
        "outputId": "37b1647e-6381-4001-eac7-f16492ca5152"
      },
      "execution_count": 31,
      "outputs": [
        {
          "output_type": "execute_result",
          "data": {
            "text/html": [
              "\n",
              "  <div id=\"df-86f5a5a0-1676-4fd8-b341-3a53ad4de4e1\">\n",
              "    <div class=\"colab-df-container\">\n",
              "      <div>\n",
              "<style scoped>\n",
              "    .dataframe tbody tr th:only-of-type {\n",
              "        vertical-align: middle;\n",
              "    }\n",
              "\n",
              "    .dataframe tbody tr th {\n",
              "        vertical-align: top;\n",
              "    }\n",
              "\n",
              "    .dataframe thead th {\n",
              "        text-align: right;\n",
              "    }\n",
              "</style>\n",
              "<table border=\"1\" class=\"dataframe\">\n",
              "  <thead>\n",
              "    <tr style=\"text-align: right;\">\n",
              "      <th></th>\n",
              "      <th>text_id</th>\n",
              "      <th>text</th>\n",
              "    </tr>\n",
              "  </thead>\n",
              "  <tbody>\n",
              "    <tr>\n",
              "      <th>0</th>\n",
              "      <td>13823</td>\n",
              "      <td>Зашли в\"аппетит\" случайно.Не смотря на то,что ...</td>\n",
              "    </tr>\n",
              "    <tr>\n",
              "      <th>1</th>\n",
              "      <td>1427</td>\n",
              "      <td>Здравствуйте!Посетили ваше заведение вчера пер...</td>\n",
              "    </tr>\n",
              "    <tr>\n",
              "      <th>2</th>\n",
              "      <td>16714</td>\n",
              "      <td>Были в пятницу (19.03.10), заказывали столик д...</td>\n",
              "    </tr>\n",
              "    <tr>\n",
              "      <th>3</th>\n",
              "      <td>797</td>\n",
              "      <td>Были в ресторане 2 раза. Один раз днем, все по...</td>\n",
              "    </tr>\n",
              "    <tr>\n",
              "      <th>4</th>\n",
              "      <td>34710</td>\n",
              "      <td>Удивляюсь отзывам про хорошее обслуживание. Бы...</td>\n",
              "    </tr>\n",
              "  </tbody>\n",
              "</table>\n",
              "</div>\n",
              "      <button class=\"colab-df-convert\" onclick=\"convertToInteractive('df-86f5a5a0-1676-4fd8-b341-3a53ad4de4e1')\"\n",
              "              title=\"Convert this dataframe to an interactive table.\"\n",
              "              style=\"display:none;\">\n",
              "        \n",
              "  <svg xmlns=\"http://www.w3.org/2000/svg\" height=\"24px\"viewBox=\"0 0 24 24\"\n",
              "       width=\"24px\">\n",
              "    <path d=\"M0 0h24v24H0V0z\" fill=\"none\"/>\n",
              "    <path d=\"M18.56 5.44l.94 2.06.94-2.06 2.06-.94-2.06-.94-.94-2.06-.94 2.06-2.06.94zm-11 1L8.5 8.5l.94-2.06 2.06-.94-2.06-.94L8.5 2.5l-.94 2.06-2.06.94zm10 10l.94 2.06.94-2.06 2.06-.94-2.06-.94-.94-2.06-.94 2.06-2.06.94z\"/><path d=\"M17.41 7.96l-1.37-1.37c-.4-.4-.92-.59-1.43-.59-.52 0-1.04.2-1.43.59L10.3 9.45l-7.72 7.72c-.78.78-.78 2.05 0 2.83L4 21.41c.39.39.9.59 1.41.59.51 0 1.02-.2 1.41-.59l7.78-7.78 2.81-2.81c.8-.78.8-2.07 0-2.86zM5.41 20L4 18.59l7.72-7.72 1.47 1.35L5.41 20z\"/>\n",
              "  </svg>\n",
              "      </button>\n",
              "      \n",
              "  <style>\n",
              "    .colab-df-container {\n",
              "      display:flex;\n",
              "      flex-wrap:wrap;\n",
              "      gap: 12px;\n",
              "    }\n",
              "\n",
              "    .colab-df-convert {\n",
              "      background-color: #E8F0FE;\n",
              "      border: none;\n",
              "      border-radius: 50%;\n",
              "      cursor: pointer;\n",
              "      display: none;\n",
              "      fill: #1967D2;\n",
              "      height: 32px;\n",
              "      padding: 0 0 0 0;\n",
              "      width: 32px;\n",
              "    }\n",
              "\n",
              "    .colab-df-convert:hover {\n",
              "      background-color: #E2EBFA;\n",
              "      box-shadow: 0px 1px 2px rgba(60, 64, 67, 0.3), 0px 1px 3px 1px rgba(60, 64, 67, 0.15);\n",
              "      fill: #174EA6;\n",
              "    }\n",
              "\n",
              "    [theme=dark] .colab-df-convert {\n",
              "      background-color: #3B4455;\n",
              "      fill: #D2E3FC;\n",
              "    }\n",
              "\n",
              "    [theme=dark] .colab-df-convert:hover {\n",
              "      background-color: #434B5C;\n",
              "      box-shadow: 0px 1px 3px 1px rgba(0, 0, 0, 0.15);\n",
              "      filter: drop-shadow(0px 1px 2px rgba(0, 0, 0, 0.3));\n",
              "      fill: #FFFFFF;\n",
              "    }\n",
              "  </style>\n",
              "\n",
              "      <script>\n",
              "        const buttonEl =\n",
              "          document.querySelector('#df-86f5a5a0-1676-4fd8-b341-3a53ad4de4e1 button.colab-df-convert');\n",
              "        buttonEl.style.display =\n",
              "          google.colab.kernel.accessAllowed ? 'block' : 'none';\n",
              "\n",
              "        async function convertToInteractive(key) {\n",
              "          const element = document.querySelector('#df-86f5a5a0-1676-4fd8-b341-3a53ad4de4e1');\n",
              "          const dataTable =\n",
              "            await google.colab.kernel.invokeFunction('convertToInteractive',\n",
              "                                                     [key], {});\n",
              "          if (!dataTable) return;\n",
              "\n",
              "          const docLinkHtml = 'Like what you see? Visit the ' +\n",
              "            '<a target=\"_blank\" href=https://colab.research.google.com/notebooks/data_table.ipynb>data table notebook</a>'\n",
              "            + ' to learn more about interactive tables.';\n",
              "          element.innerHTML = '';\n",
              "          dataTable['output_type'] = 'display_data';\n",
              "          await google.colab.output.renderOutput(dataTable, element);\n",
              "          const docLink = document.createElement('div');\n",
              "          docLink.innerHTML = docLinkHtml;\n",
              "          element.appendChild(docLink);\n",
              "        }\n",
              "      </script>\n",
              "    </div>\n",
              "  </div>\n",
              "  "
            ],
            "text/plain": [
              "   text_id                                               text\n",
              "0    13823  Зашли в\"аппетит\" случайно.Не смотря на то,что ...\n",
              "1     1427  Здравствуйте!Посетили ваше заведение вчера пер...\n",
              "2    16714  Были в пятницу (19.03.10), заказывали столик д...\n",
              "3      797  Были в ресторане 2 раза. Один раз днем, все по...\n",
              "4    34710  Удивляюсь отзывам про хорошее обслуживание. Бы..."
            ]
          },
          "metadata": {},
          "execution_count": 31
        }
      ]
    },
    {
      "cell_type": "code",
      "source": [
        "dev_reviews = {}\n",
        "with open('dev_reviews.txt') as f:\n",
        "  for line in f:\n",
        "    line = line.rstrip('\\r\\n').split('\\t')\n",
        "    dev_reviews[line[0]] = line[1]"
      ],
      "metadata": {
        "id": "4PZcCoXcttlt"
      },
      "execution_count": 32,
      "outputs": []
    },
    {
      "cell_type": "code",
      "source": [
        "def get_data(dev_reviews):\n",
        "  all_texts = []\n",
        "  for text_id, text in tqdm(dev_reviews.items()):\n",
        "    tokens = []\n",
        "    processed = nlp(text)\n",
        "    for token in processed.iter_tokens():\n",
        "      parse = morph.parse(token.text)[0]\n",
        "      postag = parse.tag.POS\n",
        "      if postag is None:\n",
        "        postag = 'PUNKT'\n",
        "      tokens.append({'text':token.text, 'pos':postag, 'text_id':text_id,\n",
        "                     'start':token.start_char, 'end':token.end_char})\n",
        "    all_texts.append(tokens)\n",
        "  return all_texts"
      ],
      "metadata": {
        "id": "g1ZfN7Sctvzl"
      },
      "execution_count": 35,
      "outputs": []
    },
    {
      "cell_type": "code",
      "source": [
        "all_texts = get_data(dev_reviews)"
      ],
      "metadata": {
        "colab": {
          "base_uri": "https://localhost:8080/"
        },
        "id": "h6Uoue-MtxjY",
        "outputId": "6e33b839-1116-4a7a-f922-228abd941419"
      },
      "execution_count": 36,
      "outputs": [
        {
          "output_type": "stream",
          "name": "stderr",
          "text": [
            "100%|██████████| 71/71 [00:20<00:00,  3.48it/s]\n"
          ]
        }
      ]
    },
    {
      "cell_type": "code",
      "source": [
        "test_data = [sent2features(s) for s in all_texts]"
      ],
      "metadata": {
        "id": "XT4fNxtpvn_8"
      },
      "execution_count": 37,
      "outputs": []
    },
    {
      "cell_type": "code",
      "source": [
        "dev_pred = crf.predict(test_data)"
      ],
      "metadata": {
        "id": "QMv2XMbZvsXW"
      },
      "execution_count": 38,
      "outputs": []
    },
    {
      "cell_type": "code",
      "source": [
        "dev_res = get_marking(dev_pred, test_data)\n",
        "dev_res['text_id'] = pd.to_numeric(dev_res['text_id'])"
      ],
      "metadata": {
        "id": "4ji7RWjTvuaK"
      },
      "execution_count": 39,
      "outputs": []
    },
    {
      "cell_type": "code",
      "source": [
        "dev_res"
      ],
      "metadata": {
        "colab": {
          "base_uri": "https://localhost:8080/",
          "height": 419
        },
        "id": "9eV06kB8vwQV",
        "outputId": "6fca6dd0-13ac-4e26-bec4-190adcbd4f9e"
      },
      "execution_count": 40,
      "outputs": [
        {
          "output_type": "execute_result",
          "data": {
            "text/html": [
              "\n",
              "  <div id=\"df-3b8d4ece-5777-4c14-92f6-097b8a2a1c5a\">\n",
              "    <div class=\"colab-df-container\">\n",
              "      <div>\n",
              "<style scoped>\n",
              "    .dataframe tbody tr th:only-of-type {\n",
              "        vertical-align: middle;\n",
              "    }\n",
              "\n",
              "    .dataframe tbody tr th {\n",
              "        vertical-align: top;\n",
              "    }\n",
              "\n",
              "    .dataframe thead th {\n",
              "        text-align: right;\n",
              "    }\n",
              "</style>\n",
              "<table border=\"1\" class=\"dataframe\">\n",
              "  <thead>\n",
              "    <tr style=\"text-align: right;\">\n",
              "      <th></th>\n",
              "      <th>text_id</th>\n",
              "      <th>tag</th>\n",
              "      <th>text</th>\n",
              "      <th>start</th>\n",
              "      <th>end</th>\n",
              "    </tr>\n",
              "  </thead>\n",
              "  <tbody>\n",
              "    <tr>\n",
              "      <th>0</th>\n",
              "      <td>13823</td>\n",
              "      <td>Whole</td>\n",
              "      <td>\" аппетит \"</td>\n",
              "      <td>7</td>\n",
              "      <td>16</td>\n",
              "    </tr>\n",
              "    <tr>\n",
              "      <th>1</th>\n",
              "      <td>13823</td>\n",
              "      <td>Service</td>\n",
              "      <td>встретил</td>\n",
              "      <td>138</td>\n",
              "      <td>146</td>\n",
              "    </tr>\n",
              "    <tr>\n",
              "      <th>2</th>\n",
              "      <td>13823</td>\n",
              "      <td>Service</td>\n",
              "      <td>менеджер</td>\n",
              "      <td>147</td>\n",
              "      <td>155</td>\n",
              "    </tr>\n",
              "    <tr>\n",
              "      <th>3</th>\n",
              "      <td>13823</td>\n",
              "      <td>Service</td>\n",
              "      <td>девушка</td>\n",
              "      <td>179</td>\n",
              "      <td>186</td>\n",
              "    </tr>\n",
              "    <tr>\n",
              "      <th>4</th>\n",
              "      <td>13823</td>\n",
              "      <td>Service</td>\n",
              "      <td>проводила к столу</td>\n",
              "      <td>188</td>\n",
              "      <td>205</td>\n",
              "    </tr>\n",
              "    <tr>\n",
              "      <th>...</th>\n",
              "      <td>...</td>\n",
              "      <td>...</td>\n",
              "      <td>...</td>\n",
              "      <td>...</td>\n",
              "      <td>...</td>\n",
              "    </tr>\n",
              "    <tr>\n",
              "      <th>1147</th>\n",
              "      <td>11770</td>\n",
              "      <td>Food</td>\n",
              "      <td>стейк</td>\n",
              "      <td>831</td>\n",
              "      <td>836</td>\n",
              "    </tr>\n",
              "    <tr>\n",
              "      <th>1148</th>\n",
              "      <td>11770</td>\n",
              "      <td>Food</td>\n",
              "      <td>блюдо тартар с сырой рыбой и сырым яйцом</td>\n",
              "      <td>896</td>\n",
              "      <td>936</td>\n",
              "    </tr>\n",
              "    <tr>\n",
              "      <th>1149</th>\n",
              "      <td>11770</td>\n",
              "      <td>Service</td>\n",
              "      <td>Официанты</td>\n",
              "      <td>938</td>\n",
              "      <td>947</td>\n",
              "    </tr>\n",
              "    <tr>\n",
              "      <th>1150</th>\n",
              "      <td>11770</td>\n",
              "      <td>Service</td>\n",
              "      <td>обстановкая</td>\n",
              "      <td>976</td>\n",
              "      <td>987</td>\n",
              "    </tr>\n",
              "    <tr>\n",
              "      <th>1151</th>\n",
              "      <td>11770</td>\n",
              "      <td>Whole</td>\n",
              "      <td>ресторан</td>\n",
              "      <td>1007</td>\n",
              "      <td>1015</td>\n",
              "    </tr>\n",
              "  </tbody>\n",
              "</table>\n",
              "<p>1152 rows × 5 columns</p>\n",
              "</div>\n",
              "      <button class=\"colab-df-convert\" onclick=\"convertToInteractive('df-3b8d4ece-5777-4c14-92f6-097b8a2a1c5a')\"\n",
              "              title=\"Convert this dataframe to an interactive table.\"\n",
              "              style=\"display:none;\">\n",
              "        \n",
              "  <svg xmlns=\"http://www.w3.org/2000/svg\" height=\"24px\"viewBox=\"0 0 24 24\"\n",
              "       width=\"24px\">\n",
              "    <path d=\"M0 0h24v24H0V0z\" fill=\"none\"/>\n",
              "    <path d=\"M18.56 5.44l.94 2.06.94-2.06 2.06-.94-2.06-.94-.94-2.06-.94 2.06-2.06.94zm-11 1L8.5 8.5l.94-2.06 2.06-.94-2.06-.94L8.5 2.5l-.94 2.06-2.06.94zm10 10l.94 2.06.94-2.06 2.06-.94-2.06-.94-.94-2.06-.94 2.06-2.06.94z\"/><path d=\"M17.41 7.96l-1.37-1.37c-.4-.4-.92-.59-1.43-.59-.52 0-1.04.2-1.43.59L10.3 9.45l-7.72 7.72c-.78.78-.78 2.05 0 2.83L4 21.41c.39.39.9.59 1.41.59.51 0 1.02-.2 1.41-.59l7.78-7.78 2.81-2.81c.8-.78.8-2.07 0-2.86zM5.41 20L4 18.59l7.72-7.72 1.47 1.35L5.41 20z\"/>\n",
              "  </svg>\n",
              "      </button>\n",
              "      \n",
              "  <style>\n",
              "    .colab-df-container {\n",
              "      display:flex;\n",
              "      flex-wrap:wrap;\n",
              "      gap: 12px;\n",
              "    }\n",
              "\n",
              "    .colab-df-convert {\n",
              "      background-color: #E8F0FE;\n",
              "      border: none;\n",
              "      border-radius: 50%;\n",
              "      cursor: pointer;\n",
              "      display: none;\n",
              "      fill: #1967D2;\n",
              "      height: 32px;\n",
              "      padding: 0 0 0 0;\n",
              "      width: 32px;\n",
              "    }\n",
              "\n",
              "    .colab-df-convert:hover {\n",
              "      background-color: #E2EBFA;\n",
              "      box-shadow: 0px 1px 2px rgba(60, 64, 67, 0.3), 0px 1px 3px 1px rgba(60, 64, 67, 0.15);\n",
              "      fill: #174EA6;\n",
              "    }\n",
              "\n",
              "    [theme=dark] .colab-df-convert {\n",
              "      background-color: #3B4455;\n",
              "      fill: #D2E3FC;\n",
              "    }\n",
              "\n",
              "    [theme=dark] .colab-df-convert:hover {\n",
              "      background-color: #434B5C;\n",
              "      box-shadow: 0px 1px 3px 1px rgba(0, 0, 0, 0.15);\n",
              "      filter: drop-shadow(0px 1px 2px rgba(0, 0, 0, 0.3));\n",
              "      fill: #FFFFFF;\n",
              "    }\n",
              "  </style>\n",
              "\n",
              "      <script>\n",
              "        const buttonEl =\n",
              "          document.querySelector('#df-3b8d4ece-5777-4c14-92f6-097b8a2a1c5a button.colab-df-convert');\n",
              "        buttonEl.style.display =\n",
              "          google.colab.kernel.accessAllowed ? 'block' : 'none';\n",
              "\n",
              "        async function convertToInteractive(key) {\n",
              "          const element = document.querySelector('#df-3b8d4ece-5777-4c14-92f6-097b8a2a1c5a');\n",
              "          const dataTable =\n",
              "            await google.colab.kernel.invokeFunction('convertToInteractive',\n",
              "                                                     [key], {});\n",
              "          if (!dataTable) return;\n",
              "\n",
              "          const docLinkHtml = 'Like what you see? Visit the ' +\n",
              "            '<a target=\"_blank\" href=https://colab.research.google.com/notebooks/data_table.ipynb>data table notebook</a>'\n",
              "            + ' to learn more about interactive tables.';\n",
              "          element.innerHTML = '';\n",
              "          dataTable['output_type'] = 'display_data';\n",
              "          await google.colab.output.renderOutput(dataTable, element);\n",
              "          const docLink = document.createElement('div');\n",
              "          docLink.innerHTML = docLinkHtml;\n",
              "          element.appendChild(docLink);\n",
              "        }\n",
              "      </script>\n",
              "    </div>\n",
              "  </div>\n",
              "  "
            ],
            "text/plain": [
              "      text_id      tag                                      text  start   end\n",
              "0       13823    Whole                               \" аппетит \"      7    16\n",
              "1       13823  Service                                  встретил    138   146\n",
              "2       13823  Service                                  менеджер    147   155\n",
              "3       13823  Service                                   девушка    179   186\n",
              "4       13823  Service                         проводила к столу    188   205\n",
              "...       ...      ...                                       ...    ...   ...\n",
              "1147    11770     Food                                     стейк    831   836\n",
              "1148    11770     Food  блюдо тартар с сырой рыбой и сырым яйцом    896   936\n",
              "1149    11770  Service                                 Официанты    938   947\n",
              "1150    11770  Service                               обстановкая    976   987\n",
              "1151    11770    Whole                                  ресторан   1007  1015\n",
              "\n",
              "[1152 rows x 5 columns]"
            ]
          },
          "metadata": {},
          "execution_count": 40
        }
      ]
    },
    {
      "cell_type": "code",
      "source": [
        "with open('dev_pred_aspects.txt', 'w') as f:\n",
        "  for text_id, tag, text, start, end in zip(dev_res['text_id'], dev_res['tag'], dev_res['text'], dev_res['start'], dev_res['end']):\n",
        "      print(text_id, tag, text, start, end, sep=\"\\t\", file=f)"
      ],
      "metadata": {
        "id": "eFoj5VtJvyVX"
      },
      "execution_count": 41,
      "outputs": []
    },
    {
      "cell_type": "markdown",
      "source": [
        "# Задача 2"
      ],
      "metadata": {
        "id": "3uPKzTs0whsk"
      }
    },
    {
      "cell_type": "code",
      "source": [
        "logreg = pickle.load(open('task2.sav', 'rb'))"
      ],
      "metadata": {
        "id": "kKt6pgT4xXBv"
      },
      "execution_count": 53,
      "outputs": []
    },
    {
      "cell_type": "code",
      "source": [
        "tfidf = pickle.load(open('tfidf.pickle', 'rb'))"
      ],
      "metadata": {
        "id": "Kc3de0f9y_rt"
      },
      "execution_count": 55,
      "outputs": []
    },
    {
      "cell_type": "code",
      "source": [
        "dev_aspects_predicted = pd.read_csv('dev_aspects.txt',\n",
        "                                    delimiter='\\t',\n",
        "                                    names=['text_id', 'category', 'mention', 'start', 'end', 'sentiment'])"
      ],
      "metadata": {
        "id": "PNVOcWZywjwT"
      },
      "execution_count": 56,
      "outputs": []
    },
    {
      "cell_type": "code",
      "source": [
        "dev_texts = pd.read_csv('dev_reviews.txt', delimiter='\\t', names=['text_id', 'text'])"
      ],
      "metadata": {
        "id": "Hdfz4qKtwrZT"
      },
      "execution_count": 57,
      "outputs": []
    },
    {
      "cell_type": "code",
      "source": [
        "def depunct(text):\n",
        "    return re.sub(\"[^а-яёА-ЯЁ \\-]\", \"\", text)"
      ],
      "metadata": {
        "id": "8MBzx4XQxOsx"
      },
      "execution_count": 58,
      "outputs": []
    },
    {
      "cell_type": "code",
      "source": [
        "def text_window(text, start, end, window=7, padding=True):\n",
        "    after_text = depunct(text[end+1:])\n",
        "    before_text = depunct(text[:start])\n",
        "    end_text = \"\"\n",
        "    start_text = \"\"\n",
        "    if after_text:\n",
        "        space_counter = 0\n",
        "        i = 0\n",
        "        while space_counter < window:\n",
        "            end_text += after_text[i]\n",
        "            if i == len(after_text) - 1:\n",
        "                break\n",
        "            i += 1\n",
        "            if after_text[i] == \" \":\n",
        "                space_counter += 1\n",
        "\n",
        "    if before_text:\n",
        "        space_counter = 0\n",
        "        i = -1\n",
        "        while space_counter < window:\n",
        "            start_text += before_text[i]\n",
        "            if i == -len(before_text):\n",
        "                break\n",
        "            i -= 1\n",
        "            if before_text[i] == \" \":\n",
        "                space_counter += 1\n",
        "    \n",
        "    end_tokens = end_text.strip().split()\n",
        "    start_tokens = start_text[::-1].strip().split()\n",
        "    if padding:\n",
        "        while len(end_tokens) < window:\n",
        "            end_tokens.append(\"PAD\")\n",
        "        while len(start_tokens) < window:\n",
        "            start_tokens.insert(0, \"PAD\")\n",
        "    return start_tokens, end_tokens"
      ],
      "metadata": {
        "id": "vXiZJd2hxJTA"
      },
      "execution_count": 59,
      "outputs": []
    },
    {
      "cell_type": "code",
      "source": [
        "pred_aspect_windows = []\n",
        "for asp in tqdm(dev_aspects_predicted.values):\n",
        "    text_id = asp[0]\n",
        "    start = asp[3]\n",
        "    end = asp[4]\n",
        "    pred_aspect_windows.append(text_window(list(dev_texts[dev_texts.text_id == text_id].text)[0], start, end, 7))\n",
        "tfidf_test = tfidf.transform([\" \".join(windows[0]+windows[1]) for windows in pred_aspect_windows])"
      ],
      "metadata": {
        "colab": {
          "base_uri": "https://localhost:8080/"
        },
        "id": "G7cwCbO3woH7",
        "outputId": "c2b3b08a-5bc4-4750-8333-d43f25910241"
      },
      "execution_count": 60,
      "outputs": [
        {
          "output_type": "stream",
          "name": "stderr",
          "text": [
            "100%|██████████| 1190/1190 [00:01<00:00, 1169.58it/s]\n"
          ]
        }
      ]
    },
    {
      "cell_type": "code",
      "source": [
        "dev_aspects_predicted[\"sentiment\"] = logreg.predict(tfidf_test.toarray())"
      ],
      "metadata": {
        "id": "kT2omHGTzNVz"
      },
      "execution_count": 61,
      "outputs": []
    },
    {
      "cell_type": "code",
      "source": [
        "dev_aspects_predicted.to_csv(\"dev_pred_aspects.txt\", sep=\"\\t\", index=False, header=False)"
      ],
      "metadata": {
        "id": "HSExe0ElzPKp"
      },
      "execution_count": 62,
      "outputs": []
    },
    {
      "cell_type": "markdown",
      "source": [
        "# Задача 3"
      ],
      "metadata": {
        "id": "7viEqbH7zU4H"
      }
    },
    {
      "cell_type": "code",
      "source": [
        "le = pickle.load(open('encoder.pickle', 'rb'))"
      ],
      "metadata": {
        "id": "5LZqhjZozZNL"
      },
      "execution_count": 65,
      "outputs": []
    },
    {
      "cell_type": "code",
      "source": [
        "features_columns = ['positive', 'negative', 'both', 'neutral']"
      ],
      "metadata": {
        "id": "atMEqwmF1QB3"
      },
      "execution_count": 74,
      "outputs": []
    },
    {
      "cell_type": "code",
      "source": [
        "KNN = pickle.load(open('task3.sav', 'rb'))"
      ],
      "metadata": {
        "id": "TeKKKsNA0t02"
      },
      "execution_count": 68,
      "outputs": []
    },
    {
      "cell_type": "code",
      "source": [
        "def count_sentiments(df_asp, df_sent):\n",
        "    text_ids = df_asp['text_id'].unique()\n",
        "    frames = []\n",
        "    for j in text_ids:\n",
        "        neutral = {'Whole':0, 'Service':0, 'Food':0, 'Interior':0, 'Price':0}\n",
        "        frequency = {'Whole':0, 'Service':0, 'Food':0, 'Interior':0, 'Price':0}\n",
        "        both = {'Whole':0, 'Service':0, 'Food':0, 'Interior':0, 'Price':0}\n",
        "        positive = {'Whole':0, 'Service':0, 'Food':0, 'Interior':0, 'Price':0}\n",
        "        negative = {'Whole':0, 'Service':0, 'Food':0, 'Interior':0, 'Price':0}\n",
        "        asp_slice = df_asp.loc[df_asp['text_id']==j]\n",
        "        asp_slice = asp_slice.reset_index()\n",
        "        for i in range(len(asp_slice)):\n",
        "            if asp_slice['sentiment'][i] == 'neutral':\n",
        "                neutral[asp_slice['category'][i]] +=1\n",
        "            if asp_slice['sentiment'][i] == 'positive':\n",
        "                positive[asp_slice['category'][i]] +=1\n",
        "            if asp_slice['sentiment'][i] == 'negative':\n",
        "                negative[asp_slice['category'][i]] +=1\n",
        "            if asp_slice['sentiment'][i] == 'both':\n",
        "                both[asp_slice['category'][i]] +=1\n",
        "        sent_slice = df_sent.loc[df_sent['text_id']==j]\n",
        "        sent_slice = sent_slice.reset_index()\n",
        "        sent_slice['positive'] = 0\n",
        "        sent_slice['negative'] = 0\n",
        "        sent_slice['both'] = 0\n",
        "        sent_slice['neutral'] = 0\n",
        "        for i in range(5):\n",
        "            sent_slice.at[i,'positive'] = positive[sent_slice['category'][i]]\n",
        "            sent_slice.at[i, 'negative'] = negative[sent_slice['category'][i]]\n",
        "            sent_slice.at[i, 'both'] = both[sent_slice['category'][i]]\n",
        "            sent_slice.at[i, 'neutral'] = neutral[sent_slice['category'][i]]\n",
        "        frames.append(sent_slice)\n",
        "    return pd.concat(frames)"
      ],
      "metadata": {
        "id": "m3UXz5gA09HG"
      },
      "execution_count": 70,
      "outputs": []
    },
    {
      "cell_type": "code",
      "source": [
        "mark_asp = pd.read_csv(\n",
        "    'dev_pred_aspects_ours.txt', \n",
        "    delimiter='\\t', \n",
        "    names=['text_id', 'category', 'mention', 'start', 'end', 'sentiment']\n",
        ")\n",
        "mark_cats = pd.read_csv('dev_cats.txt', delimiter='\\t', names=['text_id', 'category', 'sentiment'])\n",
        "makring = count_sentiments(mark_asp, mark_cats)"
      ],
      "metadata": {
        "id": "0SjRV7ne1APN"
      },
      "execution_count": 71,
      "outputs": []
    },
    {
      "cell_type": "code",
      "source": [
        "y_pred = KNN.predict(makring[features_columns])"
      ],
      "metadata": {
        "id": "YiAw3nwN1EhV"
      },
      "execution_count": 75,
      "outputs": []
    },
    {
      "cell_type": "code",
      "source": [
        "def get_markings(pred_df, y_pred):\n",
        "    in_df = pred_df\n",
        "    y_pred = le.inverse_transform(y_pred)\n",
        "    pred_df['sentiment'] = 0\n",
        "    pred_df['sentiment'] = y_pred\n",
        "    pred_df.drop(['positive', 'negative', 'both', 'neutral', 'index'], axis=1, inplace=True)\n",
        "    return pred_df"
      ],
      "metadata": {
        "id": "laEU0zv71RSx"
      },
      "execution_count": 76,
      "outputs": []
    },
    {
      "cell_type": "code",
      "source": [
        "output = get_markings(makring, y_pred)"
      ],
      "metadata": {
        "id": "Y8rjJMVY1Vl6"
      },
      "execution_count": 77,
      "outputs": []
    },
    {
      "cell_type": "code",
      "source": [
        "output"
      ],
      "metadata": {
        "colab": {
          "base_uri": "https://localhost:8080/",
          "height": 419
        },
        "id": "fj1IkIZ21W87",
        "outputId": "3917b35e-1ca7-4e08-bab9-c68f73b54106"
      },
      "execution_count": 78,
      "outputs": [
        {
          "output_type": "execute_result",
          "data": {
            "text/html": [
              "\n",
              "  <div id=\"df-6baa53ee-7d46-49dd-ba71-ac0645835595\">\n",
              "    <div class=\"colab-df-container\">\n",
              "      <div>\n",
              "<style scoped>\n",
              "    .dataframe tbody tr th:only-of-type {\n",
              "        vertical-align: middle;\n",
              "    }\n",
              "\n",
              "    .dataframe tbody tr th {\n",
              "        vertical-align: top;\n",
              "    }\n",
              "\n",
              "    .dataframe thead th {\n",
              "        text-align: right;\n",
              "    }\n",
              "</style>\n",
              "<table border=\"1\" class=\"dataframe\">\n",
              "  <thead>\n",
              "    <tr style=\"text-align: right;\">\n",
              "      <th></th>\n",
              "      <th>text_id</th>\n",
              "      <th>category</th>\n",
              "      <th>sentiment</th>\n",
              "    </tr>\n",
              "  </thead>\n",
              "  <tbody>\n",
              "    <tr>\n",
              "      <th>0</th>\n",
              "      <td>3976</td>\n",
              "      <td>Food</td>\n",
              "      <td>positive</td>\n",
              "    </tr>\n",
              "    <tr>\n",
              "      <th>1</th>\n",
              "      <td>3976</td>\n",
              "      <td>Interior</td>\n",
              "      <td>positive</td>\n",
              "    </tr>\n",
              "    <tr>\n",
              "      <th>2</th>\n",
              "      <td>3976</td>\n",
              "      <td>Price</td>\n",
              "      <td>absence</td>\n",
              "    </tr>\n",
              "    <tr>\n",
              "      <th>3</th>\n",
              "      <td>3976</td>\n",
              "      <td>Whole</td>\n",
              "      <td>positive</td>\n",
              "    </tr>\n",
              "    <tr>\n",
              "      <th>4</th>\n",
              "      <td>3976</td>\n",
              "      <td>Service</td>\n",
              "      <td>positive</td>\n",
              "    </tr>\n",
              "    <tr>\n",
              "      <th>...</th>\n",
              "      <td>...</td>\n",
              "      <td>...</td>\n",
              "      <td>...</td>\n",
              "    </tr>\n",
              "    <tr>\n",
              "      <th>0</th>\n",
              "      <td>33043</td>\n",
              "      <td>Food</td>\n",
              "      <td>positive</td>\n",
              "    </tr>\n",
              "    <tr>\n",
              "      <th>1</th>\n",
              "      <td>33043</td>\n",
              "      <td>Interior</td>\n",
              "      <td>positive</td>\n",
              "    </tr>\n",
              "    <tr>\n",
              "      <th>2</th>\n",
              "      <td>33043</td>\n",
              "      <td>Price</td>\n",
              "      <td>absence</td>\n",
              "    </tr>\n",
              "    <tr>\n",
              "      <th>3</th>\n",
              "      <td>33043</td>\n",
              "      <td>Whole</td>\n",
              "      <td>positive</td>\n",
              "    </tr>\n",
              "    <tr>\n",
              "      <th>4</th>\n",
              "      <td>33043</td>\n",
              "      <td>Service</td>\n",
              "      <td>positive</td>\n",
              "    </tr>\n",
              "  </tbody>\n",
              "</table>\n",
              "<p>355 rows × 3 columns</p>\n",
              "</div>\n",
              "      <button class=\"colab-df-convert\" onclick=\"convertToInteractive('df-6baa53ee-7d46-49dd-ba71-ac0645835595')\"\n",
              "              title=\"Convert this dataframe to an interactive table.\"\n",
              "              style=\"display:none;\">\n",
              "        \n",
              "  <svg xmlns=\"http://www.w3.org/2000/svg\" height=\"24px\"viewBox=\"0 0 24 24\"\n",
              "       width=\"24px\">\n",
              "    <path d=\"M0 0h24v24H0V0z\" fill=\"none\"/>\n",
              "    <path d=\"M18.56 5.44l.94 2.06.94-2.06 2.06-.94-2.06-.94-.94-2.06-.94 2.06-2.06.94zm-11 1L8.5 8.5l.94-2.06 2.06-.94-2.06-.94L8.5 2.5l-.94 2.06-2.06.94zm10 10l.94 2.06.94-2.06 2.06-.94-2.06-.94-.94-2.06-.94 2.06-2.06.94z\"/><path d=\"M17.41 7.96l-1.37-1.37c-.4-.4-.92-.59-1.43-.59-.52 0-1.04.2-1.43.59L10.3 9.45l-7.72 7.72c-.78.78-.78 2.05 0 2.83L4 21.41c.39.39.9.59 1.41.59.51 0 1.02-.2 1.41-.59l7.78-7.78 2.81-2.81c.8-.78.8-2.07 0-2.86zM5.41 20L4 18.59l7.72-7.72 1.47 1.35L5.41 20z\"/>\n",
              "  </svg>\n",
              "      </button>\n",
              "      \n",
              "  <style>\n",
              "    .colab-df-container {\n",
              "      display:flex;\n",
              "      flex-wrap:wrap;\n",
              "      gap: 12px;\n",
              "    }\n",
              "\n",
              "    .colab-df-convert {\n",
              "      background-color: #E8F0FE;\n",
              "      border: none;\n",
              "      border-radius: 50%;\n",
              "      cursor: pointer;\n",
              "      display: none;\n",
              "      fill: #1967D2;\n",
              "      height: 32px;\n",
              "      padding: 0 0 0 0;\n",
              "      width: 32px;\n",
              "    }\n",
              "\n",
              "    .colab-df-convert:hover {\n",
              "      background-color: #E2EBFA;\n",
              "      box-shadow: 0px 1px 2px rgba(60, 64, 67, 0.3), 0px 1px 3px 1px rgba(60, 64, 67, 0.15);\n",
              "      fill: #174EA6;\n",
              "    }\n",
              "\n",
              "    [theme=dark] .colab-df-convert {\n",
              "      background-color: #3B4455;\n",
              "      fill: #D2E3FC;\n",
              "    }\n",
              "\n",
              "    [theme=dark] .colab-df-convert:hover {\n",
              "      background-color: #434B5C;\n",
              "      box-shadow: 0px 1px 3px 1px rgba(0, 0, 0, 0.15);\n",
              "      filter: drop-shadow(0px 1px 2px rgba(0, 0, 0, 0.3));\n",
              "      fill: #FFFFFF;\n",
              "    }\n",
              "  </style>\n",
              "\n",
              "      <script>\n",
              "        const buttonEl =\n",
              "          document.querySelector('#df-6baa53ee-7d46-49dd-ba71-ac0645835595 button.colab-df-convert');\n",
              "        buttonEl.style.display =\n",
              "          google.colab.kernel.accessAllowed ? 'block' : 'none';\n",
              "\n",
              "        async function convertToInteractive(key) {\n",
              "          const element = document.querySelector('#df-6baa53ee-7d46-49dd-ba71-ac0645835595');\n",
              "          const dataTable =\n",
              "            await google.colab.kernel.invokeFunction('convertToInteractive',\n",
              "                                                     [key], {});\n",
              "          if (!dataTable) return;\n",
              "\n",
              "          const docLinkHtml = 'Like what you see? Visit the ' +\n",
              "            '<a target=\"_blank\" href=https://colab.research.google.com/notebooks/data_table.ipynb>data table notebook</a>'\n",
              "            + ' to learn more about interactive tables.';\n",
              "          element.innerHTML = '';\n",
              "          dataTable['output_type'] = 'display_data';\n",
              "          await google.colab.output.renderOutput(dataTable, element);\n",
              "          const docLink = document.createElement('div');\n",
              "          docLink.innerHTML = docLinkHtml;\n",
              "          element.appendChild(docLink);\n",
              "        }\n",
              "      </script>\n",
              "    </div>\n",
              "  </div>\n",
              "  "
            ],
            "text/plain": [
              "    text_id  category sentiment\n",
              "0      3976      Food  positive\n",
              "1      3976  Interior  positive\n",
              "2      3976     Price   absence\n",
              "3      3976     Whole  positive\n",
              "4      3976   Service  positive\n",
              "..      ...       ...       ...\n",
              "0     33043      Food  positive\n",
              "1     33043  Interior  positive\n",
              "2     33043     Price   absence\n",
              "3     33043     Whole  positive\n",
              "4     33043   Service  positive\n",
              "\n",
              "[355 rows x 3 columns]"
            ]
          },
          "metadata": {},
          "execution_count": 78
        }
      ]
    },
    {
      "cell_type": "code",
      "source": [
        "output.to_csv('dev_cats_output.txt', sep='\\t', header=False, index=False)"
      ],
      "metadata": {
        "id": "PJRL6j1N1ZGY"
      },
      "execution_count": 79,
      "outputs": []
    }
  ]
}
