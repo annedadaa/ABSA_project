{
  "cells": [
    {
      "cell_type": "code",
      "execution_count": null,
      "metadata": {
        "id": "3oprTw35ivME"
      },
      "outputs": [],
      "source": [
        "!pip install pymorphy2\n",
        "!pip install -U 'scikit-learn<0.24'\n",
        "!pip install stanza\n",
        "!pip install sklearn-crfsuite"
      ]
    },
    {
      "cell_type": "code",
      "execution_count": null,
      "metadata": {
        "id": "xAgvbrw0t9nN"
      },
      "outputs": [],
      "source": [
        "import pandas as pd\n",
        "import seaborn as sns\n",
        "from nltk.tokenize import RegexpTokenizer\n",
        "from pymorphy2 import MorphAnalyzer\n",
        "from tqdm import tqdm\n",
        "from sklearn.model_selection import train_test_split\n",
        "import sklearn_crfsuite\n",
        "from sklearn_crfsuite import scorers\n",
        "from sklearn_crfsuite import metrics\n",
        "import scipy\n",
        "from sklearn.metrics import fbeta_score, make_scorer\n",
        "from sklearn.model_selection import RandomizedSearchCV\n",
        "from collections import defaultdict\n",
        "import stanza\n",
        "stanza.download('ru')\n",
        "morph = MorphAnalyzer()\n",
        "token = RegexpTokenizer('\\w+')"
      ]
    },
    {
      "cell_type": "code",
      "execution_count": null,
      "metadata": {
        "id": "D4WYNuU2uRxT"
      },
      "outputs": [],
      "source": [
        "!wget https://github.com/named-entity/hse-nlp/raw/master/4th_year/Project/train_split_aspects.txt\n",
        "!wget https://github.com/named-entity/hse-nlp/raw/master/4th_year/Project/train_split_reviews.txt"
      ]
    },
    {
      "cell_type": "code",
      "execution_count": 10,
      "metadata": {
        "id": "qw1MTntJv1_F",
        "colab": {
          "base_uri": "https://localhost:8080/",
          "height": 419
        },
        "outputId": "1f930551-ace3-40da-a953-d91aa8fa34f7"
      },
      "outputs": [
        {
          "output_type": "execute_result",
          "data": {
            "text/html": [
              "\n",
              "  <div id=\"df-c0bb53d3-5cee-48b5-8db1-2d00d4be4d81\">\n",
              "    <div class=\"colab-df-container\">\n",
              "      <div>\n",
              "<style scoped>\n",
              "    .dataframe tbody tr th:only-of-type {\n",
              "        vertical-align: middle;\n",
              "    }\n",
              "\n",
              "    .dataframe tbody tr th {\n",
              "        vertical-align: top;\n",
              "    }\n",
              "\n",
              "    .dataframe thead th {\n",
              "        text-align: right;\n",
              "    }\n",
              "</style>\n",
              "<table border=\"1\" class=\"dataframe\">\n",
              "  <thead>\n",
              "    <tr style=\"text-align: right;\">\n",
              "      <th></th>\n",
              "      <th>text_id</th>\n",
              "      <th>text</th>\n",
              "    </tr>\n",
              "  </thead>\n",
              "  <tbody>\n",
              "    <tr>\n",
              "      <th>0</th>\n",
              "      <td>25709</td>\n",
              "      <td>Были 1 февраля. Я второй раз, подруга - первый...</td>\n",
              "    </tr>\n",
              "    <tr>\n",
              "      <th>1</th>\n",
              "      <td>10099</td>\n",
              "      <td>Были в Дитае на прошлой неделе с подругой. Заш...</td>\n",
              "    </tr>\n",
              "    <tr>\n",
              "      <th>2</th>\n",
              "      <td>1105</td>\n",
              "      <td>Один из моих любимых ресторанов. С самого откр...</td>\n",
              "    </tr>\n",
              "    <tr>\n",
              "      <th>3</th>\n",
              "      <td>3647</td>\n",
              "      <td>Остались очень довольны. Хотим поблагодарить ш...</td>\n",
              "    </tr>\n",
              "    <tr>\n",
              "      <th>4</th>\n",
              "      <td>37070</td>\n",
              "      <td>приехали к друзьям в Питер из Москвы на Новый ...</td>\n",
              "    </tr>\n",
              "    <tr>\n",
              "      <th>...</th>\n",
              "      <td>...</td>\n",
              "      <td>...</td>\n",
              "    </tr>\n",
              "    <tr>\n",
              "      <th>208</th>\n",
              "      <td>10645</td>\n",
              "      <td>Заезжали поужинать с подругой пару недель наза...</td>\n",
              "    </tr>\n",
              "    <tr>\n",
              "      <th>209</th>\n",
              "      <td>12341</td>\n",
              "      <td>Ходила туда вчера. Интерьер необычный, привлек...</td>\n",
              "    </tr>\n",
              "    <tr>\n",
              "      <th>210</th>\n",
              "      <td>34196</td>\n",
              "      <td>Бронировали столик в прошлые выходные (30.08.1...</td>\n",
              "    </tr>\n",
              "    <tr>\n",
              "      <th>211</th>\n",
              "      <td>17475</td>\n",
              "      <td>Была вчера в этом ресторане!Поехала туда не це...</td>\n",
              "    </tr>\n",
              "    <tr>\n",
              "      <th>212</th>\n",
              "      <td>32859</td>\n",
              "      <td>20 октября отмечали день рождения нашей фирмы ...</td>\n",
              "    </tr>\n",
              "  </tbody>\n",
              "</table>\n",
              "<p>213 rows × 2 columns</p>\n",
              "</div>\n",
              "      <button class=\"colab-df-convert\" onclick=\"convertToInteractive('df-c0bb53d3-5cee-48b5-8db1-2d00d4be4d81')\"\n",
              "              title=\"Convert this dataframe to an interactive table.\"\n",
              "              style=\"display:none;\">\n",
              "        \n",
              "  <svg xmlns=\"http://www.w3.org/2000/svg\" height=\"24px\"viewBox=\"0 0 24 24\"\n",
              "       width=\"24px\">\n",
              "    <path d=\"M0 0h24v24H0V0z\" fill=\"none\"/>\n",
              "    <path d=\"M18.56 5.44l.94 2.06.94-2.06 2.06-.94-2.06-.94-.94-2.06-.94 2.06-2.06.94zm-11 1L8.5 8.5l.94-2.06 2.06-.94-2.06-.94L8.5 2.5l-.94 2.06-2.06.94zm10 10l.94 2.06.94-2.06 2.06-.94-2.06-.94-.94-2.06-.94 2.06-2.06.94z\"/><path d=\"M17.41 7.96l-1.37-1.37c-.4-.4-.92-.59-1.43-.59-.52 0-1.04.2-1.43.59L10.3 9.45l-7.72 7.72c-.78.78-.78 2.05 0 2.83L4 21.41c.39.39.9.59 1.41.59.51 0 1.02-.2 1.41-.59l7.78-7.78 2.81-2.81c.8-.78.8-2.07 0-2.86zM5.41 20L4 18.59l7.72-7.72 1.47 1.35L5.41 20z\"/>\n",
              "  </svg>\n",
              "      </button>\n",
              "      \n",
              "  <style>\n",
              "    .colab-df-container {\n",
              "      display:flex;\n",
              "      flex-wrap:wrap;\n",
              "      gap: 12px;\n",
              "    }\n",
              "\n",
              "    .colab-df-convert {\n",
              "      background-color: #E8F0FE;\n",
              "      border: none;\n",
              "      border-radius: 50%;\n",
              "      cursor: pointer;\n",
              "      display: none;\n",
              "      fill: #1967D2;\n",
              "      height: 32px;\n",
              "      padding: 0 0 0 0;\n",
              "      width: 32px;\n",
              "    }\n",
              "\n",
              "    .colab-df-convert:hover {\n",
              "      background-color: #E2EBFA;\n",
              "      box-shadow: 0px 1px 2px rgba(60, 64, 67, 0.3), 0px 1px 3px 1px rgba(60, 64, 67, 0.15);\n",
              "      fill: #174EA6;\n",
              "    }\n",
              "\n",
              "    [theme=dark] .colab-df-convert {\n",
              "      background-color: #3B4455;\n",
              "      fill: #D2E3FC;\n",
              "    }\n",
              "\n",
              "    [theme=dark] .colab-df-convert:hover {\n",
              "      background-color: #434B5C;\n",
              "      box-shadow: 0px 1px 3px 1px rgba(0, 0, 0, 0.15);\n",
              "      filter: drop-shadow(0px 1px 2px rgba(0, 0, 0, 0.3));\n",
              "      fill: #FFFFFF;\n",
              "    }\n",
              "  </style>\n",
              "\n",
              "      <script>\n",
              "        const buttonEl =\n",
              "          document.querySelector('#df-c0bb53d3-5cee-48b5-8db1-2d00d4be4d81 button.colab-df-convert');\n",
              "        buttonEl.style.display =\n",
              "          google.colab.kernel.accessAllowed ? 'block' : 'none';\n",
              "\n",
              "        async function convertToInteractive(key) {\n",
              "          const element = document.querySelector('#df-c0bb53d3-5cee-48b5-8db1-2d00d4be4d81');\n",
              "          const dataTable =\n",
              "            await google.colab.kernel.invokeFunction('convertToInteractive',\n",
              "                                                     [key], {});\n",
              "          if (!dataTable) return;\n",
              "\n",
              "          const docLinkHtml = 'Like what you see? Visit the ' +\n",
              "            '<a target=\"_blank\" href=https://colab.research.google.com/notebooks/data_table.ipynb>data table notebook</a>'\n",
              "            + ' to learn more about interactive tables.';\n",
              "          element.innerHTML = '';\n",
              "          dataTable['output_type'] = 'display_data';\n",
              "          await google.colab.output.renderOutput(dataTable, element);\n",
              "          const docLink = document.createElement('div');\n",
              "          docLink.innerHTML = docLinkHtml;\n",
              "          element.appendChild(docLink);\n",
              "        }\n",
              "      </script>\n",
              "    </div>\n",
              "  </div>\n",
              "  "
            ],
            "text/plain": [
              "     text_id                                               text\n",
              "0      25709  Были 1 февраля. Я второй раз, подруга - первый...\n",
              "1      10099  Были в Дитае на прошлой неделе с подругой. Заш...\n",
              "2       1105  Один из моих любимых ресторанов. С самого откр...\n",
              "3       3647  Остались очень довольны. Хотим поблагодарить ш...\n",
              "4      37070  приехали к друзьям в Питер из Москвы на Новый ...\n",
              "..       ...                                                ...\n",
              "208    10645  Заезжали поужинать с подругой пару недель наза...\n",
              "209    12341  Ходила туда вчера. Интерьер необычный, привлек...\n",
              "210    34196  Бронировали столик в прошлые выходные (30.08.1...\n",
              "211    17475  Была вчера в этом ресторане!Поехала туда не це...\n",
              "212    32859  20 октября отмечали день рождения нашей фирмы ...\n",
              "\n",
              "[213 rows x 2 columns]"
            ]
          },
          "metadata": {},
          "execution_count": 10
        }
      ],
      "source": [
        "train_asp = pd.read_csv(\n",
        "    'train_split_aspects.txt', \n",
        "    delimiter='\\t', \n",
        "    names=['text_id', 'category', 'mention', 'start', 'end', 'sentiment']\n",
        ")\n",
        "train_texts = pd.read_csv('train_split_reviews.txt', delimiter='\\t', names=['text_id','text'])\n",
        "train_texts"
      ]
    },
    {
      "cell_type": "code",
      "execution_count": 11,
      "metadata": {
        "id": "sBvdyLA9veMd",
        "colab": {
          "base_uri": "https://localhost:8080/"
        },
        "outputId": "b5efff22-e910-4051-c957-cb48a895eb3a"
      },
      "outputs": [
        {
          "output_type": "stream",
          "name": "stderr",
          "text": [
            "2021-12-28 08:45:03 INFO: Loading these models for language: ru (Russian):\n",
            "=========================\n",
            "| Processor | Package   |\n",
            "-------------------------\n",
            "| tokenize  | syntagrus |\n",
            "=========================\n",
            "\n",
            "2021-12-28 08:45:03 INFO: Use device: gpu\n",
            "2021-12-28 08:45:03 INFO: Loading: tokenize\n",
            "2021-12-28 08:45:03 INFO: Done loading processors!\n"
          ]
        }
      ],
      "source": [
        "nlp = stanza.Pipeline('ru', processors='tokenize')"
      ]
    },
    {
      "cell_type": "code",
      "execution_count": 13,
      "metadata": {
        "id": "SLbKt04cwT19"
      },
      "outputs": [],
      "source": [
        "reviews = {}\n",
        "with open('train_split_reviews.txt') as f:\n",
        "  for line in f:\n",
        "    line = line.rstrip('\\r\\n').split('\\t')\n",
        "    reviews[line[0]] = line[1]"
      ]
    },
    {
      "cell_type": "code",
      "execution_count": 68,
      "metadata": {
        "id": "ptOoJOOiwLXt"
      },
      "outputs": [],
      "source": [
        "aspects = defaultdict(list)\n",
        "with open('train_split_aspects.txt') as f:\n",
        "  for line in f:\n",
        "    line = line.rstrip('\\r\\n').split('\\t')\n",
        "    keys = ('category', 'mention', 'start', 'end', 'sentiment')\n",
        "    aspects[line[0]].append(dict(zip(keys, line[1:])))"
      ]
    },
    {
      "cell_type": "markdown",
      "source": [
        "Вытаскиваем аспекты и записываем в формате BIO."
      ],
      "metadata": {
        "id": "iXGBq3imdrze"
      }
    },
    {
      "cell_type": "code",
      "execution_count": 69,
      "metadata": {
        "id": "bthAHYwFwNsF",
        "colab": {
          "base_uri": "https://localhost:8080/"
        },
        "outputId": "c62e9d7c-7415-4f0a-e2fb-7050a5537f97"
      },
      "outputs": [
        {
          "output_type": "stream",
          "name": "stderr",
          "text": [
            "100%|██████████| 213/213 [00:40<00:00,  5.22it/s]\n"
          ]
        }
      ],
      "source": [
        "bio_texts = []\n",
        "for text_id, text in tqdm(reviews.items()):\n",
        "  bio_text = []\n",
        "  processed = nlp(text)\n",
        "  postags = []\n",
        "  for token in processed.iter_tokens():\n",
        "    add = False\n",
        "    parse = morph.parse(token.text)[0]\n",
        "    postag = parse.tag.POS\n",
        "    if postag is None:\n",
        "      postag = 'PUNKT'\n",
        "    postags.append(postag)\n",
        "    for mention in aspects[text_id]:\n",
        "      if token.start_char == int(mention['start']) and token.end_char <= int(mention['end']):\n",
        "        bio_text.append({'text':token.text, 'pos': postag, 'tag':'B-'+mention['category'],\n",
        "                         'text_id': text_id, 'start': token.start_char, 'end': token.end_char})\n",
        "        add = True\n",
        "      elif token.start_char > int(mention['start']) and token.end_char <= int(mention['end']):\n",
        "        bio_text.append({'text':token.text, 'pos': postag, 'tag':'I-'+mention['category'],\n",
        "                         'text_id': text_id, 'start': token.start_char, 'end': token.end_char})\n",
        "        add = True\n",
        "    if not add:\n",
        "      bio_text.append({'text':token.text, 'pos': postag, 'tag':'O', \n",
        "                       'text_id': text_id, 'start': token.start_char, \n",
        "                       'end': token.end_char})\n",
        "  bio_texts.append(bio_text)"
      ]
    },
    {
      "cell_type": "markdown",
      "source": [
        "Посмотрим на распределение тегов по всем текстам отзывов."
      ],
      "metadata": {
        "id": "FCY47nmp87Rn"
      }
    },
    {
      "cell_type": "code",
      "source": [
        "words = []\n",
        "tags = []\n",
        "sents = []\n",
        "for num, text in enumerate(bio_texts):\n",
        "  for i in text:\n",
        "    if i['tag'] != 'O':\n",
        "      words.append(i['text'])\n",
        "      tags.append(i['tag'])\n",
        "      sents.append(train_texts['text'][num])"
      ],
      "metadata": {
        "id": "otHwaOBWOyeo"
      },
      "execution_count": 70,
      "outputs": []
    },
    {
      "cell_type": "code",
      "source": [
        "df = pd.DataFrame(list(zip(words, tags, sents)),\n",
        "               columns =['words', 'tags', 'sents'])\n",
        "df['tags'].value_counts()"
      ],
      "metadata": {
        "id": "twYc3vIJJnIH",
        "colab": {
          "base_uri": "https://localhost:8080/"
        },
        "outputId": "a47f8044-be36-4fda-c0a4-c17d98f96030"
      },
      "execution_count": 71,
      "outputs": [
        {
          "output_type": "execute_result",
          "data": {
            "text/plain": [
              "B-Food        1428\n",
              "B-Service      908\n",
              "I-Food         686\n",
              "B-Whole        610\n",
              "B-Interior     510\n",
              "I-Service      209\n",
              "I-Interior     160\n",
              "I-Whole        139\n",
              "B-Price        100\n",
              "I-Price         19\n",
              "Name: tags, dtype: int64"
            ]
          },
          "metadata": {},
          "execution_count": 71
        }
      ]
    },
    {
      "cell_type": "code",
      "source": [
        "x = list(df['tags'].unique())\n",
        "sns.set(rc={'figure.figsize':(11.7,8.27)})\n",
        "sns.barplot(\n",
        "    x=list(df['tags'].unique()), \n",
        "    y=df['tags'].value_counts().to_list(), \n",
        "    palette='hls',\n",
        "    data=df);"
      ],
      "metadata": {
        "colab": {
          "base_uri": "https://localhost:8080/",
          "height": 500
        },
        "id": "6RKZkp0zR457",
        "outputId": "d197ea45-f3c8-4030-beb6-120444dd6727"
      },
      "execution_count": 72,
      "outputs": [
        {
          "output_type": "display_data",
          "data": {
            "image/png": "[encoded data removed]",
            "text/plain": [
              "<Figure size 842.4x595.44 with 1 Axes>"
            ]
          },
          "metadata": {}
        }
      ]
    },
    {
      "cell_type": "markdown",
      "source": [
        "Распределение очень неравномерное, определить малочисленные аспекты будет тяжело, кроме того, мы убрали из диаграммы все O-теги, которых было около 30 тыс."
      ],
      "metadata": {
        "id": "UeTnLStl9ica"
      }
    },
    {
      "cell_type": "markdown",
      "source": [
        "### Модель CRF для извлечения аспектов."
      ],
      "metadata": {
        "id": "_TC2ze_G9-Jt"
      }
    },
    {
      "cell_type": "code",
      "execution_count": 73,
      "metadata": {
        "id": "JAiV6SvXw-xo"
      },
      "outputs": [],
      "source": [
        "def word2features(sent, i):\n",
        "    # достаёт фичи для i-го токена в предложении\n",
        "    word = sent[i]['text']\n",
        "    postag = sent[i]['pos']\n",
        "    text_id = sent[i]['text_id']\n",
        "    start = sent[i]['start']\n",
        "    end = sent[i]['end']\n",
        "\n",
        "    features = {\n",
        "        'text_id': text_id, \n",
        "        'word': word,\n",
        "        'word.lower()': word.lower(),\n",
        "        'word[-3:]': word[-3:],\n",
        "        'word[-2:]': word[-2:],\n",
        "        'word.isupper()': word.isupper(),\n",
        "        'word.istitle()': word.istitle(),\n",
        "        'word.isdigit()': word.isdigit(),\n",
        "        'postag': postag,\n",
        "        'start': start,\n",
        "        'end': end\n",
        "    }\n",
        "    if i > 0:\n",
        "        word1 = sent[i-1]['text']\n",
        "        postag1 = sent[i-1]['pos']\n",
        "        features.update({\n",
        "            '-1:word.lower()': word1.lower(),\n",
        "            '-1:word.istitle()': word1.istitle(),\n",
        "            '-1:word.isupper()': word1.isupper(),\n",
        "            '-1:postag': postag1,\n",
        "        })\n",
        "    else:\n",
        "        features['BOS'] = True\n",
        "        \n",
        "    if i < len(sent)-1:\n",
        "        word1 = sent[i+1]['text']\n",
        "        postag1 = sent[i+1]['pos']\n",
        "        features.update({\n",
        "            '+1:word.lower()': word1.lower(),\n",
        "            '+1:word.istitle()': word1.istitle(),\n",
        "            '+1:word.isupper()': word1.isupper(),\n",
        "            '+1:postag': postag1,\n",
        "            '+1:postag[:2]': postag1[:2],\n",
        "        })\n",
        "    else:\n",
        "        features['EOS'] = True\n",
        "                \n",
        "    return features\n",
        "\n",
        "def sent2features(sent):\n",
        "    return [word2features(sent, i) for i in range(len(sent))]\n",
        "\n",
        "def sent2labels(sent):\n",
        "    return [word['tag'] for word in sent]\n",
        "\n",
        "def sent2tokens(sent):\n",
        "    return [word['text'] for word in sent]"
      ]
    },
    {
      "cell_type": "code",
      "execution_count": 74,
      "metadata": {
        "id": "cURLTjYJwyU8"
      },
      "outputs": [],
      "source": [
        "train_sents, test_sents = train_test_split(bio_texts, test_size=0.1, random_state=0, shuffle=True)"
      ]
    },
    {
      "cell_type": "code",
      "execution_count": 75,
      "metadata": {
        "id": "X76fLPs4xDEZ"
      },
      "outputs": [],
      "source": [
        "X_train = [sent2features(s) for s in train_sents]\n",
        "y_train = [sent2labels(s) for s in train_sents]\n",
        "\n",
        "X_test = [sent2features(s) for s in test_sents]\n",
        "y_test = [sent2labels(s) for s in test_sents]"
      ]
    },
    {
      "cell_type": "code",
      "source": [
        "labels = set()\n",
        "for x in y_train:\n",
        "  for y in x:\n",
        "    labels.add(y)\n",
        "\n",
        "labels = list(labels)\n",
        "print(labels)"
      ],
      "metadata": {
        "id": "D1Y1P-59QSUI",
        "colab": {
          "base_uri": "https://localhost:8080/"
        },
        "outputId": "6e782fe7-a919-4116-81e4-de45330f902c"
      },
      "execution_count": 76,
      "outputs": [
        {
          "output_type": "stream",
          "name": "stdout",
          "text": [
            "['B-Price', 'I-Price', 'I-Food', 'I-Whole', 'O', 'B-Food', 'B-Whole', 'I-Interior', 'B-Interior', 'B-Service', 'I-Service']\n"
          ]
        }
      ]
    },
    {
      "cell_type": "code",
      "source": [
        "crf = sklearn_crfsuite.CRF(\n",
        "    algorithm='lbfgs', \n",
        "    c1=0.1, \n",
        "    c2=0.1, \n",
        "    max_iterations=100, \n",
        "    all_possible_transitions=True\n",
        ")\n",
        "crf.fit(X_train, y_train)"
      ],
      "metadata": {
        "id": "XAyetKTurGfw",
        "colab": {
          "base_uri": "https://localhost:8080/"
        },
        "outputId": "44feea02-8221-4cc8-f1ae-62555eb0cb20"
      },
      "execution_count": 77,
      "outputs": [
        {
          "output_type": "stream",
          "name": "stderr",
          "text": [
            "/usr/local/lib/python3.7/dist-packages/sklearn/base.py:213: FutureWarning: From version 0.24, get_params will raise an AttributeError if a parameter cannot be retrieved as an instance attribute. Previously it would return None.\n",
            "  FutureWarning)\n"
          ]
        },
        {
          "output_type": "execute_result",
          "data": {
            "text/plain": [
              "CRF(algorithm='lbfgs', all_possible_transitions=True, c1=0.1, c2=0.1,\n",
              "    keep_tempfiles=None, max_iterations=100)"
            ]
          },
          "metadata": {},
          "execution_count": 77
        }
      ]
    },
    {
      "cell_type": "code",
      "execution_count": 78,
      "metadata": {
        "colab": {
          "base_uri": "https://localhost:8080/"
        },
        "id": "V7UNO8juxKFj",
        "outputId": "dac742a6-81e1-4fc3-ecc1-c7514774b310"
      },
      "outputs": [
        {
          "output_type": "execute_result",
          "data": {
            "text/plain": [
              "0.9329482094878352"
            ]
          },
          "metadata": {},
          "execution_count": 78
        }
      ],
      "source": [
        "y_pred = crf.predict(X_test)\n",
        "metrics.flat_f1_score(y_test, y_pred, \n",
        "                      average='weighted', labels=labels)"
      ]
    },
    {
      "cell_type": "code",
      "execution_count": 79,
      "metadata": {
        "colab": {
          "base_uri": "https://localhost:8080/"
        },
        "id": "5ezjepkixRDi",
        "outputId": "89fa2096-32c8-481c-957d-df0ef9a0758b"
      },
      "outputs": [
        {
          "output_type": "stream",
          "name": "stdout",
          "text": [
            "              precision    recall  f1-score   support\n",
            "\n",
            "           O      0.956     0.984     0.970      3286\n",
            "      B-Food      0.785     0.707     0.744       150\n",
            "      I-Food      0.806     0.500     0.617        50\n",
            "  B-Interior      0.794     0.466     0.587        58\n",
            "  I-Interior      0.167     0.043     0.069        23\n",
            "     B-Price      1.000     0.667     0.800         6\n",
            "     I-Price      1.000     0.333     0.500         3\n",
            "   B-Service      0.814     0.608     0.696        79\n",
            "   I-Service      0.385     0.312     0.345        16\n",
            "     B-Whole      0.825     0.855     0.839        55\n",
            "     I-Whole      0.625     1.000     0.769         5\n",
            "\n",
            "    accuracy                          0.939      3731\n",
            "   macro avg      0.741     0.589     0.631      3731\n",
            "weighted avg      0.932     0.939     0.933      3731\n",
            "\n"
          ]
        },
        {
          "output_type": "stream",
          "name": "stderr",
          "text": [
            "/usr/local/lib/python3.7/dist-packages/sklearn/utils/validation.py:70: FutureWarning: Pass labels=['O', 'B-Food', 'I-Food', 'B-Interior', 'I-Interior', 'B-Price', 'I-Price', 'B-Service', 'I-Service', 'B-Whole', 'I-Whole'] as keyword args. From version 0.25 passing these as positional arguments will result in an error\n",
            "  FutureWarning)\n"
          ]
        }
      ],
      "source": [
        "# group B and I results\n",
        "sorted_labels = sorted(\n",
        "    labels, \n",
        "    key=lambda name: (name[1:], name[0])\n",
        ")\n",
        "print(metrics.flat_classification_report(\n",
        "    y_test, y_pred, labels=sorted_labels, digits=3\n",
        "))"
      ]
    },
    {
      "cell_type": "markdown",
      "source": [
        "Здесь мы будем вытаскивать всю нужную нам информацию, чтобы потом записать в файл."
      ],
      "metadata": {
        "id": "wyGuOIU2E0W3"
      }
    },
    {
      "cell_type": "code",
      "source": [
        "def get_marking(y_pred, X_test):\n",
        "  d = {'text_id': [], 'tag': [], 'text': [], 'start': [], 'end': []}\n",
        "  for num, i in enumerate(y_pred):\n",
        "    for j, tag in enumerate(i):\n",
        "      if tag!= 'O':\n",
        "        if i[j].startswith('B') and i[j+1].startswith('I'):\n",
        "          n=j+1\n",
        "          tokens = []\n",
        "          tokens.append(X_test[num][j]['word'])\n",
        "          start = X_test[num][j]['start']\n",
        "          while i[n].startswith('I'):\n",
        "            tokens.append(X_test[num][n]['word'])\n",
        "            n+=1\n",
        "          end = X_test[num][n-1]['end']\n",
        "          t_id = X_test[num][j]['text_id']\n",
        "          tag = i[j].split('-')[1]\n",
        "          d['text_id'].append(t_id)\n",
        "          d['text'].append(' '.join(tokens))\n",
        "          d['tag'].append(tag)\n",
        "          d['start'].append(start)\n",
        "          d['end'].append(end)\n",
        "        elif i[j].startswith('B') and not i[j+1].startswith('I'):\n",
        "          d['text_id'].append(X_test[num][j]['text_id'])\n",
        "          d['tag'].append(i[j].split('-')[1])\n",
        "          d['text'].append(X_test[num][j]['word'])\n",
        "          d['start'].append(X_test[num][j]['start'])\n",
        "          d['end'].append(X_test[num][j]['end'])\n",
        "\n",
        "  df = pd.DataFrame(data=d)\n",
        "  return df"
      ],
      "metadata": {
        "id": "cROavBoCifNn"
      },
      "execution_count": 80,
      "outputs": []
    },
    {
      "cell_type": "code",
      "source": [
        "get_marking(y_pred, X_test).head()"
      ],
      "metadata": {
        "colab": {
          "base_uri": "https://localhost:8080/",
          "height": 204
        },
        "id": "0g4vkcWvSNRV",
        "outputId": "15ce958e-8d36-4127-cc34-8437bfc6c14e"
      },
      "execution_count": 81,
      "outputs": [
        {
          "output_type": "execute_result",
          "data": {
            "text/html": [
              "\n",
              "  <div id=\"df-0afc46e8-b6f2-4b32-9e7d-e6e6fcb3656a\">\n",
              "    <div class=\"colab-df-container\">\n",
              "      <div>\n",
              "<style scoped>\n",
              "    .dataframe tbody tr th:only-of-type {\n",
              "        vertical-align: middle;\n",
              "    }\n",
              "\n",
              "    .dataframe tbody tr th {\n",
              "        vertical-align: top;\n",
              "    }\n",
              "\n",
              "    .dataframe thead th {\n",
              "        text-align: right;\n",
              "    }\n",
              "</style>\n",
              "<table border=\"1\" class=\"dataframe\">\n",
              "  <thead>\n",
              "    <tr style=\"text-align: right;\">\n",
              "      <th></th>\n",
              "      <th>text_id</th>\n",
              "      <th>tag</th>\n",
              "      <th>text</th>\n",
              "      <th>start</th>\n",
              "      <th>end</th>\n",
              "    </tr>\n",
              "  </thead>\n",
              "  <tbody>\n",
              "    <tr>\n",
              "      <th>0</th>\n",
              "      <td>34282</td>\n",
              "      <td>Whole</td>\n",
              "      <td>ресторан</td>\n",
              "      <td>31</td>\n",
              "      <td>39</td>\n",
              "    </tr>\n",
              "    <tr>\n",
              "      <th>1</th>\n",
              "      <td>34282</td>\n",
              "      <td>Service</td>\n",
              "      <td>обслуживание</td>\n",
              "      <td>96</td>\n",
              "      <td>108</td>\n",
              "    </tr>\n",
              "    <tr>\n",
              "      <th>2</th>\n",
              "      <td>34282</td>\n",
              "      <td>Service</td>\n",
              "      <td>принесет меню</td>\n",
              "      <td>167</td>\n",
              "      <td>180</td>\n",
              "    </tr>\n",
              "    <tr>\n",
              "      <th>3</th>\n",
              "      <td>34282</td>\n",
              "      <td>Food</td>\n",
              "      <td>блюда</td>\n",
              "      <td>301</td>\n",
              "      <td>306</td>\n",
              "    </tr>\n",
              "    <tr>\n",
              "      <th>4</th>\n",
              "      <td>34282</td>\n",
              "      <td>Food</td>\n",
              "      <td>цезарь</td>\n",
              "      <td>359</td>\n",
              "      <td>365</td>\n",
              "    </tr>\n",
              "  </tbody>\n",
              "</table>\n",
              "</div>\n",
              "      <button class=\"colab-df-convert\" onclick=\"convertToInteractive('df-0afc46e8-b6f2-4b32-9e7d-e6e6fcb3656a')\"\n",
              "              title=\"Convert this dataframe to an interactive table.\"\n",
              "              style=\"display:none;\">\n",
              "        \n",
              "  <svg xmlns=\"http://www.w3.org/2000/svg\" height=\"24px\"viewBox=\"0 0 24 24\"\n",
              "       width=\"24px\">\n",
              "    <path d=\"M0 0h24v24H0V0z\" fill=\"none\"/>\n",
              "    <path d=\"M18.56 5.44l.94 2.06.94-2.06 2.06-.94-2.06-.94-.94-2.06-.94 2.06-2.06.94zm-11 1L8.5 8.5l.94-2.06 2.06-.94-2.06-.94L8.5 2.5l-.94 2.06-2.06.94zm10 10l.94 2.06.94-2.06 2.06-.94-2.06-.94-.94-2.06-.94 2.06-2.06.94z\"/><path d=\"M17.41 7.96l-1.37-1.37c-.4-.4-.92-.59-1.43-.59-.52 0-1.04.2-1.43.59L10.3 9.45l-7.72 7.72c-.78.78-.78 2.05 0 2.83L4 21.41c.39.39.9.59 1.41.59.51 0 1.02-.2 1.41-.59l7.78-7.78 2.81-2.81c.8-.78.8-2.07 0-2.86zM5.41 20L4 18.59l7.72-7.72 1.47 1.35L5.41 20z\"/>\n",
              "  </svg>\n",
              "      </button>\n",
              "      \n",
              "  <style>\n",
              "    .colab-df-container {\n",
              "      display:flex;\n",
              "      flex-wrap:wrap;\n",
              "      gap: 12px;\n",
              "    }\n",
              "\n",
              "    .colab-df-convert {\n",
              "      background-color: #E8F0FE;\n",
              "      border: none;\n",
              "      border-radius: 50%;\n",
              "      cursor: pointer;\n",
              "      display: none;\n",
              "      fill: #1967D2;\n",
              "      height: 32px;\n",
              "      padding: 0 0 0 0;\n",
              "      width: 32px;\n",
              "    }\n",
              "\n",
              "    .colab-df-convert:hover {\n",
              "      background-color: #E2EBFA;\n",
              "      box-shadow: 0px 1px 2px rgba(60, 64, 67, 0.3), 0px 1px 3px 1px rgba(60, 64, 67, 0.15);\n",
              "      fill: #174EA6;\n",
              "    }\n",
              "\n",
              "    [theme=dark] .colab-df-convert {\n",
              "      background-color: #3B4455;\n",
              "      fill: #D2E3FC;\n",
              "    }\n",
              "\n",
              "    [theme=dark] .colab-df-convert:hover {\n",
              "      background-color: #434B5C;\n",
              "      box-shadow: 0px 1px 3px 1px rgba(0, 0, 0, 0.15);\n",
              "      filter: drop-shadow(0px 1px 2px rgba(0, 0, 0, 0.3));\n",
              "      fill: #FFFFFF;\n",
              "    }\n",
              "  </style>\n",
              "\n",
              "      <script>\n",
              "        const buttonEl =\n",
              "          document.querySelector('#df-0afc46e8-b6f2-4b32-9e7d-e6e6fcb3656a button.colab-df-convert');\n",
              "        buttonEl.style.display =\n",
              "          google.colab.kernel.accessAllowed ? 'block' : 'none';\n",
              "\n",
              "        async function convertToInteractive(key) {\n",
              "          const element = document.querySelector('#df-0afc46e8-b6f2-4b32-9e7d-e6e6fcb3656a');\n",
              "          const dataTable =\n",
              "            await google.colab.kernel.invokeFunction('convertToInteractive',\n",
              "                                                     [key], {});\n",
              "          if (!dataTable) return;\n",
              "\n",
              "          const docLinkHtml = 'Like what you see? Visit the ' +\n",
              "            '<a target=\"_blank\" href=https://colab.research.google.com/notebooks/data_table.ipynb>data table notebook</a>'\n",
              "            + ' to learn more about interactive tables.';\n",
              "          element.innerHTML = '';\n",
              "          dataTable['output_type'] = 'display_data';\n",
              "          await google.colab.output.renderOutput(dataTable, element);\n",
              "          const docLink = document.createElement('div');\n",
              "          docLink.innerHTML = docLinkHtml;\n",
              "          element.appendChild(docLink);\n",
              "        }\n",
              "      </script>\n",
              "    </div>\n",
              "  </div>\n",
              "  "
            ],
            "text/plain": [
              "  text_id      tag           text  start  end\n",
              "0   34282    Whole       ресторан     31   39\n",
              "1   34282  Service   обслуживание     96  108\n",
              "2   34282  Service  принесет меню    167  180\n",
              "3   34282     Food          блюда    301  306\n",
              "4   34282     Food         цезарь    359  365"
            ]
          },
          "metadata": {},
          "execution_count": 81
        }
      ]
    },
    {
      "cell_type": "markdown",
      "source": [
        "Дальше скачиваем новые данные, на которых будем проверять модель."
      ],
      "metadata": {
        "id": "DJg8LdjWKM15"
      }
    },
    {
      "cell_type": "code",
      "source": [
        "!wget https://github.com/named-entity/hse-nlp/raw/master/4th_year/Project/dev_reviews.txt"
      ],
      "metadata": {
        "id": "xxgjJt0W5PJC"
      },
      "execution_count": null,
      "outputs": []
    },
    {
      "cell_type": "code",
      "source": [
        "dev_texts = pd.read_csv('dev_reviews.txt', delimiter='\\t', names=['text_id', 'text'])\n",
        "dev_texts.head()"
      ],
      "metadata": {
        "colab": {
          "base_uri": "https://localhost:8080/",
          "height": 204
        },
        "id": "8ZdDjvPD5jVJ",
        "outputId": "332983b1-552d-4505-c9df-d95cae265897"
      },
      "execution_count": 83,
      "outputs": [
        {
          "output_type": "execute_result",
          "data": {
            "text/html": [
              "\n",
              "  <div id=\"df-9c70ea23-6662-48bc-9126-ae67352e5ecd\">\n",
              "    <div class=\"colab-df-container\">\n",
              "      <div>\n",
              "<style scoped>\n",
              "    .dataframe tbody tr th:only-of-type {\n",
              "        vertical-align: middle;\n",
              "    }\n",
              "\n",
              "    .dataframe tbody tr th {\n",
              "        vertical-align: top;\n",
              "    }\n",
              "\n",
              "    .dataframe thead th {\n",
              "        text-align: right;\n",
              "    }\n",
              "</style>\n",
              "<table border=\"1\" class=\"dataframe\">\n",
              "  <thead>\n",
              "    <tr style=\"text-align: right;\">\n",
              "      <th></th>\n",
              "      <th>text_id</th>\n",
              "      <th>text</th>\n",
              "    </tr>\n",
              "  </thead>\n",
              "  <tbody>\n",
              "    <tr>\n",
              "      <th>0</th>\n",
              "      <td>13823</td>\n",
              "      <td>Зашли в\"аппетит\" случайно.Не смотря на то,что ...</td>\n",
              "    </tr>\n",
              "    <tr>\n",
              "      <th>1</th>\n",
              "      <td>1427</td>\n",
              "      <td>Здравствуйте!Посетили ваше заведение вчера пер...</td>\n",
              "    </tr>\n",
              "    <tr>\n",
              "      <th>2</th>\n",
              "      <td>16714</td>\n",
              "      <td>Были в пятницу (19.03.10), заказывали столик д...</td>\n",
              "    </tr>\n",
              "    <tr>\n",
              "      <th>3</th>\n",
              "      <td>797</td>\n",
              "      <td>Были в ресторане 2 раза. Один раз днем, все по...</td>\n",
              "    </tr>\n",
              "    <tr>\n",
              "      <th>4</th>\n",
              "      <td>34710</td>\n",
              "      <td>Удивляюсь отзывам про хорошее обслуживание. Бы...</td>\n",
              "    </tr>\n",
              "  </tbody>\n",
              "</table>\n",
              "</div>\n",
              "      <button class=\"colab-df-convert\" onclick=\"convertToInteractive('df-9c70ea23-6662-48bc-9126-ae67352e5ecd')\"\n",
              "              title=\"Convert this dataframe to an interactive table.\"\n",
              "              style=\"display:none;\">\n",
              "        \n",
              "  <svg xmlns=\"http://www.w3.org/2000/svg\" height=\"24px\"viewBox=\"0 0 24 24\"\n",
              "       width=\"24px\">\n",
              "    <path d=\"M0 0h24v24H0V0z\" fill=\"none\"/>\n",
              "    <path d=\"M18.56 5.44l.94 2.06.94-2.06 2.06-.94-2.06-.94-.94-2.06-.94 2.06-2.06.94zm-11 1L8.5 8.5l.94-2.06 2.06-.94-2.06-.94L8.5 2.5l-.94 2.06-2.06.94zm10 10l.94 2.06.94-2.06 2.06-.94-2.06-.94-.94-2.06-.94 2.06-2.06.94z\"/><path d=\"M17.41 7.96l-1.37-1.37c-.4-.4-.92-.59-1.43-.59-.52 0-1.04.2-1.43.59L10.3 9.45l-7.72 7.72c-.78.78-.78 2.05 0 2.83L4 21.41c.39.39.9.59 1.41.59.51 0 1.02-.2 1.41-.59l7.78-7.78 2.81-2.81c.8-.78.8-2.07 0-2.86zM5.41 20L4 18.59l7.72-7.72 1.47 1.35L5.41 20z\"/>\n",
              "  </svg>\n",
              "      </button>\n",
              "      \n",
              "  <style>\n",
              "    .colab-df-container {\n",
              "      display:flex;\n",
              "      flex-wrap:wrap;\n",
              "      gap: 12px;\n",
              "    }\n",
              "\n",
              "    .colab-df-convert {\n",
              "      background-color: #E8F0FE;\n",
              "      border: none;\n",
              "      border-radius: 50%;\n",
              "      cursor: pointer;\n",
              "      display: none;\n",
              "      fill: #1967D2;\n",
              "      height: 32px;\n",
              "      padding: 0 0 0 0;\n",
              "      width: 32px;\n",
              "    }\n",
              "\n",
              "    .colab-df-convert:hover {\n",
              "      background-color: #E2EBFA;\n",
              "      box-shadow: 0px 1px 2px rgba(60, 64, 67, 0.3), 0px 1px 3px 1px rgba(60, 64, 67, 0.15);\n",
              "      fill: #174EA6;\n",
              "    }\n",
              "\n",
              "    [theme=dark] .colab-df-convert {\n",
              "      background-color: #3B4455;\n",
              "      fill: #D2E3FC;\n",
              "    }\n",
              "\n",
              "    [theme=dark] .colab-df-convert:hover {\n",
              "      background-color: #434B5C;\n",
              "      box-shadow: 0px 1px 3px 1px rgba(0, 0, 0, 0.15);\n",
              "      filter: drop-shadow(0px 1px 2px rgba(0, 0, 0, 0.3));\n",
              "      fill: #FFFFFF;\n",
              "    }\n",
              "  </style>\n",
              "\n",
              "      <script>\n",
              "        const buttonEl =\n",
              "          document.querySelector('#df-9c70ea23-6662-48bc-9126-ae67352e5ecd button.colab-df-convert');\n",
              "        buttonEl.style.display =\n",
              "          google.colab.kernel.accessAllowed ? 'block' : 'none';\n",
              "\n",
              "        async function convertToInteractive(key) {\n",
              "          const element = document.querySelector('#df-9c70ea23-6662-48bc-9126-ae67352e5ecd');\n",
              "          const dataTable =\n",
              "            await google.colab.kernel.invokeFunction('convertToInteractive',\n",
              "                                                     [key], {});\n",
              "          if (!dataTable) return;\n",
              "\n",
              "          const docLinkHtml = 'Like what you see? Visit the ' +\n",
              "            '<a target=\"_blank\" href=https://colab.research.google.com/notebooks/data_table.ipynb>data table notebook</a>'\n",
              "            + ' to learn more about interactive tables.';\n",
              "          element.innerHTML = '';\n",
              "          dataTable['output_type'] = 'display_data';\n",
              "          await google.colab.output.renderOutput(dataTable, element);\n",
              "          const docLink = document.createElement('div');\n",
              "          docLink.innerHTML = docLinkHtml;\n",
              "          element.appendChild(docLink);\n",
              "        }\n",
              "      </script>\n",
              "    </div>\n",
              "  </div>\n",
              "  "
            ],
            "text/plain": [
              "   text_id                                               text\n",
              "0    13823  Зашли в\"аппетит\" случайно.Не смотря на то,что ...\n",
              "1     1427  Здравствуйте!Посетили ваше заведение вчера пер...\n",
              "2    16714  Были в пятницу (19.03.10), заказывали столик д...\n",
              "3      797  Были в ресторане 2 раза. Один раз днем, все по...\n",
              "4    34710  Удивляюсь отзывам про хорошее обслуживание. Бы..."
            ]
          },
          "metadata": {},
          "execution_count": 83
        }
      ]
    },
    {
      "cell_type": "code",
      "source": [
        "dev_reviews = {}\n",
        "with open('dev_reviews.txt') as f:\n",
        "  for line in f:\n",
        "    line = line.rstrip('\\r\\n').split('\\t')\n",
        "    dev_reviews[line[0]] = line[1]"
      ],
      "metadata": {
        "id": "_BY4HyEc9iZP"
      },
      "execution_count": 84,
      "outputs": []
    },
    {
      "cell_type": "markdown",
      "source": [
        "Чтобы подавать сырые тексты в модель, нужно привести их в словари вида:\n",
        "\n",
        "`{'text':token.text, 'pos': postag, 'text_id': text_id}`\n",
        "\n",
        "\n",
        "\n"
      ],
      "metadata": {
        "id": "EMrAINNK8vfv"
      }
    },
    {
      "cell_type": "code",
      "source": [
        "def get_data(dev_reviews):\n",
        "  all_texts = []\n",
        "  for text_id, text in tqdm(dev_reviews.items()):\n",
        "    tokens = []\n",
        "    processed = nlp(text)\n",
        "    for token in processed.iter_tokens():\n",
        "      parse = morph.parse(token.text)[0]\n",
        "      postag = parse.tag.POS\n",
        "      if postag is None:\n",
        "        postag = 'PUNKT'\n",
        "      postags.append(postag)\n",
        "      tokens.append({'text':token.text, 'pos':postag, 'text_id':text_id,\n",
        "                     'start':token.start_char, 'end':token.end_char})\n",
        "    all_texts.append(tokens)\n",
        "  return all_texts"
      ],
      "metadata": {
        "id": "T3ROZtx19N3k"
      },
      "execution_count": 85,
      "outputs": []
    },
    {
      "cell_type": "code",
      "source": [
        "all_texts = get_data(dev_reviews)"
      ],
      "metadata": {
        "colab": {
          "base_uri": "https://localhost:8080/"
        },
        "id": "qmP200zwKi9F",
        "outputId": "bc3bed9d-d5c9-4e31-b26f-28c6009a6b7f"
      },
      "execution_count": 86,
      "outputs": [
        {
          "output_type": "stream",
          "name": "stderr",
          "text": [
            "100%|██████████| 71/71 [00:13<00:00,  5.27it/s]\n"
          ]
        }
      ]
    },
    {
      "cell_type": "code",
      "source": [
        "test_data = [sent2features(s) for s in all_texts]"
      ],
      "metadata": {
        "id": "NWxBLS0i-BlL"
      },
      "execution_count": 87,
      "outputs": []
    },
    {
      "cell_type": "code",
      "source": [
        "dev_pred = crf.predict(test_data)"
      ],
      "metadata": {
        "id": "fr8tObz9E_H3"
      },
      "execution_count": 88,
      "outputs": []
    },
    {
      "cell_type": "markdown",
      "source": [
        "Сортировка полученных данных для того, чтобы потом можно было сравнить с эталонными (эталонные следует так же сортировать)."
      ],
      "metadata": {
        "id": "evE1SeuWDOl7"
      }
    },
    {
      "cell_type": "code",
      "source": [
        "dev_res = get_marking(dev_pred, test_data)\n",
        "dev_res['text_id'] = pd.to_numeric(dev_res['text_id'])\n",
        "dev_res = dev_res.sort_values(by=['text_id'])"
      ],
      "metadata": {
        "id": "zFk1_LKnCw24"
      },
      "execution_count": 89,
      "outputs": []
    },
    {
      "cell_type": "code",
      "source": [
        "dev_res"
      ],
      "metadata": {
        "id": "jiw5Up5JFJpG",
        "colab": {
          "base_uri": "https://localhost:8080/",
          "height": 419
        },
        "outputId": "e610b680-d4b3-4529-94a9-844153272ba2"
      },
      "execution_count": 90,
      "outputs": [
        {
          "output_type": "execute_result",
          "data": {
            "text/html": [
              "\n",
              "  <div id=\"df-d6287685-7870-4fa7-99b6-17ba99e6548a\">\n",
              "    <div class=\"colab-df-container\">\n",
              "      <div>\n",
              "<style scoped>\n",
              "    .dataframe tbody tr th:only-of-type {\n",
              "        vertical-align: middle;\n",
              "    }\n",
              "\n",
              "    .dataframe tbody tr th {\n",
              "        vertical-align: top;\n",
              "    }\n",
              "\n",
              "    .dataframe thead th {\n",
              "        text-align: right;\n",
              "    }\n",
              "</style>\n",
              "<table border=\"1\" class=\"dataframe\">\n",
              "  <thead>\n",
              "    <tr style=\"text-align: right;\">\n",
              "      <th></th>\n",
              "      <th>text_id</th>\n",
              "      <th>tag</th>\n",
              "      <th>text</th>\n",
              "      <th>start</th>\n",
              "      <th>end</th>\n",
              "    </tr>\n",
              "  </thead>\n",
              "  <tbody>\n",
              "    <tr>\n",
              "      <th>94</th>\n",
              "      <td>785</td>\n",
              "      <td>Service</td>\n",
              "      <td>администратор</td>\n",
              "      <td>416</td>\n",
              "      <td>429</td>\n",
              "    </tr>\n",
              "    <tr>\n",
              "      <th>93</th>\n",
              "      <td>785</td>\n",
              "      <td>Service</td>\n",
              "      <td>помогла</td>\n",
              "      <td>392</td>\n",
              "      <td>399</td>\n",
              "    </tr>\n",
              "    <tr>\n",
              "      <th>92</th>\n",
              "      <td>785</td>\n",
              "      <td>Food</td>\n",
              "      <td>виды блюд</td>\n",
              "      <td>334</td>\n",
              "      <td>343</td>\n",
              "    </tr>\n",
              "    <tr>\n",
              "      <th>91</th>\n",
              "      <td>785</td>\n",
              "      <td>Food</td>\n",
              "      <td>Меню</td>\n",
              "      <td>176</td>\n",
              "      <td>180</td>\n",
              "    </tr>\n",
              "    <tr>\n",
              "      <th>89</th>\n",
              "      <td>785</td>\n",
              "      <td>Whole</td>\n",
              "      <td>Ресторан</td>\n",
              "      <td>69</td>\n",
              "      <td>77</td>\n",
              "    </tr>\n",
              "    <tr>\n",
              "      <th>...</th>\n",
              "      <td>...</td>\n",
              "      <td>...</td>\n",
              "      <td>...</td>\n",
              "      <td>...</td>\n",
              "      <td>...</td>\n",
              "    </tr>\n",
              "    <tr>\n",
              "      <th>911</th>\n",
              "      <td>38299</td>\n",
              "      <td>Interior</td>\n",
              "      <td>обстановка</td>\n",
              "      <td>211</td>\n",
              "      <td>221</td>\n",
              "    </tr>\n",
              "    <tr>\n",
              "      <th>910</th>\n",
              "      <td>38299</td>\n",
              "      <td>Whole</td>\n",
              "      <td>заведение</td>\n",
              "      <td>167</td>\n",
              "      <td>176</td>\n",
              "    </tr>\n",
              "    <tr>\n",
              "      <th>909</th>\n",
              "      <td>38299</td>\n",
              "      <td>Whole</td>\n",
              "      <td>заведение</td>\n",
              "      <td>74</td>\n",
              "      <td>83</td>\n",
              "    </tr>\n",
              "    <tr>\n",
              "      <th>924</th>\n",
              "      <td>38299</td>\n",
              "      <td>Food</td>\n",
              "      <td>кусок мяса с правильной прожаркой</td>\n",
              "      <td>981</td>\n",
              "      <td>1014</td>\n",
              "    </tr>\n",
              "    <tr>\n",
              "      <th>914</th>\n",
              "      <td>38299</td>\n",
              "      <td>Interior</td>\n",
              "      <td>Интерьер</td>\n",
              "      <td>341</td>\n",
              "      <td>349</td>\n",
              "    </tr>\n",
              "  </tbody>\n",
              "</table>\n",
              "<p>951 rows × 5 columns</p>\n",
              "</div>\n",
              "      <button class=\"colab-df-convert\" onclick=\"convertToInteractive('df-d6287685-7870-4fa7-99b6-17ba99e6548a')\"\n",
              "              title=\"Convert this dataframe to an interactive table.\"\n",
              "              style=\"display:none;\">\n",
              "        \n",
              "  <svg xmlns=\"http://www.w3.org/2000/svg\" height=\"24px\"viewBox=\"0 0 24 24\"\n",
              "       width=\"24px\">\n",
              "    <path d=\"M0 0h24v24H0V0z\" fill=\"none\"/>\n",
              "    <path d=\"M18.56 5.44l.94 2.06.94-2.06 2.06-.94-2.06-.94-.94-2.06-.94 2.06-2.06.94zm-11 1L8.5 8.5l.94-2.06 2.06-.94-2.06-.94L8.5 2.5l-.94 2.06-2.06.94zm10 10l.94 2.06.94-2.06 2.06-.94-2.06-.94-.94-2.06-.94 2.06-2.06.94z\"/><path d=\"M17.41 7.96l-1.37-1.37c-.4-.4-.92-.59-1.43-.59-.52 0-1.04.2-1.43.59L10.3 9.45l-7.72 7.72c-.78.78-.78 2.05 0 2.83L4 21.41c.39.39.9.59 1.41.59.51 0 1.02-.2 1.41-.59l7.78-7.78 2.81-2.81c.8-.78.8-2.07 0-2.86zM5.41 20L4 18.59l7.72-7.72 1.47 1.35L5.41 20z\"/>\n",
              "  </svg>\n",
              "      </button>\n",
              "      \n",
              "  <style>\n",
              "    .colab-df-container {\n",
              "      display:flex;\n",
              "      flex-wrap:wrap;\n",
              "      gap: 12px;\n",
              "    }\n",
              "\n",
              "    .colab-df-convert {\n",
              "      background-color: #E8F0FE;\n",
              "      border: none;\n",
              "      border-radius: 50%;\n",
              "      cursor: pointer;\n",
              "      display: none;\n",
              "      fill: #1967D2;\n",
              "      height: 32px;\n",
              "      padding: 0 0 0 0;\n",
              "      width: 32px;\n",
              "    }\n",
              "\n",
              "    .colab-df-convert:hover {\n",
              "      background-color: #E2EBFA;\n",
              "      box-shadow: 0px 1px 2px rgba(60, 64, 67, 0.3), 0px 1px 3px 1px rgba(60, 64, 67, 0.15);\n",
              "      fill: #174EA6;\n",
              "    }\n",
              "\n",
              "    [theme=dark] .colab-df-convert {\n",
              "      background-color: #3B4455;\n",
              "      fill: #D2E3FC;\n",
              "    }\n",
              "\n",
              "    [theme=dark] .colab-df-convert:hover {\n",
              "      background-color: #434B5C;\n",
              "      box-shadow: 0px 1px 3px 1px rgba(0, 0, 0, 0.15);\n",
              "      filter: drop-shadow(0px 1px 2px rgba(0, 0, 0, 0.3));\n",
              "      fill: #FFFFFF;\n",
              "    }\n",
              "  </style>\n",
              "\n",
              "      <script>\n",
              "        const buttonEl =\n",
              "          document.querySelector('#df-d6287685-7870-4fa7-99b6-17ba99e6548a button.colab-df-convert');\n",
              "        buttonEl.style.display =\n",
              "          google.colab.kernel.accessAllowed ? 'block' : 'none';\n",
              "\n",
              "        async function convertToInteractive(key) {\n",
              "          const element = document.querySelector('#df-d6287685-7870-4fa7-99b6-17ba99e6548a');\n",
              "          const dataTable =\n",
              "            await google.colab.kernel.invokeFunction('convertToInteractive',\n",
              "                                                     [key], {});\n",
              "          if (!dataTable) return;\n",
              "\n",
              "          const docLinkHtml = 'Like what you see? Visit the ' +\n",
              "            '<a target=\"_blank\" href=https://colab.research.google.com/notebooks/data_table.ipynb>data table notebook</a>'\n",
              "            + ' to learn more about interactive tables.';\n",
              "          element.innerHTML = '';\n",
              "          dataTable['output_type'] = 'display_data';\n",
              "          await google.colab.output.renderOutput(dataTable, element);\n",
              "          const docLink = document.createElement('div');\n",
              "          docLink.innerHTML = docLinkHtml;\n",
              "          element.appendChild(docLink);\n",
              "        }\n",
              "      </script>\n",
              "    </div>\n",
              "  </div>\n",
              "  "
            ],
            "text/plain": [
              "     text_id       tag                               text  start   end\n",
              "94       785   Service                      администратор    416   429\n",
              "93       785   Service                            помогла    392   399\n",
              "92       785      Food                          виды блюд    334   343\n",
              "91       785      Food                               Меню    176   180\n",
              "89       785     Whole                           Ресторан     69    77\n",
              "..       ...       ...                                ...    ...   ...\n",
              "911    38299  Interior                         обстановка    211   221\n",
              "910    38299     Whole                          заведение    167   176\n",
              "909    38299     Whole                          заведение     74    83\n",
              "924    38299      Food  кусок мяса с правильной прожаркой    981  1014\n",
              "914    38299  Interior                           Интерьер    341   349\n",
              "\n",
              "[951 rows x 5 columns]"
            ]
          },
          "metadata": {},
          "execution_count": 90
        }
      ]
    },
    {
      "cell_type": "markdown",
      "source": [
        "Записали в файл и переходим к заданию оценки тональности."
      ],
      "metadata": {
        "id": "CCacm4umEcLq"
      }
    },
    {
      "cell_type": "code",
      "source": [
        "with open('dev_pred_aspects.txt', 'w') as f:\n",
        "  for text_id, tag, text, start, end in zip(dev_res['text_id'], dev_res['tag'], dev_res['text'], dev_res['start'], dev_res['end']):\n",
        "      print(text_id, tag, text, start, end, sep=\"\\t\", file=f)"
      ],
      "metadata": {
        "id": "1__n1C0-JwyR"
      },
      "execution_count": 91,
      "outputs": []
    }
  ],
  "metadata": {
    "colab": {
      "name": "aspect_extraction.ipynb",
      "provenance": [],
      "collapsed_sections": []
    },
    "kernelspec": {
      "display_name": "Python 3",
      "name": "python3"
    },
    "language_info": {
      "name": "python"
    },
    "accelerator": "GPU"
  },
  "nbformat": 4,
  "nbformat_minor": 0
}