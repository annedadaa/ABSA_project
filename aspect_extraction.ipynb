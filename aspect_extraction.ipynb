{
  "cells": [
    {
      "cell_type": "code",
      "execution_count": null,
      "metadata": {
        "id": "3oprTw35ivME"
      },
      "outputs": [],
      "source": [
        "!pip install pymorphy2\n",
        "!pip install -U 'scikit-learn<0.24'\n",
        "!pip install stanza\n",
        "!pip install sklearn-crfsuite"
      ]
    },
    {
      "cell_type": "code",
      "execution_count": null,
      "metadata": {
        "id": "xAgvbrw0t9nN"
      },
      "outputs": [],
      "source": [
        "import pandas as pd\n",
        "import seaborn as sns\n",
        "from nltk.tokenize import RegexpTokenizer\n",
        "from pymorphy2 import MorphAnalyzer\n",
        "from tqdm import tqdm\n",
        "from sklearn.model_selection import train_test_split\n",
        "import sklearn_crfsuite\n",
        "from sklearn_crfsuite import scorers\n",
        "from sklearn_crfsuite import metrics\n",
        "import scipy\n",
        "from sklearn.metrics import fbeta_score, make_scorer\n",
        "from sklearn.model_selection import RandomizedSearchCV\n",
        "from collections import defaultdict\n",
        "import stanza\n",
        "stanza.download('ru')\n",
        "morph = MorphAnalyzer()\n",
        "token = RegexpTokenizer('\\w+')"
      ]
    },
    {
      "cell_type": "code",
      "execution_count": null,
      "metadata": {
        "id": "D4WYNuU2uRxT"
      },
      "outputs": [],
      "source": [
        "!wget https://github.com/named-entity/hse-nlp/raw/master/4th_year/Project/train_aspects.txt\n",
        "!wget https://github.com/named-entity/hse-nlp/raw/master/4th_year/Project/train_reviews.txt"
      ]
    },
    {
      "cell_type": "code",
      "execution_count": 4,
      "metadata": {
        "id": "qw1MTntJv1_F",
        "colab": {
          "base_uri": "https://localhost:8080/",
          "height": 206
        },
        "outputId": "de9b9bb5-6d4a-440a-cf22-5908ce6feaba"
      },
      "outputs": [
        {
          "output_type": "execute_result",
          "data": {
            "text/html": [
              "\n",
              "  <div id=\"df-7fe5e699-5381-40f8-aebc-0639af0082cf\">\n",
              "    <div class=\"colab-df-container\">\n",
              "      <div>\n",
              "<style scoped>\n",
              "    .dataframe tbody tr th:only-of-type {\n",
              "        vertical-align: middle;\n",
              "    }\n",
              "\n",
              "    .dataframe tbody tr th {\n",
              "        vertical-align: top;\n",
              "    }\n",
              "\n",
              "    .dataframe thead th {\n",
              "        text-align: right;\n",
              "    }\n",
              "</style>\n",
              "<table border=\"1\" class=\"dataframe\">\n",
              "  <thead>\n",
              "    <tr style=\"text-align: right;\">\n",
              "      <th></th>\n",
              "      <th>text_id</th>\n",
              "      <th>text</th>\n",
              "    </tr>\n",
              "  </thead>\n",
              "  <tbody>\n",
              "    <tr>\n",
              "      <th>0</th>\n",
              "      <td>3976</td>\n",
              "      <td>День 8-го марта прошёл, можно и итоги подвести...</td>\n",
              "    </tr>\n",
              "    <tr>\n",
              "      <th>1</th>\n",
              "      <td>30808</td>\n",
              "      <td>Отмечали в этом ресторане день рождение на пер...</td>\n",
              "    </tr>\n",
              "    <tr>\n",
              "      <th>2</th>\n",
              "      <td>14031</td>\n",
              "      <td>Хочу поделиться своим впечатлением от посещени...</td>\n",
              "    </tr>\n",
              "    <tr>\n",
              "      <th>3</th>\n",
              "      <td>2495</td>\n",
              "      <td>Добрый день! Были вчера с друзьями в этом кафе...</td>\n",
              "    </tr>\n",
              "    <tr>\n",
              "      <th>4</th>\n",
              "      <td>38835</td>\n",
              "      <td>Отметили с мужем годовщину свадьбы 6 ноября в ...</td>\n",
              "    </tr>\n",
              "  </tbody>\n",
              "</table>\n",
              "</div>\n",
              "      <button class=\"colab-df-convert\" onclick=\"convertToInteractive('df-7fe5e699-5381-40f8-aebc-0639af0082cf')\"\n",
              "              title=\"Convert this dataframe to an interactive table.\"\n",
              "              style=\"display:none;\">\n",
              "        \n",
              "  <svg xmlns=\"http://www.w3.org/2000/svg\" height=\"24px\"viewBox=\"0 0 24 24\"\n",
              "       width=\"24px\">\n",
              "    <path d=\"M0 0h24v24H0V0z\" fill=\"none\"/>\n",
              "    <path d=\"M18.56 5.44l.94 2.06.94-2.06 2.06-.94-2.06-.94-.94-2.06-.94 2.06-2.06.94zm-11 1L8.5 8.5l.94-2.06 2.06-.94-2.06-.94L8.5 2.5l-.94 2.06-2.06.94zm10 10l.94 2.06.94-2.06 2.06-.94-2.06-.94-.94-2.06-.94 2.06-2.06.94z\"/><path d=\"M17.41 7.96l-1.37-1.37c-.4-.4-.92-.59-1.43-.59-.52 0-1.04.2-1.43.59L10.3 9.45l-7.72 7.72c-.78.78-.78 2.05 0 2.83L4 21.41c.39.39.9.59 1.41.59.51 0 1.02-.2 1.41-.59l7.78-7.78 2.81-2.81c.8-.78.8-2.07 0-2.86zM5.41 20L4 18.59l7.72-7.72 1.47 1.35L5.41 20z\"/>\n",
              "  </svg>\n",
              "      </button>\n",
              "      \n",
              "  <style>\n",
              "    .colab-df-container {\n",
              "      display:flex;\n",
              "      flex-wrap:wrap;\n",
              "      gap: 12px;\n",
              "    }\n",
              "\n",
              "    .colab-df-convert {\n",
              "      background-color: #E8F0FE;\n",
              "      border: none;\n",
              "      border-radius: 50%;\n",
              "      cursor: pointer;\n",
              "      display: none;\n",
              "      fill: #1967D2;\n",
              "      height: 32px;\n",
              "      padding: 0 0 0 0;\n",
              "      width: 32px;\n",
              "    }\n",
              "\n",
              "    .colab-df-convert:hover {\n",
              "      background-color: #E2EBFA;\n",
              "      box-shadow: 0px 1px 2px rgba(60, 64, 67, 0.3), 0px 1px 3px 1px rgba(60, 64, 67, 0.15);\n",
              "      fill: #174EA6;\n",
              "    }\n",
              "\n",
              "    [theme=dark] .colab-df-convert {\n",
              "      background-color: #3B4455;\n",
              "      fill: #D2E3FC;\n",
              "    }\n",
              "\n",
              "    [theme=dark] .colab-df-convert:hover {\n",
              "      background-color: #434B5C;\n",
              "      box-shadow: 0px 1px 3px 1px rgba(0, 0, 0, 0.15);\n",
              "      filter: drop-shadow(0px 1px 2px rgba(0, 0, 0, 0.3));\n",
              "      fill: #FFFFFF;\n",
              "    }\n",
              "  </style>\n",
              "\n",
              "      <script>\n",
              "        const buttonEl =\n",
              "          document.querySelector('#df-7fe5e699-5381-40f8-aebc-0639af0082cf button.colab-df-convert');\n",
              "        buttonEl.style.display =\n",
              "          google.colab.kernel.accessAllowed ? 'block' : 'none';\n",
              "\n",
              "        async function convertToInteractive(key) {\n",
              "          const element = document.querySelector('#df-7fe5e699-5381-40f8-aebc-0639af0082cf');\n",
              "          const dataTable =\n",
              "            await google.colab.kernel.invokeFunction('convertToInteractive',\n",
              "                                                     [key], {});\n",
              "          if (!dataTable) return;\n",
              "\n",
              "          const docLinkHtml = 'Like what you see? Visit the ' +\n",
              "            '<a target=\"_blank\" href=https://colab.research.google.com/notebooks/data_table.ipynb>data table notebook</a>'\n",
              "            + ' to learn more about interactive tables.';\n",
              "          element.innerHTML = '';\n",
              "          dataTable['output_type'] = 'display_data';\n",
              "          await google.colab.output.renderOutput(dataTable, element);\n",
              "          const docLink = document.createElement('div');\n",
              "          docLink.innerHTML = docLinkHtml;\n",
              "          element.appendChild(docLink);\n",
              "        }\n",
              "      </script>\n",
              "    </div>\n",
              "  </div>\n",
              "  "
            ],
            "text/plain": [
              "   text_id                                               text\n",
              "0     3976  День 8-го марта прошёл, можно и итоги подвести...\n",
              "1    30808  Отмечали в этом ресторане день рождение на пер...\n",
              "2    14031  Хочу поделиться своим впечатлением от посещени...\n",
              "3     2495  Добрый день! Были вчера с друзьями в этом кафе...\n",
              "4    38835  Отметили с мужем годовщину свадьбы 6 ноября в ..."
            ]
          },
          "metadata": {},
          "execution_count": 4
        }
      ],
      "source": [
        "train_asp = pd.read_csv(\n",
        "    'train_aspects.txt', \n",
        "    delimiter='\\t', \n",
        "    names=['text_id', 'category', 'mention', 'start', 'end', 'sentiment']\n",
        ")\n",
        "train_texts = pd.read_csv('train_reviews.txt', delimiter='\\t', names=['text_id','text'])\n",
        "train_texts.head()"
      ]
    },
    {
      "cell_type": "code",
      "execution_count": null,
      "metadata": {
        "id": "sBvdyLA9veMd"
      },
      "outputs": [],
      "source": [
        "nlp = stanza.Pipeline('ru', processors='tokenize')"
      ]
    },
    {
      "cell_type": "code",
      "execution_count": 6,
      "metadata": {
        "id": "SLbKt04cwT19"
      },
      "outputs": [],
      "source": [
        "reviews = {}\n",
        "with open('train_reviews.txt') as f:\n",
        "  for line in f:\n",
        "    line = line.rstrip('\\r\\n').split('\\t')\n",
        "    reviews[line[0]] = line[1]"
      ]
    },
    {
      "cell_type": "code",
      "execution_count": 7,
      "metadata": {
        "id": "ptOoJOOiwLXt"
      },
      "outputs": [],
      "source": [
        "aspects = defaultdict(list)\n",
        "with open('train_aspects.txt') as f:\n",
        "  for line in f:\n",
        "    line = line.rstrip('\\r\\n').split('\\t')\n",
        "    keys = ('category', 'mention', 'start', 'end', 'sentiment')\n",
        "    aspects[line[0]].append(dict(zip(keys, line[1:])))"
      ]
    },
    {
      "cell_type": "markdown",
      "source": [
        "Вытаскиваем аспекты длины от 1 до 5 слов и записываем в формате BIO. Код ниже большой и страшный, но я объясню что там происходит. "
      ],
      "metadata": {
        "id": "iXGBq3imdrze"
      }
    },
    {
      "cell_type": "code",
      "execution_count": 8,
      "metadata": {
        "id": "bthAHYwFwNsF",
        "colab": {
          "base_uri": "https://localhost:8080/"
        },
        "outputId": "59666467-aad7-4359-8f04-9473c40a88cf"
      },
      "outputs": [
        {
          "output_type": "stream",
          "name": "stderr",
          "text": [
            "100%|██████████| 284/284 [00:58<00:00,  4.82it/s]\n"
          ]
        }
      ],
      "source": [
        "bio_texts = []\n",
        "for text_id, text in tqdm(reviews.items()):\n",
        "  bio_text = []\n",
        "  processed = nlp(text)\n",
        "  remembered_tokens = [] # запоминаем все предыдущие токены, чтобы с ними делать n-граммы\n",
        "  postags = []\n",
        "  for token in processed.iter_tokens():\n",
        "    add = False\n",
        "    remembered_tokens.append(token)\n",
        "    parse = morph.parse(token.text)[0]\n",
        "    postag = parse.tag.POS\n",
        "    if postag is None:\n",
        "      postag = 'PUNKT'\n",
        "    postags.append(postag)\n",
        "    for mention in aspects[text_id]:\n",
        "      if token.start_char == int(mention['start']) and token.end_char == int(mention['end']):\n",
        "        bio_text.append({'text':token.text, 'pos': postag, 'tag':'B-'+mention['category'],\n",
        "                         'text_id': text_id, 'start': token.start_char, 'end': token.end_char})\n",
        "        add = True\n",
        "      elif len(remembered_tokens) > 5: # здесь мы будем выделять n-граммы длины от 1 до 5\n",
        "        start = remembered_tokens[-2].start_char\n",
        "        start2 = remembered_tokens[-3].start_char\n",
        "        start3 = remembered_tokens[-4].start_char\n",
        "        start4 = remembered_tokens[-5].start_char\n",
        "        start5 = remembered_tokens[-6].start_char\n",
        "        end = token.end_char\n",
        "        if start == int(mention['start']) and end == int(mention['end']): \n",
        "          # сравниваем начало и конец, удаляем последнее слово из bio_text, тк это\n",
        "          # первое слово n-граммы, которое записалось с аспектом O\n",
        "          del bio_text[-1]\n",
        "          bio_text.append({'text':remembered_tokens[-2].text, 'pos': postags[-2],\n",
        "                           'tag':'B-'+mention['category'], 'text_id': text_id, \n",
        "                           'start': start, 'end': remembered_tokens[-2].end_char})\n",
        "          bio_text.append({'text':token.text, 'pos': postag,\n",
        "                           'tag':'I-'+mention['category'], 'text_id': text_id, \n",
        "                           'start': token.start_char, 'end': token.end_char})\n",
        "          add = True\n",
        "        elif start2 == int(mention['start']) and end == int(mention['end']):\n",
        "          del bio_text[-2:]\n",
        "          bio_text.append({'text':remembered_tokens[-3].text, 'pos': postags[-3],\n",
        "                           'tag':'B-'+mention['category'], 'text_id': text_id,\n",
        "                           'start': start2, 'end': remembered_tokens[-3].end_char})\n",
        "          bio_text.append({'text':remembered_tokens[-2].text, 'pos': postags[-2],\n",
        "                           'tag':'I-'+mention['category'], 'text_id': text_id,\n",
        "                           'start': start2, 'end': remembered_tokens[-2].end_char})\n",
        "          bio_text.append({'text':token.text, 'pos': postag,\n",
        "                           'tag':'I-'+mention['category'], 'text_id': text_id,\n",
        "                           'start': token.start_char, 'end': token.end_char})\n",
        "          add = True\n",
        "        elif start3 == int(mention['start']) and end == int(mention['end']):\n",
        "          del bio_text[-3:]\n",
        "          bio_text.append({'text':remembered_tokens[-4].text, 'pos': postags[-4],\n",
        "                           'tag':'B-'+mention['category'], 'text_id': text_id,\n",
        "                           'start': start3, 'end': remembered_tokens[-4].end_char})\n",
        "          for i in range(-3, -1):\n",
        "            bio_text.append({'text':remembered_tokens[i].text, 'pos': postags[i],\n",
        "                            'tag':'I-'+mention['category'], 'text_id': text_id,\n",
        "                            'start': start3, 'end': remembered_tokens[i].end_char})\n",
        "          bio_text.append({'text':token.text, 'pos': postag,\n",
        "                           'tag':'I-'+mention['category'], 'text_id': text_id,\n",
        "                           'start': token.start_char, 'end': token.end_char})\n",
        "          add = True\n",
        "        elif start4 == int(mention['start']) and end == int(mention['end']):\n",
        "          del bio_text[-4:]\n",
        "          bio_text.append({'text':remembered_tokens[-5].text, 'pos': postags[-5],\n",
        "                           'tag':'B-'+mention['category'], 'text_id': text_id,\n",
        "                           'start': start4, 'end': remembered_tokens[-5].end_char})\n",
        "          for i in range(-4, -1):\n",
        "            bio_text.append({'text':remembered_tokens[i].text, 'pos': postags[i],\n",
        "                             'tag':'I-'+mention['category'], 'text_id': text_id,\n",
        "                             'start': start4, 'end': remembered_tokens[i].end_char})\n",
        "          bio_text.append({'text':token.text, 'pos': postag,\n",
        "                           'tag':'I-'+mention['category'], 'text_id': text_id,\n",
        "                           'start': token.start_char, 'end': token.end_char})\n",
        "          add = True\n",
        "        elif start5 == int(mention['start']) and end == int(mention['end']):\n",
        "          del bio_text[-5:]\n",
        "          bio_text.append({'text':remembered_tokens[-6].text, 'pos': postags[-6],\n",
        "                           'tag':'B-'+mention['category'], 'text_id': text_id,\n",
        "                           'start': start5, 'end': remembered_tokens[-6].end_char})\n",
        "          for i in range (-5, -1):\n",
        "            bio_text.append({'text':remembered_tokens[i].text, 'pos': postags[i],\n",
        "                            'tag':'I-'+mention['category'], 'text_id': text_id,\n",
        "                            'start': start5, 'end': remembered_tokens[i].end_char})\n",
        "          bio_text.append({'text':token.text, 'pos': postag,\n",
        "                           'tag':'I-'+mention['category'], 'text_id': text_id,\n",
        "                           'start': token.start_char, 'end': token.end_char})\n",
        "          add = True\n",
        "    if not add:\n",
        "      bio_text.append({'text':token.text, 'pos': postag, 'tag':'O', \n",
        "                       'text_id': text_id, 'start': token.start_char, \n",
        "                       'end': token.end_char})\n",
        "  bio_texts.append(bio_text)"
      ]
    },
    {
      "cell_type": "markdown",
      "source": [
        "Посмотрим на распределение тегов по всем текстам отзывов."
      ],
      "metadata": {
        "id": "FCY47nmp87Rn"
      }
    },
    {
      "cell_type": "code",
      "source": [
        "words = []\n",
        "tags = []\n",
        "sents = []\n",
        "for num, text in enumerate(bio_texts):\n",
        "  for i in text:\n",
        "    if i['tag'] != 'O':\n",
        "      words.append(i['text'])\n",
        "      tags.append(i['tag'])\n",
        "      sents.append(train_texts['text'][num])"
      ],
      "metadata": {
        "id": "otHwaOBWOyeo"
      },
      "execution_count": 9,
      "outputs": []
    },
    {
      "cell_type": "code",
      "source": [
        "df = pd.DataFrame(list(zip(words, tags, sents)),\n",
        "               columns =['words', 'tags', 'sents'])"
      ],
      "metadata": {
        "id": "twYc3vIJJnIH"
      },
      "execution_count": 10,
      "outputs": []
    },
    {
      "cell_type": "code",
      "source": [
        "x = list(df['tags'].unique())\n",
        "sns.barplot(\n",
        "    x=list(df['tags'].unique()), \n",
        "    y=df['tags'].value_counts().to_list(), \n",
        "    palette='hls',\n",
        "    data=df);"
      ],
      "metadata": {
        "colab": {
          "base_uri": "https://localhost:8080/",
          "height": 265
        },
        "id": "6RKZkp0zR457",
        "outputId": "bfc38a62-a9d3-4dfc-819b-c4ea20c22f30"
      },
      "execution_count": 11,
      "outputs": [
        {
          "output_type": "display_data",
          "data": {
            "image/png": "[encoded data removed]",
            "text/plain": [
              "<Figure size 432x288 with 1 Axes>"
            ]
          },
          "metadata": {
            "needs_background": "light"
          }
        }
      ]
    },
    {
      "cell_type": "markdown",
      "source": [
        "Распределение очень неравномерное, определить малочисленные аспекты будет тяжело, кроме того, мы убрали из диаграммы все O-теги, которых было около 40 тыс."
      ],
      "metadata": {
        "id": "UeTnLStl9ica"
      }
    },
    {
      "cell_type": "markdown",
      "source": [
        "### Модель CRF для извлечения аспектов."
      ],
      "metadata": {
        "id": "_TC2ze_G9-Jt"
      }
    },
    {
      "cell_type": "code",
      "execution_count": 12,
      "metadata": {
        "id": "JAiV6SvXw-xo"
      },
      "outputs": [],
      "source": [
        "def word2features(sent, i):\n",
        "    # достаёт фичи для i-го токена в предложении\n",
        "    word = sent[i]['text']\n",
        "    postag = sent[i]['pos']\n",
        "    text_id = sent[i]['text_id']\n",
        "    start = sent[i]['start']\n",
        "    end = sent[i]['end']\n",
        "\n",
        "    features = {\n",
        "        'text_id': text_id, \n",
        "        'word': word,\n",
        "        'word.lower()': word.lower(),\n",
        "        'word[-3:]': word[-3:],\n",
        "        'word[-2:]': word[-2:],\n",
        "        'word.isupper()': word.isupper(),\n",
        "        'word.istitle()': word.istitle(),\n",
        "        'word.isdigit()': word.isdigit(),\n",
        "        'postag': postag,\n",
        "        'start': start,\n",
        "        'end': end\n",
        "    }\n",
        "    if i > 0:\n",
        "        word1 = sent[i-1]['text']\n",
        "        postag1 = sent[i-1]['pos']\n",
        "        features.update({\n",
        "            '-1:word.lower()': word1.lower(),\n",
        "            '-1:word.istitle()': word1.istitle(),\n",
        "            '-1:word.isupper()': word1.isupper(),\n",
        "            '-1:postag': postag1,\n",
        "        })\n",
        "    else:\n",
        "        features['BOS'] = True\n",
        "        \n",
        "    if i < len(sent)-1:\n",
        "        word1 = sent[i+1]['text']\n",
        "        postag1 = sent[i+1]['pos']\n",
        "        features.update({\n",
        "            '+1:word.lower()': word1.lower(),\n",
        "            '+1:word.istitle()': word1.istitle(),\n",
        "            '+1:word.isupper()': word1.isupper(),\n",
        "            '+1:postag': postag1,\n",
        "            '+1:postag[:2]': postag1[:2],\n",
        "        })\n",
        "    else:\n",
        "        features['EOS'] = True\n",
        "                \n",
        "    return features\n",
        "\n",
        "def sent2features(sent):\n",
        "    return [word2features(sent, i) for i in range(len(sent))]\n",
        "\n",
        "def sent2labels(sent):\n",
        "    return [word['tag'] for word in sent]\n",
        "\n",
        "def sent2tokens(sent):\n",
        "    return [word['text'] for word in sent]"
      ]
    },
    {
      "cell_type": "code",
      "execution_count": 13,
      "metadata": {
        "id": "cURLTjYJwyU8"
      },
      "outputs": [],
      "source": [
        "train_sents, test_sents = train_test_split(bio_texts, test_size=0.1, random_state=0, shuffle=True)"
      ]
    },
    {
      "cell_type": "code",
      "execution_count": 14,
      "metadata": {
        "id": "X76fLPs4xDEZ"
      },
      "outputs": [],
      "source": [
        "X_train = [sent2features(s) for s in train_sents]\n",
        "y_train = [sent2labels(s) for s in train_sents]\n",
        "\n",
        "X_test = [sent2features(s) for s in test_sents]\n",
        "y_test = [sent2labels(s) for s in test_sents]"
      ]
    },
    {
      "cell_type": "code",
      "source": [
        "labels = set()\n",
        "for x in y_train:\n",
        "  for y in x:\n",
        "    labels.add(y)\n",
        "\n",
        "labels = list(labels)\n",
        "print(labels)"
      ],
      "metadata": {
        "id": "D1Y1P-59QSUI",
        "colab": {
          "base_uri": "https://localhost:8080/"
        },
        "outputId": "cd35278d-58ca-4534-cc07-9eac2fe1752e"
      },
      "execution_count": 16,
      "outputs": [
        {
          "output_type": "stream",
          "name": "stdout",
          "text": [
            "['B-Price', 'I-Service', 'I-Price', 'I-Whole', 'I-Interior', 'I-Food', 'O', 'B-Interior', 'B-Whole', 'B-Service', 'B-Food']\n"
          ]
        }
      ]
    },
    {
      "cell_type": "code",
      "execution_count": 18,
      "metadata": {
        "id": "ADjVHcqVxIRf",
        "colab": {
          "base_uri": "https://localhost:8080/"
        },
        "outputId": "334b3cd5-a23f-41df-f219-48d66ec9397b"
      },
      "outputs": [
        {
          "output_type": "stream",
          "name": "stdout",
          "text": [
            "Fitting 3 folds for each of 50 candidates, totalling 150 fits\n"
          ]
        },
        {
          "output_type": "stream",
          "name": "stderr",
          "text": [
            "/usr/local/lib/python3.7/dist-packages/sklearn/base.py:213: FutureWarning: From version 0.24, get_params will raise an AttributeError if a parameter cannot be retrieved as an instance attribute. Previously it would return None.\n",
            "  FutureWarning)\n",
            "[Parallel(n_jobs=-1)]: Using backend LokyBackend with 2 concurrent workers.\n",
            "[Parallel(n_jobs=-1)]: Done  46 tasks      | elapsed:  8.7min\n",
            "[Parallel(n_jobs=-1)]: Done 150 out of 150 | elapsed: 27.5min finished\n"
          ]
        },
        {
          "output_type": "execute_result",
          "data": {
            "text/plain": [
              "RandomizedSearchCV(cv=3,\n",
              "                   estimator=CRF(algorithm='lbfgs',\n",
              "                                 all_possible_transitions=True, c1=0.1, c2=0.1,\n",
              "                                 keep_tempfiles=None, max_iterations=100),\n",
              "                   n_iter=50, n_jobs=-1,\n",
              "                   param_distributions={'c1': <scipy.stats._distn_infrastructure.rv_frozen object at 0x7f6ad3201590>,\n",
              "                                        'c2': <scipy.stats._distn_infrastructure.rv_frozen object at 0x7f6ad31eefd0>},\n",
              "                   scoring=make_scorer(flat_f1_score, average=weighted, labels=['B-Price', 'I-Service', 'I-Price', 'I-Whole', 'I-Interior', 'I-Food', 'O', 'B-Interior', 'B-Whole', 'B-Service', 'B-Food']),\n",
              "                   verbose=1)"
            ]
          },
          "metadata": {},
          "execution_count": 18
        }
      ],
      "source": [
        "crf = sklearn_crfsuite.CRF(\n",
        "    algorithm='lbfgs', \n",
        "    c1=0.1, \n",
        "    c2=0.1, \n",
        "    max_iterations=100, \n",
        "    all_possible_transitions=True\n",
        ")\n",
        "\n",
        "#оптимизация гиперпараметров из документации sklearn_crfsuite\n",
        "params_space = {\n",
        "    'c1': scipy.stats.expon(scale=0.5),\n",
        "    'c2': scipy.stats.expon(scale=0.05),\n",
        "}\n",
        "\n",
        "# use the same metric for evaluation\n",
        "f1_scorer = make_scorer(metrics.flat_f1_score,\n",
        "                        average='weighted', labels=labels)\n",
        "\n",
        "# search\n",
        "rs = RandomizedSearchCV(crf, params_space,\n",
        "                        cv=3,\n",
        "                        verbose=1,\n",
        "                        n_jobs=-1,\n",
        "                        n_iter=50,\n",
        "                        scoring=f1_scorer)\n",
        "rs.fit(X_train, y_train)"
      ]
    },
    {
      "cell_type": "code",
      "source": [
        "rs.best_params_"
      ],
      "metadata": {
        "colab": {
          "base_uri": "https://localhost:8080/"
        },
        "id": "E4eQIBGWXMfV",
        "outputId": "fd204393-f052-49b2-e904-a0abe4ca0186"
      },
      "execution_count": 19,
      "outputs": [
        {
          "output_type": "execute_result",
          "data": {
            "text/plain": [
              "{'c1': 0.03847599402098178, 'c2': 0.006576071234424663}"
            ]
          },
          "metadata": {},
          "execution_count": 19
        }
      ]
    },
    {
      "cell_type": "code",
      "source": [
        "crf = sklearn_crfsuite.CRF(\n",
        "    algorithm='lbfgs', \n",
        "    c1=0.03847599402098178, \n",
        "    c2=0.006576071234424663, \n",
        "    max_iterations=100, \n",
        "    all_possible_transitions=True\n",
        ")\n",
        "crf.fit(X_train, y_train)"
      ],
      "metadata": {
        "id": "XAyetKTurGfw"
      },
      "execution_count": null,
      "outputs": []
    },
    {
      "cell_type": "code",
      "execution_count": 27,
      "metadata": {
        "colab": {
          "base_uri": "https://localhost:8080/"
        },
        "id": "V7UNO8juxKFj",
        "outputId": "29b818b5-81fd-4541-f0de-c9cfefdbff89"
      },
      "outputs": [
        {
          "output_type": "execute_result",
          "data": {
            "text/plain": [
              "0.6522033810090647"
            ]
          },
          "metadata": {},
          "execution_count": 27
        }
      ],
      "source": [
        "labels = list(rs.classes_)\n",
        "labels.remove('O')\n",
        "y_pred = crf.predict(X_test)\n",
        "metrics.flat_f1_score(y_test, y_pred, \n",
        "                      average='weighted', labels=labels)"
      ]
    },
    {
      "cell_type": "code",
      "execution_count": 28,
      "metadata": {
        "colab": {
          "base_uri": "https://localhost:8080/"
        },
        "id": "5ezjepkixRDi",
        "outputId": "179505e7-ae18-4229-8616-5f3c46a1f62d"
      },
      "outputs": [
        {
          "output_type": "stream",
          "name": "stdout",
          "text": [
            "              precision    recall  f1-score   support\n",
            "\n",
            "      B-Food      0.771     0.660     0.711       194\n",
            "      I-Food      0.905     0.494     0.639        77\n",
            "  B-Interior      0.762     0.640     0.696        75\n",
            "  I-Interior      0.300     0.286     0.293        21\n",
            "     B-Price      0.818     0.692     0.750        13\n",
            "     I-Price      0.000     0.000     0.000         3\n",
            "   B-Service      0.736     0.561     0.637       114\n",
            "   I-Service      0.300     0.400     0.343        15\n",
            "     B-Whole      0.662     0.731     0.695        67\n",
            "     I-Whole      0.818     0.429     0.562        21\n",
            "\n",
            "   micro avg      0.723     0.595     0.653       600\n",
            "   macro avg      0.607     0.489     0.533       600\n",
            "weighted avg      0.739     0.595     0.652       600\n",
            "\n"
          ]
        },
        {
          "output_type": "stream",
          "name": "stderr",
          "text": [
            "/usr/local/lib/python3.7/dist-packages/sklearn/utils/validation.py:70: FutureWarning: Pass labels=['B-Food', 'I-Food', 'B-Interior', 'I-Interior', 'B-Price', 'I-Price', 'B-Service', 'I-Service', 'B-Whole', 'I-Whole'] as keyword args. From version 0.25 passing these as positional arguments will result in an error\n",
            "  FutureWarning)\n",
            "/usr/local/lib/python3.7/dist-packages/sklearn/metrics/_classification.py:1221: UndefinedMetricWarning: Precision and F-score are ill-defined and being set to 0.0 in labels with no predicted samples. Use `zero_division` parameter to control this behavior.\n",
            "  _warn_prf(average, modifier, msg_start, len(result))\n"
          ]
        }
      ],
      "source": [
        "# group B and I results\n",
        "sorted_labels = sorted(\n",
        "    labels, \n",
        "    key=lambda name: (name[1:], name[0])\n",
        ")\n",
        "print(metrics.flat_classification_report(\n",
        "    y_test, y_pred, labels=sorted_labels, digits=3\n",
        "))"
      ]
    },
    {
      "cell_type": "markdown",
      "source": [
        "Здесь мы будем вытаскивать всю нужную нам информацию, чтобы потом записать в файл."
      ],
      "metadata": {
        "id": "wyGuOIU2E0W3"
      }
    },
    {
      "cell_type": "code",
      "source": [
        "def get_marking(y_pred, X_test):\n",
        "  d = {'text_id': [], 'tag': [], 'text': [], 'start': [], 'end': []}\n",
        "  for num, i in enumerate(y_pred):\n",
        "    for j, tag in enumerate(i):\n",
        "      if tag!= 'O':\n",
        "        if i[j].startswith('B') and i[j+1].startswith('I'):\n",
        "          n=j+1\n",
        "          tokens = []\n",
        "          tokens.append(X_test[num][j]['word'])\n",
        "          start = X_test[num][j]['start']\n",
        "          while i[n].startswith('I'):\n",
        "            tokens.append(X_test[num][n]['word'])\n",
        "            n+=1\n",
        "          end = X_test[num][n-1]['end']\n",
        "          t_id = X_test[num][j]['text_id']\n",
        "          tag = i[j].split('-')[1]\n",
        "          d['text_id'].append(t_id)\n",
        "          d['text'].append(' '.join(tokens))\n",
        "          d['tag'].append(tag)\n",
        "          d['start'].append(start)\n",
        "          d['end'].append(end)\n",
        "        elif i[j].startswith('B') and not i[j+1].startswith('I'):\n",
        "          d['text_id'].append(X_test[num][j]['text_id'])\n",
        "          d['tag'].append(i[j].split('-')[1])\n",
        "          d['text'].append(X_test[num][j]['word'])\n",
        "          d['start'].append(X_test[num][j]['start'])\n",
        "          d['end'].append(X_test[num][j]['end'])\n",
        "\n",
        "  df = pd.DataFrame(data=d)\n",
        "  return df"
      ],
      "metadata": {
        "id": "cROavBoCifNn"
      },
      "execution_count": 29,
      "outputs": []
    },
    {
      "cell_type": "code",
      "source": [
        "get_marking(y_pred, X_test).head()"
      ],
      "metadata": {
        "colab": {
          "base_uri": "https://localhost:8080/",
          "height": 206
        },
        "id": "0g4vkcWvSNRV",
        "outputId": "81115955-4fc8-497a-c0ed-7fc4f771c470"
      },
      "execution_count": 30,
      "outputs": [
        {
          "output_type": "execute_result",
          "data": {
            "text/html": [
              "\n",
              "  <div id=\"df-6e4869d2-f812-4989-ac7a-117d4cb8762a\">\n",
              "    <div class=\"colab-df-container\">\n",
              "      <div>\n",
              "<style scoped>\n",
              "    .dataframe tbody tr th:only-of-type {\n",
              "        vertical-align: middle;\n",
              "    }\n",
              "\n",
              "    .dataframe tbody tr th {\n",
              "        vertical-align: top;\n",
              "    }\n",
              "\n",
              "    .dataframe thead th {\n",
              "        text-align: right;\n",
              "    }\n",
              "</style>\n",
              "<table border=\"1\" class=\"dataframe\">\n",
              "  <thead>\n",
              "    <tr style=\"text-align: right;\">\n",
              "      <th></th>\n",
              "      <th>text_id</th>\n",
              "      <th>tag</th>\n",
              "      <th>text</th>\n",
              "      <th>start</th>\n",
              "      <th>end</th>\n",
              "    </tr>\n",
              "  </thead>\n",
              "  <tbody>\n",
              "    <tr>\n",
              "      <th>0</th>\n",
              "      <td>797</td>\n",
              "      <td>Whole</td>\n",
              "      <td>ресторане</td>\n",
              "      <td>7</td>\n",
              "      <td>16</td>\n",
              "    </tr>\n",
              "    <tr>\n",
              "      <th>1</th>\n",
              "      <td>797</td>\n",
              "      <td>Food</td>\n",
              "      <td>выпить</td>\n",
              "      <td>89</td>\n",
              "      <td>95</td>\n",
              "    </tr>\n",
              "    <tr>\n",
              "      <th>2</th>\n",
              "      <td>797</td>\n",
              "      <td>Food</td>\n",
              "      <td>вина</td>\n",
              "      <td>102</td>\n",
              "      <td>106</td>\n",
              "    </tr>\n",
              "    <tr>\n",
              "      <th>3</th>\n",
              "      <td>797</td>\n",
              "      <td>Service</td>\n",
              "      <td>официантка</td>\n",
              "      <td>143</td>\n",
              "      <td>153</td>\n",
              "    </tr>\n",
              "    <tr>\n",
              "      <th>4</th>\n",
              "      <td>797</td>\n",
              "      <td>Whole</td>\n",
              "      <td>ресторане</td>\n",
              "      <td>287</td>\n",
              "      <td>296</td>\n",
              "    </tr>\n",
              "  </tbody>\n",
              "</table>\n",
              "</div>\n",
              "      <button class=\"colab-df-convert\" onclick=\"convertToInteractive('df-6e4869d2-f812-4989-ac7a-117d4cb8762a')\"\n",
              "              title=\"Convert this dataframe to an interactive table.\"\n",
              "              style=\"display:none;\">\n",
              "        \n",
              "  <svg xmlns=\"http://www.w3.org/2000/svg\" height=\"24px\"viewBox=\"0 0 24 24\"\n",
              "       width=\"24px\">\n",
              "    <path d=\"M0 0h24v24H0V0z\" fill=\"none\"/>\n",
              "    <path d=\"M18.56 5.44l.94 2.06.94-2.06 2.06-.94-2.06-.94-.94-2.06-.94 2.06-2.06.94zm-11 1L8.5 8.5l.94-2.06 2.06-.94-2.06-.94L8.5 2.5l-.94 2.06-2.06.94zm10 10l.94 2.06.94-2.06 2.06-.94-2.06-.94-.94-2.06-.94 2.06-2.06.94z\"/><path d=\"M17.41 7.96l-1.37-1.37c-.4-.4-.92-.59-1.43-.59-.52 0-1.04.2-1.43.59L10.3 9.45l-7.72 7.72c-.78.78-.78 2.05 0 2.83L4 21.41c.39.39.9.59 1.41.59.51 0 1.02-.2 1.41-.59l7.78-7.78 2.81-2.81c.8-.78.8-2.07 0-2.86zM5.41 20L4 18.59l7.72-7.72 1.47 1.35L5.41 20z\"/>\n",
              "  </svg>\n",
              "      </button>\n",
              "      \n",
              "  <style>\n",
              "    .colab-df-container {\n",
              "      display:flex;\n",
              "      flex-wrap:wrap;\n",
              "      gap: 12px;\n",
              "    }\n",
              "\n",
              "    .colab-df-convert {\n",
              "      background-color: #E8F0FE;\n",
              "      border: none;\n",
              "      border-radius: 50%;\n",
              "      cursor: pointer;\n",
              "      display: none;\n",
              "      fill: #1967D2;\n",
              "      height: 32px;\n",
              "      padding: 0 0 0 0;\n",
              "      width: 32px;\n",
              "    }\n",
              "\n",
              "    .colab-df-convert:hover {\n",
              "      background-color: #E2EBFA;\n",
              "      box-shadow: 0px 1px 2px rgba(60, 64, 67, 0.3), 0px 1px 3px 1px rgba(60, 64, 67, 0.15);\n",
              "      fill: #174EA6;\n",
              "    }\n",
              "\n",
              "    [theme=dark] .colab-df-convert {\n",
              "      background-color: #3B4455;\n",
              "      fill: #D2E3FC;\n",
              "    }\n",
              "\n",
              "    [theme=dark] .colab-df-convert:hover {\n",
              "      background-color: #434B5C;\n",
              "      box-shadow: 0px 1px 3px 1px rgba(0, 0, 0, 0.15);\n",
              "      filter: drop-shadow(0px 1px 2px rgba(0, 0, 0, 0.3));\n",
              "      fill: #FFFFFF;\n",
              "    }\n",
              "  </style>\n",
              "\n",
              "      <script>\n",
              "        const buttonEl =\n",
              "          document.querySelector('#df-6e4869d2-f812-4989-ac7a-117d4cb8762a button.colab-df-convert');\n",
              "        buttonEl.style.display =\n",
              "          google.colab.kernel.accessAllowed ? 'block' : 'none';\n",
              "\n",
              "        async function convertToInteractive(key) {\n",
              "          const element = document.querySelector('#df-6e4869d2-f812-4989-ac7a-117d4cb8762a');\n",
              "          const dataTable =\n",
              "            await google.colab.kernel.invokeFunction('convertToInteractive',\n",
              "                                                     [key], {});\n",
              "          if (!dataTable) return;\n",
              "\n",
              "          const docLinkHtml = 'Like what you see? Visit the ' +\n",
              "            '<a target=\"_blank\" href=https://colab.research.google.com/notebooks/data_table.ipynb>data table notebook</a>'\n",
              "            + ' to learn more about interactive tables.';\n",
              "          element.innerHTML = '';\n",
              "          dataTable['output_type'] = 'display_data';\n",
              "          await google.colab.output.renderOutput(dataTable, element);\n",
              "          const docLink = document.createElement('div');\n",
              "          docLink.innerHTML = docLinkHtml;\n",
              "          element.appendChild(docLink);\n",
              "        }\n",
              "      </script>\n",
              "    </div>\n",
              "  </div>\n",
              "  "
            ],
            "text/plain": [
              "  text_id      tag        text  start  end\n",
              "0     797    Whole   ресторане      7   16\n",
              "1     797     Food      выпить     89   95\n",
              "2     797     Food        вина    102  106\n",
              "3     797  Service  официантка    143  153\n",
              "4     797    Whole   ресторане    287  296"
            ]
          },
          "metadata": {},
          "execution_count": 30
        }
      ]
    },
    {
      "cell_type": "markdown",
      "source": [
        "Дальше скачиваем новые данные, на которых будем проверять модель."
      ],
      "metadata": {
        "id": "DJg8LdjWKM15"
      }
    },
    {
      "cell_type": "code",
      "source": [
        "!wget https://github.com/named-entity/hse-nlp/raw/master/4th_year/Project/dev_reviews.txt"
      ],
      "metadata": {
        "id": "xxgjJt0W5PJC"
      },
      "execution_count": null,
      "outputs": []
    },
    {
      "cell_type": "code",
      "source": [
        "dev_texts = pd.read_csv('dev_reviews.txt', delimiter='\\t', names=['text_id', 'text'])\n",
        "dev_texts.head()"
      ],
      "metadata": {
        "colab": {
          "base_uri": "https://localhost:8080/",
          "height": 204
        },
        "id": "8ZdDjvPD5jVJ",
        "outputId": "2e0f5c1e-e734-497b-b713-ea05aa05ade5"
      },
      "execution_count": null,
      "outputs": [
        {
          "output_type": "execute_result",
          "data": {
            "text/html": [
              "\n",
              "  <div id=\"df-718463b7-2847-476b-91ed-f5936a3fa250\">\n",
              "    <div class=\"colab-df-container\">\n",
              "      <div>\n",
              "<style scoped>\n",
              "    .dataframe tbody tr th:only-of-type {\n",
              "        vertical-align: middle;\n",
              "    }\n",
              "\n",
              "    .dataframe tbody tr th {\n",
              "        vertical-align: top;\n",
              "    }\n",
              "\n",
              "    .dataframe thead th {\n",
              "        text-align: right;\n",
              "    }\n",
              "</style>\n",
              "<table border=\"1\" class=\"dataframe\">\n",
              "  <thead>\n",
              "    <tr style=\"text-align: right;\">\n",
              "      <th></th>\n",
              "      <th>text_id</th>\n",
              "      <th>text</th>\n",
              "    </tr>\n",
              "  </thead>\n",
              "  <tbody>\n",
              "    <tr>\n",
              "      <th>0</th>\n",
              "      <td>13823</td>\n",
              "      <td>Зашли в\"аппетит\" случайно.Не смотря на то,что ...</td>\n",
              "    </tr>\n",
              "    <tr>\n",
              "      <th>1</th>\n",
              "      <td>1427</td>\n",
              "      <td>Здравствуйте!Посетили ваше заведение вчера пер...</td>\n",
              "    </tr>\n",
              "    <tr>\n",
              "      <th>2</th>\n",
              "      <td>16714</td>\n",
              "      <td>Были в пятницу (19.03.10), заказывали столик д...</td>\n",
              "    </tr>\n",
              "    <tr>\n",
              "      <th>3</th>\n",
              "      <td>797</td>\n",
              "      <td>Были в ресторане 2 раза. Один раз днем, все по...</td>\n",
              "    </tr>\n",
              "    <tr>\n",
              "      <th>4</th>\n",
              "      <td>34710</td>\n",
              "      <td>Удивляюсь отзывам про хорошее обслуживание. Бы...</td>\n",
              "    </tr>\n",
              "  </tbody>\n",
              "</table>\n",
              "</div>\n",
              "      <button class=\"colab-df-convert\" onclick=\"convertToInteractive('df-718463b7-2847-476b-91ed-f5936a3fa250')\"\n",
              "              title=\"Convert this dataframe to an interactive table.\"\n",
              "              style=\"display:none;\">\n",
              "        \n",
              "  <svg xmlns=\"http://www.w3.org/2000/svg\" height=\"24px\"viewBox=\"0 0 24 24\"\n",
              "       width=\"24px\">\n",
              "    <path d=\"M0 0h24v24H0V0z\" fill=\"none\"/>\n",
              "    <path d=\"M18.56 5.44l.94 2.06.94-2.06 2.06-.94-2.06-.94-.94-2.06-.94 2.06-2.06.94zm-11 1L8.5 8.5l.94-2.06 2.06-.94-2.06-.94L8.5 2.5l-.94 2.06-2.06.94zm10 10l.94 2.06.94-2.06 2.06-.94-2.06-.94-.94-2.06-.94 2.06-2.06.94z\"/><path d=\"M17.41 7.96l-1.37-1.37c-.4-.4-.92-.59-1.43-.59-.52 0-1.04.2-1.43.59L10.3 9.45l-7.72 7.72c-.78.78-.78 2.05 0 2.83L4 21.41c.39.39.9.59 1.41.59.51 0 1.02-.2 1.41-.59l7.78-7.78 2.81-2.81c.8-.78.8-2.07 0-2.86zM5.41 20L4 18.59l7.72-7.72 1.47 1.35L5.41 20z\"/>\n",
              "  </svg>\n",
              "      </button>\n",
              "      \n",
              "  <style>\n",
              "    .colab-df-container {\n",
              "      display:flex;\n",
              "      flex-wrap:wrap;\n",
              "      gap: 12px;\n",
              "    }\n",
              "\n",
              "    .colab-df-convert {\n",
              "      background-color: #E8F0FE;\n",
              "      border: none;\n",
              "      border-radius: 50%;\n",
              "      cursor: pointer;\n",
              "      display: none;\n",
              "      fill: #1967D2;\n",
              "      height: 32px;\n",
              "      padding: 0 0 0 0;\n",
              "      width: 32px;\n",
              "    }\n",
              "\n",
              "    .colab-df-convert:hover {\n",
              "      background-color: #E2EBFA;\n",
              "      box-shadow: 0px 1px 2px rgba(60, 64, 67, 0.3), 0px 1px 3px 1px rgba(60, 64, 67, 0.15);\n",
              "      fill: #174EA6;\n",
              "    }\n",
              "\n",
              "    [theme=dark] .colab-df-convert {\n",
              "      background-color: #3B4455;\n",
              "      fill: #D2E3FC;\n",
              "    }\n",
              "\n",
              "    [theme=dark] .colab-df-convert:hover {\n",
              "      background-color: #434B5C;\n",
              "      box-shadow: 0px 1px 3px 1px rgba(0, 0, 0, 0.15);\n",
              "      filter: drop-shadow(0px 1px 2px rgba(0, 0, 0, 0.3));\n",
              "      fill: #FFFFFF;\n",
              "    }\n",
              "  </style>\n",
              "\n",
              "      <script>\n",
              "        const buttonEl =\n",
              "          document.querySelector('#df-718463b7-2847-476b-91ed-f5936a3fa250 button.colab-df-convert');\n",
              "        buttonEl.style.display =\n",
              "          google.colab.kernel.accessAllowed ? 'block' : 'none';\n",
              "\n",
              "        async function convertToInteractive(key) {\n",
              "          const element = document.querySelector('#df-718463b7-2847-476b-91ed-f5936a3fa250');\n",
              "          const dataTable =\n",
              "            await google.colab.kernel.invokeFunction('convertToInteractive',\n",
              "                                                     [key], {});\n",
              "          if (!dataTable) return;\n",
              "\n",
              "          const docLinkHtml = 'Like what you see? Visit the ' +\n",
              "            '<a target=\"_blank\" href=https://colab.research.google.com/notebooks/data_table.ipynb>data table notebook</a>'\n",
              "            + ' to learn more about interactive tables.';\n",
              "          element.innerHTML = '';\n",
              "          dataTable['output_type'] = 'display_data';\n",
              "          await google.colab.output.renderOutput(dataTable, element);\n",
              "          const docLink = document.createElement('div');\n",
              "          docLink.innerHTML = docLinkHtml;\n",
              "          element.appendChild(docLink);\n",
              "        }\n",
              "      </script>\n",
              "    </div>\n",
              "  </div>\n",
              "  "
            ],
            "text/plain": [
              "   text_id                                               text\n",
              "0    13823  Зашли в\"аппетит\" случайно.Не смотря на то,что ...\n",
              "1     1427  Здравствуйте!Посетили ваше заведение вчера пер...\n",
              "2    16714  Были в пятницу (19.03.10), заказывали столик д...\n",
              "3      797  Были в ресторане 2 раза. Один раз днем, все по...\n",
              "4    34710  Удивляюсь отзывам про хорошее обслуживание. Бы..."
            ]
          },
          "metadata": {},
          "execution_count": 40
        }
      ]
    },
    {
      "cell_type": "code",
      "source": [
        "dev_reviews = {}\n",
        "with open('dev_reviews.txt') as f:\n",
        "  for line in f:\n",
        "    line = line.rstrip('\\r\\n').split('\\t')\n",
        "    dev_reviews[line[0]] = line[1]"
      ],
      "metadata": {
        "id": "_BY4HyEc9iZP"
      },
      "execution_count": null,
      "outputs": []
    },
    {
      "cell_type": "markdown",
      "source": [
        "Чтобы подавать сырые тексты в модель, нужно привести их в словари вида:\n",
        "\n",
        "`{'text':token.text, 'pos': postag, 'text_id': text_id}`\n",
        "\n",
        "\n",
        "\n"
      ],
      "metadata": {
        "id": "EMrAINNK8vfv"
      }
    },
    {
      "cell_type": "code",
      "source": [
        "def get_data(dev_reviews):\n",
        "  all_texts = []\n",
        "  for text_id, text in tqdm(dev_reviews.items()):\n",
        "    tokens = []\n",
        "    processed = nlp(text)\n",
        "    for token in processed.iter_tokens():\n",
        "      parse = morph.parse(token.text)[0]\n",
        "      postag = parse.tag.POS\n",
        "      if postag is None:\n",
        "        postag = 'PUNKT'\n",
        "      postags.append(postag)\n",
        "      tokens.append({'text':token.text, 'pos':postag, 'text_id':text_id,\n",
        "                     'start':token.start_char, 'end':token.end_char})\n",
        "    all_texts.append(tokens)\n",
        "  return all_texts"
      ],
      "metadata": {
        "id": "T3ROZtx19N3k"
      },
      "execution_count": null,
      "outputs": []
    },
    {
      "cell_type": "code",
      "source": [
        "all_texts = get_data(dev_reviews)"
      ],
      "metadata": {
        "colab": {
          "base_uri": "https://localhost:8080/"
        },
        "id": "qmP200zwKi9F",
        "outputId": "2cfd234b-03e5-4da8-ccae-f6e63688057c"
      },
      "execution_count": null,
      "outputs": [
        {
          "output_type": "stream",
          "name": "stderr",
          "text": [
            "100%|██████████| 71/71 [00:15<00:00,  4.70it/s]\n"
          ]
        }
      ]
    },
    {
      "cell_type": "code",
      "source": [
        "test_data = [sent2features(s) for s in all_texts]"
      ],
      "metadata": {
        "id": "NWxBLS0i-BlL"
      },
      "execution_count": null,
      "outputs": []
    },
    {
      "cell_type": "code",
      "source": [
        "dev_pred = rs.predict(test_data)"
      ],
      "metadata": {
        "id": "fr8tObz9E_H3"
      },
      "execution_count": null,
      "outputs": []
    },
    {
      "cell_type": "markdown",
      "source": [
        "Сортировка полученных данных для того, чтобы потом можно было сравнить с эталонными (эталонные следует так же сортировать)."
      ],
      "metadata": {
        "id": "evE1SeuWDOl7"
      }
    },
    {
      "cell_type": "code",
      "source": [
        "dev_res = get_marking(dev_pred, test_data)\n",
        "dev_res['text_id'] = pd.to_numeric(dev_res['text_id'])\n",
        "dev_res = dev_res.sort_values(by=['text_id'])"
      ],
      "metadata": {
        "id": "zFk1_LKnCw24"
      },
      "execution_count": null,
      "outputs": []
    },
    {
      "cell_type": "code",
      "source": [
        "dev_res"
      ],
      "metadata": {
        "id": "jiw5Up5JFJpG",
        "colab": {
          "base_uri": "https://localhost:8080/",
          "height": 419
        },
        "outputId": "405d525c-315d-4e8a-8fad-84fc58cb4969"
      },
      "execution_count": null,
      "outputs": [
        {
          "output_type": "execute_result",
          "data": {
            "text/html": [
              "\n",
              "  <div id=\"df-21273a49-652d-4d51-8e23-7f5d4435b177\">\n",
              "    <div class=\"colab-df-container\">\n",
              "      <div>\n",
              "<style scoped>\n",
              "    .dataframe tbody tr th:only-of-type {\n",
              "        vertical-align: middle;\n",
              "    }\n",
              "\n",
              "    .dataframe tbody tr th {\n",
              "        vertical-align: top;\n",
              "    }\n",
              "\n",
              "    .dataframe thead th {\n",
              "        text-align: right;\n",
              "    }\n",
              "</style>\n",
              "<table border=\"1\" class=\"dataframe\">\n",
              "  <thead>\n",
              "    <tr style=\"text-align: right;\">\n",
              "      <th></th>\n",
              "      <th>text_id</th>\n",
              "      <th>tag</th>\n",
              "      <th>text</th>\n",
              "      <th>start</th>\n",
              "      <th>end</th>\n",
              "    </tr>\n",
              "  </thead>\n",
              "  <tbody>\n",
              "    <tr>\n",
              "      <th>117</th>\n",
              "      <td>785</td>\n",
              "      <td>Food</td>\n",
              "      <td>меню</td>\n",
              "      <td>153</td>\n",
              "      <td>157</td>\n",
              "    </tr>\n",
              "    <tr>\n",
              "      <th>118</th>\n",
              "      <td>785</td>\n",
              "      <td>Food</td>\n",
              "      <td>Меню</td>\n",
              "      <td>176</td>\n",
              "      <td>180</td>\n",
              "    </tr>\n",
              "    <tr>\n",
              "      <th>120</th>\n",
              "      <td>785</td>\n",
              "      <td>Food</td>\n",
              "      <td>торта</td>\n",
              "      <td>358</td>\n",
              "      <td>363</td>\n",
              "    </tr>\n",
              "    <tr>\n",
              "      <th>121</th>\n",
              "      <td>785</td>\n",
              "      <td>Service</td>\n",
              "      <td>помогла</td>\n",
              "      <td>392</td>\n",
              "      <td>399</td>\n",
              "    </tr>\n",
              "    <tr>\n",
              "      <th>122</th>\n",
              "      <td>785</td>\n",
              "      <td>Service</td>\n",
              "      <td>администратор</td>\n",
              "      <td>416</td>\n",
              "      <td>429</td>\n",
              "    </tr>\n",
              "    <tr>\n",
              "      <th>...</th>\n",
              "      <td>...</td>\n",
              "      <td>...</td>\n",
              "      <td>...</td>\n",
              "      <td>...</td>\n",
              "      <td>...</td>\n",
              "    </tr>\n",
              "    <tr>\n",
              "      <th>1113</th>\n",
              "      <td>38299</td>\n",
              "      <td>Food</td>\n",
              "      <td>заправкой</td>\n",
              "      <td>919</td>\n",
              "      <td>928</td>\n",
              "    </tr>\n",
              "    <tr>\n",
              "      <th>1114</th>\n",
              "      <td>38299</td>\n",
              "      <td>Food</td>\n",
              "      <td>дорада на тушеных овощах</td>\n",
              "      <td>930</td>\n",
              "      <td>954</td>\n",
              "    </tr>\n",
              "    <tr>\n",
              "      <th>1115</th>\n",
              "      <td>38299</td>\n",
              "      <td>Food</td>\n",
              "      <td>кусок мяса</td>\n",
              "      <td>981</td>\n",
              "      <td>991</td>\n",
              "    </tr>\n",
              "    <tr>\n",
              "      <th>1117</th>\n",
              "      <td>38299</td>\n",
              "      <td>Food</td>\n",
              "      <td>сыт</td>\n",
              "      <td>1046</td>\n",
              "      <td>1049</td>\n",
              "    </tr>\n",
              "    <tr>\n",
              "      <th>1094</th>\n",
              "      <td>38299</td>\n",
              "      <td>Service</td>\n",
              "      <td>обслуживание</td>\n",
              "      <td>236</td>\n",
              "      <td>248</td>\n",
              "    </tr>\n",
              "  </tbody>\n",
              "</table>\n",
              "<p>1155 rows × 5 columns</p>\n",
              "</div>\n",
              "      <button class=\"colab-df-convert\" onclick=\"convertToInteractive('df-21273a49-652d-4d51-8e23-7f5d4435b177')\"\n",
              "              title=\"Convert this dataframe to an interactive table.\"\n",
              "              style=\"display:none;\">\n",
              "        \n",
              "  <svg xmlns=\"http://www.w3.org/2000/svg\" height=\"24px\"viewBox=\"0 0 24 24\"\n",
              "       width=\"24px\">\n",
              "    <path d=\"M0 0h24v24H0V0z\" fill=\"none\"/>\n",
              "    <path d=\"M18.56 5.44l.94 2.06.94-2.06 2.06-.94-2.06-.94-.94-2.06-.94 2.06-2.06.94zm-11 1L8.5 8.5l.94-2.06 2.06-.94-2.06-.94L8.5 2.5l-.94 2.06-2.06.94zm10 10l.94 2.06.94-2.06 2.06-.94-2.06-.94-.94-2.06-.94 2.06-2.06.94z\"/><path d=\"M17.41 7.96l-1.37-1.37c-.4-.4-.92-.59-1.43-.59-.52 0-1.04.2-1.43.59L10.3 9.45l-7.72 7.72c-.78.78-.78 2.05 0 2.83L4 21.41c.39.39.9.59 1.41.59.51 0 1.02-.2 1.41-.59l7.78-7.78 2.81-2.81c.8-.78.8-2.07 0-2.86zM5.41 20L4 18.59l7.72-7.72 1.47 1.35L5.41 20z\"/>\n",
              "  </svg>\n",
              "      </button>\n",
              "      \n",
              "  <style>\n",
              "    .colab-df-container {\n",
              "      display:flex;\n",
              "      flex-wrap:wrap;\n",
              "      gap: 12px;\n",
              "    }\n",
              "\n",
              "    .colab-df-convert {\n",
              "      background-color: #E8F0FE;\n",
              "      border: none;\n",
              "      border-radius: 50%;\n",
              "      cursor: pointer;\n",
              "      display: none;\n",
              "      fill: #1967D2;\n",
              "      height: 32px;\n",
              "      padding: 0 0 0 0;\n",
              "      width: 32px;\n",
              "    }\n",
              "\n",
              "    .colab-df-convert:hover {\n",
              "      background-color: #E2EBFA;\n",
              "      box-shadow: 0px 1px 2px rgba(60, 64, 67, 0.3), 0px 1px 3px 1px rgba(60, 64, 67, 0.15);\n",
              "      fill: #174EA6;\n",
              "    }\n",
              "\n",
              "    [theme=dark] .colab-df-convert {\n",
              "      background-color: #3B4455;\n",
              "      fill: #D2E3FC;\n",
              "    }\n",
              "\n",
              "    [theme=dark] .colab-df-convert:hover {\n",
              "      background-color: #434B5C;\n",
              "      box-shadow: 0px 1px 3px 1px rgba(0, 0, 0, 0.15);\n",
              "      filter: drop-shadow(0px 1px 2px rgba(0, 0, 0, 0.3));\n",
              "      fill: #FFFFFF;\n",
              "    }\n",
              "  </style>\n",
              "\n",
              "      <script>\n",
              "        const buttonEl =\n",
              "          document.querySelector('#df-21273a49-652d-4d51-8e23-7f5d4435b177 button.colab-df-convert');\n",
              "        buttonEl.style.display =\n",
              "          google.colab.kernel.accessAllowed ? 'block' : 'none';\n",
              "\n",
              "        async function convertToInteractive(key) {\n",
              "          const element = document.querySelector('#df-21273a49-652d-4d51-8e23-7f5d4435b177');\n",
              "          const dataTable =\n",
              "            await google.colab.kernel.invokeFunction('convertToInteractive',\n",
              "                                                     [key], {});\n",
              "          if (!dataTable) return;\n",
              "\n",
              "          const docLinkHtml = 'Like what you see? Visit the ' +\n",
              "            '<a target=\"_blank\" href=https://colab.research.google.com/notebooks/data_table.ipynb>data table notebook</a>'\n",
              "            + ' to learn more about interactive tables.';\n",
              "          element.innerHTML = '';\n",
              "          dataTable['output_type'] = 'display_data';\n",
              "          await google.colab.output.renderOutput(dataTable, element);\n",
              "          const docLink = document.createElement('div');\n",
              "          docLink.innerHTML = docLinkHtml;\n",
              "          element.appendChild(docLink);\n",
              "        }\n",
              "      </script>\n",
              "    </div>\n",
              "  </div>\n",
              "  "
            ],
            "text/plain": [
              "      text_id      tag                      text  start   end\n",
              "117       785     Food                      меню    153   157\n",
              "118       785     Food                      Меню    176   180\n",
              "120       785     Food                     торта    358   363\n",
              "121       785  Service                   помогла    392   399\n",
              "122       785  Service             администратор    416   429\n",
              "...       ...      ...                       ...    ...   ...\n",
              "1113    38299     Food                 заправкой    919   928\n",
              "1114    38299     Food  дорада на тушеных овощах    930   954\n",
              "1115    38299     Food                кусок мяса    981   991\n",
              "1117    38299     Food                       сыт   1046  1049\n",
              "1094    38299  Service              обслуживание    236   248\n",
              "\n",
              "[1155 rows x 5 columns]"
            ]
          },
          "metadata": {},
          "execution_count": 47
        }
      ]
    },
    {
      "cell_type": "markdown",
      "source": [
        "Записали в файл и переходим к заданию оценки тональности."
      ],
      "metadata": {
        "id": "CCacm4umEcLq"
      }
    },
    {
      "cell_type": "code",
      "source": [
        "with open('dev_pred_aspects.txt', 'w') as f:\n",
        "  for text_id, tag, text, start, end in zip(dev_res['text_id'], dev_res['tag'], dev_res['text'], dev_res['start'], dev_res['end']):\n",
        "      print(text_id, tag, text, start, end, sep=\"\\t\", file=f)"
      ],
      "metadata": {
        "id": "1__n1C0-JwyR"
      },
      "execution_count": null,
      "outputs": []
    }
  ],
  "metadata": {
    "colab": {
      "name": "aspect_extraction.ipynb",
      "provenance": [],
      "collapsed_sections": []
    },
    "kernelspec": {
      "display_name": "Python 3",
      "name": "python3"
    },
    "language_info": {
      "name": "python"
    },
    "accelerator": "GPU"
  },
  "nbformat": 4,
  "nbformat_minor": 0
}