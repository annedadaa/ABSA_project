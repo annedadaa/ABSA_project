{
  "nbformat": 4,
  "nbformat_minor": 0,
  "metadata": {
    "colab": {
      "name": "4_layers_back_forward_network.ipynb",
      "provenance": [],
      "collapsed_sections": []
    },
    "kernelspec": {
      "name": "python3",
      "display_name": "Python 3"
    },
    "language_info": {
      "name": "python"
    },
    "accelerator": "GPU",
    "widgets": {
      "application/vnd.jupyter.widget-state+json": {
        "f017defdcef14ec2af3ab49305b456c0": {
          "model_module": "@jupyter-widgets/controls",
          "model_name": "HBoxModel",
          "model_module_version": "1.5.0",
          "state": {
            "_view_name": "HBoxView",
            "_dom_classes": [],
            "_model_name": "HBoxModel",
            "_view_module": "@jupyter-widgets/controls",
            "_model_module_version": "1.5.0",
            "_view_count": null,
            "_view_module_version": "1.5.0",
            "box_style": "",
            "layout": "IPY_MODEL_20560650a48d4c50ae104d674d698e15",
            "_model_module": "@jupyter-widgets/controls",
            "children": [
              "IPY_MODEL_d91a95795c6e4341a47f7fffefe37cb5",
              "IPY_MODEL_a3359a3585bb45f4b2d213c2a97dcae6",
              "IPY_MODEL_207c6137ed05437ba8a7b4182568d489"
            ]
          }
        },
        "20560650a48d4c50ae104d674d698e15": {
          "model_module": "@jupyter-widgets/base",
          "model_name": "LayoutModel",
          "model_module_version": "1.2.0",
          "state": {
            "_view_name": "LayoutView",
            "grid_template_rows": null,
            "right": null,
            "justify_content": null,
            "_view_module": "@jupyter-widgets/base",
            "overflow": null,
            "_model_module_version": "1.2.0",
            "_view_count": null,
            "flex_flow": null,
            "width": null,
            "min_width": null,
            "border": null,
            "align_items": null,
            "bottom": null,
            "_model_module": "@jupyter-widgets/base",
            "top": null,
            "grid_column": null,
            "overflow_y": null,
            "overflow_x": null,
            "grid_auto_flow": null,
            "grid_area": null,
            "grid_template_columns": null,
            "flex": null,
            "_model_name": "LayoutModel",
            "justify_items": null,
            "grid_row": null,
            "max_height": null,
            "align_content": null,
            "visibility": null,
            "align_self": null,
            "height": null,
            "min_height": null,
            "padding": null,
            "grid_auto_rows": null,
            "grid_gap": null,
            "max_width": null,
            "order": null,
            "_view_module_version": "1.2.0",
            "grid_template_areas": null,
            "object_position": null,
            "object_fit": null,
            "grid_auto_columns": null,
            "margin": null,
            "display": null,
            "left": null
          }
        },
        "d91a95795c6e4341a47f7fffefe37cb5": {
          "model_module": "@jupyter-widgets/controls",
          "model_name": "HTMLModel",
          "model_module_version": "1.5.0",
          "state": {
            "_view_name": "HTMLView",
            "style": "IPY_MODEL_624a8a8e957b4383b47f0ff69cdb826b",
            "_dom_classes": [],
            "description": "",
            "_model_name": "HTMLModel",
            "placeholder": "​",
            "_view_module": "@jupyter-widgets/controls",
            "_model_module_version": "1.5.0",
            "value": "100%",
            "_view_count": null,
            "_view_module_version": "1.5.0",
            "description_tooltip": null,
            "_model_module": "@jupyter-widgets/controls",
            "layout": "IPY_MODEL_740dbdb8815543d4b68e66dbdc7d3652"
          }
        },
        "a3359a3585bb45f4b2d213c2a97dcae6": {
          "model_module": "@jupyter-widgets/controls",
          "model_name": "FloatProgressModel",
          "model_module_version": "1.5.0",
          "state": {
            "_view_name": "ProgressView",
            "style": "IPY_MODEL_85065dc780de4614973253d0a9888c97",
            "_dom_classes": [],
            "description": "",
            "_model_name": "FloatProgressModel",
            "bar_style": "success",
            "max": 64,
            "_view_module": "@jupyter-widgets/controls",
            "_model_module_version": "1.5.0",
            "value": 64,
            "_view_count": null,
            "_view_module_version": "1.5.0",
            "orientation": "horizontal",
            "min": 0,
            "description_tooltip": null,
            "_model_module": "@jupyter-widgets/controls",
            "layout": "IPY_MODEL_13928ac5a1004754a944271a57db5aa6"
          }
        },
        "207c6137ed05437ba8a7b4182568d489": {
          "model_module": "@jupyter-widgets/controls",
          "model_name": "HTMLModel",
          "model_module_version": "1.5.0",
          "state": {
            "_view_name": "HTMLView",
            "style": "IPY_MODEL_177cca2f5940403b898de1ee160f7aba",
            "_dom_classes": [],
            "description": "",
            "_model_name": "HTMLModel",
            "placeholder": "​",
            "_view_module": "@jupyter-widgets/controls",
            "_model_module_version": "1.5.0",
            "value": " 64/64 [00:17&lt;00:00,  3.67it/s]",
            "_view_count": null,
            "_view_module_version": "1.5.0",
            "description_tooltip": null,
            "_model_module": "@jupyter-widgets/controls",
            "layout": "IPY_MODEL_cdc824c345e54dbc9f68ca28d1e370b3"
          }
        },
        "624a8a8e957b4383b47f0ff69cdb826b": {
          "model_module": "@jupyter-widgets/controls",
          "model_name": "DescriptionStyleModel",
          "model_module_version": "1.5.0",
          "state": {
            "_view_name": "StyleView",
            "_model_name": "DescriptionStyleModel",
            "description_width": "",
            "_view_module": "@jupyter-widgets/base",
            "_model_module_version": "1.5.0",
            "_view_count": null,
            "_view_module_version": "1.2.0",
            "_model_module": "@jupyter-widgets/controls"
          }
        },
        "740dbdb8815543d4b68e66dbdc7d3652": {
          "model_module": "@jupyter-widgets/base",
          "model_name": "LayoutModel",
          "model_module_version": "1.2.0",
          "state": {
            "_view_name": "LayoutView",
            "grid_template_rows": null,
            "right": null,
            "justify_content": null,
            "_view_module": "@jupyter-widgets/base",
            "overflow": null,
            "_model_module_version": "1.2.0",
            "_view_count": null,
            "flex_flow": null,
            "width": null,
            "min_width": null,
            "border": null,
            "align_items": null,
            "bottom": null,
            "_model_module": "@jupyter-widgets/base",
            "top": null,
            "grid_column": null,
            "overflow_y": null,
            "overflow_x": null,
            "grid_auto_flow": null,
            "grid_area": null,
            "grid_template_columns": null,
            "flex": null,
            "_model_name": "LayoutModel",
            "justify_items": null,
            "grid_row": null,
            "max_height": null,
            "align_content": null,
            "visibility": null,
            "align_self": null,
            "height": null,
            "min_height": null,
            "padding": null,
            "grid_auto_rows": null,
            "grid_gap": null,
            "max_width": null,
            "order": null,
            "_view_module_version": "1.2.0",
            "grid_template_areas": null,
            "object_position": null,
            "object_fit": null,
            "grid_auto_columns": null,
            "margin": null,
            "display": null,
            "left": null
          }
        },
        "85065dc780de4614973253d0a9888c97": {
          "model_module": "@jupyter-widgets/controls",
          "model_name": "ProgressStyleModel",
          "model_module_version": "1.5.0",
          "state": {
            "_view_name": "StyleView",
            "_model_name": "ProgressStyleModel",
            "description_width": "",
            "_view_module": "@jupyter-widgets/base",
            "_model_module_version": "1.5.0",
            "_view_count": null,
            "_view_module_version": "1.2.0",
            "bar_color": null,
            "_model_module": "@jupyter-widgets/controls"
          }
        },
        "13928ac5a1004754a944271a57db5aa6": {
          "model_module": "@jupyter-widgets/base",
          "model_name": "LayoutModel",
          "model_module_version": "1.2.0",
          "state": {
            "_view_name": "LayoutView",
            "grid_template_rows": null,
            "right": null,
            "justify_content": null,
            "_view_module": "@jupyter-widgets/base",
            "overflow": null,
            "_model_module_version": "1.2.0",
            "_view_count": null,
            "flex_flow": null,
            "width": null,
            "min_width": null,
            "border": null,
            "align_items": null,
            "bottom": null,
            "_model_module": "@jupyter-widgets/base",
            "top": null,
            "grid_column": null,
            "overflow_y": null,
            "overflow_x": null,
            "grid_auto_flow": null,
            "grid_area": null,
            "grid_template_columns": null,
            "flex": null,
            "_model_name": "LayoutModel",
            "justify_items": null,
            "grid_row": null,
            "max_height": null,
            "align_content": null,
            "visibility": null,
            "align_self": null,
            "height": null,
            "min_height": null,
            "padding": null,
            "grid_auto_rows": null,
            "grid_gap": null,
            "max_width": null,
            "order": null,
            "_view_module_version": "1.2.0",
            "grid_template_areas": null,
            "object_position": null,
            "object_fit": null,
            "grid_auto_columns": null,
            "margin": null,
            "display": null,
            "left": null
          }
        },
        "177cca2f5940403b898de1ee160f7aba": {
          "model_module": "@jupyter-widgets/controls",
          "model_name": "DescriptionStyleModel",
          "model_module_version": "1.5.0",
          "state": {
            "_view_name": "StyleView",
            "_model_name": "DescriptionStyleModel",
            "description_width": "",
            "_view_module": "@jupyter-widgets/base",
            "_model_module_version": "1.5.0",
            "_view_count": null,
            "_view_module_version": "1.2.0",
            "_model_module": "@jupyter-widgets/controls"
          }
        },
        "cdc824c345e54dbc9f68ca28d1e370b3": {
          "model_module": "@jupyter-widgets/base",
          "model_name": "LayoutModel",
          "model_module_version": "1.2.0",
          "state": {
            "_view_name": "LayoutView",
            "grid_template_rows": null,
            "right": null,
            "justify_content": null,
            "_view_module": "@jupyter-widgets/base",
            "overflow": null,
            "_model_module_version": "1.2.0",
            "_view_count": null,
            "flex_flow": null,
            "width": null,
            "min_width": null,
            "border": null,
            "align_items": null,
            "bottom": null,
            "_model_module": "@jupyter-widgets/base",
            "top": null,
            "grid_column": null,
            "overflow_y": null,
            "overflow_x": null,
            "grid_auto_flow": null,
            "grid_area": null,
            "grid_template_columns": null,
            "flex": null,
            "_model_name": "LayoutModel",
            "justify_items": null,
            "grid_row": null,
            "max_height": null,
            "align_content": null,
            "visibility": null,
            "align_self": null,
            "height": null,
            "min_height": null,
            "padding": null,
            "grid_auto_rows": null,
            "grid_gap": null,
            "max_width": null,
            "order": null,
            "_view_module_version": "1.2.0",
            "grid_template_areas": null,
            "object_position": null,
            "object_fit": null,
            "grid_auto_columns": null,
            "margin": null,
            "display": null,
            "left": null
          }
        }
      }
    }
  },
  "cells": [
    {
      "cell_type": "code",
      "source": [
        "import numpy as np\n",
        "import pandas as pd\n",
        "import seaborn as sns\n",
        "from tqdm.notebook import tqdm\n",
        "import matplotlib.pyplot as plt\n",
        "import torch\n",
        "import torch.nn as nn\n",
        "import torch.optim as optim\n",
        "from torch.utils.data import Dataset, DataLoader, WeightedRandomSampler\n",
        "\n",
        "from sklearn.preprocessing import MinMaxScaler    \n",
        "from sklearn.model_selection import train_test_split\n",
        "from sklearn.metrics import confusion_matrix, classification_report"
      ],
      "metadata": {
        "id": "cDiSL4AtVXou"
      },
      "execution_count": 1,
      "outputs": []
    },
    {
      "cell_type": "markdown",
      "source": [
        "Приведем в нужный вид файлы с разметкой train'а и dev'а"
      ],
      "metadata": {
        "id": "yqc4S6HSpq-c"
      }
    },
    {
      "cell_type": "code",
      "source": [
        "def count_sentiments(df_asp, df_sent):\n",
        "    text_ids = df_asp['text_id'].unique()\n",
        "    frames = []\n",
        "    for j in text_ids:\n",
        "        neutral = {'Whole':0, 'Service':0, 'Food':0, 'Interior':0, 'Price':0}\n",
        "        frequency = {'Whole':0, 'Service':0, 'Food':0, 'Interior':0, 'Price':0}\n",
        "        both = {'Whole':0, 'Service':0, 'Food':0, 'Interior':0, 'Price':0}\n",
        "        positive = {'Whole':0, 'Service':0, 'Food':0, 'Interior':0, 'Price':0}\n",
        "        negative = {'Whole':0, 'Service':0, 'Food':0, 'Interior':0, 'Price':0}\n",
        "        asp_slice = df_asp.loc[df_asp['text_id']==j]\n",
        "        asp_slice = asp_slice.reset_index()\n",
        "        for i in range(len(asp_slice)):\n",
        "            if asp_slice['sentiment'][i] == 'neutral':\n",
        "                neutral[asp_slice['category'][i]] +=1\n",
        "            if asp_slice['sentiment'][i] == 'positive':\n",
        "                positive[asp_slice['category'][i]] +=1\n",
        "            if asp_slice['sentiment'][i] == 'negative':\n",
        "                negative[asp_slice['category'][i]] +=1\n",
        "            if asp_slice['sentiment'][i] == 'both':\n",
        "                both[asp_slice['category'][i]] +=1\n",
        "        sent_slice = df_sent.loc[df_sent['text_id']==j]\n",
        "        sent_slice = sent_slice.reset_index()\n",
        "        sent_slice['positive'] = 0\n",
        "        sent_slice['negative'] = 0\n",
        "        sent_slice['both'] = 0\n",
        "        sent_slice['neutral'] = 0\n",
        "        for i in range(5):\n",
        "            sent_slice.at[i,'positive'] = positive[sent_slice['category'][i]]\n",
        "            sent_slice.at[i, 'negative'] = negative[sent_slice['category'][i]]\n",
        "            sent_slice.at[i, 'both'] = both[sent_slice['category'][i]]\n",
        "            sent_slice.at[i, 'neutral'] = neutral[sent_slice['category'][i]]\n",
        "        frames.append(sent_slice)\n",
        "    return pd.concat(frames)"
      ],
      "metadata": {
        "id": "6cxjqRHHp8ET"
      },
      "execution_count": 255,
      "outputs": []
    },
    {
      "cell_type": "code",
      "source": [
        "dev_cats = pd.read_csv('dev_cats.txt', delimiter='\\t', names=['text_id', 'category', 'sentiment'])\n",
        "d_asp = pd.read_csv('dev_aspects.txt',  delimiter='\\t', names=['text_id', 'category', 'text', 'start', 'end', 'sentiment'])\n",
        "dev_cats = count_sentiments(d_asp, dev_cats)\n",
        "dev_cats.to_csv('dev_cats.csv')"
      ],
      "metadata": {
        "id": "WwK43qRQpqO9"
      },
      "execution_count": null,
      "outputs": []
    },
    {
      "cell_type": "code",
      "source": [
        "train_asp = pd.read_csv(\n",
        "    'train_split_aspects.txt', \n",
        "    delimiter='\\t', \n",
        "    names=['text_id', 'category', 'mention', 'start', 'end', 'sentiment']\n",
        ")\n",
        "train_sent = pd.read_csv(\n",
        "    'train_split_cats.txt',\n",
        "    delimiter='\\t',\n",
        "    names=['text_id', 'category', 'sentiment'])\n",
        "\n",
        "train_split_cats = count_sentiments(train_asp, train_sent)\n",
        "train_split_cats = train_split_cats.to_csv('train_split_cats.csv')"
      ],
      "metadata": {
        "id": "wQcR0-Sap-sd"
      },
      "execution_count": null,
      "outputs": []
    },
    {
      "cell_type": "code",
      "execution_count": 200,
      "metadata": {
        "id": "JYSKIkumUjrP"
      },
      "outputs": [],
      "source": [
        "df = pd.read_csv(\"train_split_cats.csv\")"
      ]
    },
    {
      "cell_type": "code",
      "source": [
        "class2idx = {\n",
        "    \"absence\":0,\n",
        "    \"neutral\":1,\n",
        "    \"both\":2,\n",
        "    \"positive\":3,\n",
        "    \"negative\":4,\n",
        "}\n",
        "\n",
        "idx2class = {v: k for k, v in class2idx.items()}\n",
        "\n",
        "df['sentiment'].replace(class2idx, inplace=True)"
      ],
      "metadata": {
        "id": "cu5rOi32U4uD"
      },
      "execution_count": 201,
      "outputs": []
    },
    {
      "cell_type": "code",
      "source": [
        "features_columns = ['both', 'positive', 'negative', 'neutral']\n",
        "X = df[features_columns]\n",
        "y = df['sentiment']"
      ],
      "metadata": {
        "id": "BLlxQPtRVCd9"
      },
      "execution_count": 202,
      "outputs": []
    },
    {
      "cell_type": "code",
      "source": [
        "# Split into train+val and test\n",
        "X_trainval, X_test, y_trainval, y_test = train_test_split(X, y, test_size=0.1, stratify=y, random_state=69)\n",
        "\n",
        "# Split train into train-val\n",
        "X_train, X_val, y_train, y_val = train_test_split(X_trainval, y_trainval, test_size=0.1, stratify=y_trainval, random_state=21)"
      ],
      "metadata": {
        "id": "ou8VzAm-VUQE"
      },
      "execution_count": 203,
      "outputs": []
    },
    {
      "cell_type": "code",
      "source": [
        "scaler = MinMaxScaler()\n",
        "X_train = scaler.fit_transform(X_train)\n",
        "X_val = scaler.transform(X_val)\n",
        "X_test = scaler.transform(X_test)\n",
        "X_train, y_train = np.array(X_train), np.array(y_train)\n",
        "X_val, y_val = np.array(X_val), np.array(y_val)\n",
        "X_test, y_test = np.array(X_test), np.array(y_test)"
      ],
      "metadata": {
        "id": "5s0Kay8hVgHA"
      },
      "execution_count": 204,
      "outputs": []
    },
    {
      "cell_type": "code",
      "source": [
        "def get_class_distribution(obj):\n",
        "    count_dict = {\n",
        "        \"both\": 0,\n",
        "        \"positive\": 0,\n",
        "        \"negative\": 0,\n",
        "        \"neutral\": 0,\n",
        "        \"absence\": 0,\n",
        "    }\n",
        "    \n",
        "    for i in obj:\n",
        "        if i == 0: \n",
        "            count_dict['both'] += 1\n",
        "        elif i == 1: \n",
        "            count_dict['positive'] += 1\n",
        "        elif i == 2: \n",
        "            count_dict['negative'] += 1\n",
        "        elif i == 3: \n",
        "            count_dict['neutral'] += 1\n",
        "        elif i == 4: \n",
        "            count_dict['absence'] += 1   \n",
        "        else:\n",
        "            print(\"Check classes.\")\n",
        "            \n",
        "    return count_dict"
      ],
      "metadata": {
        "id": "aZkTa7bLVh5U"
      },
      "execution_count": 205,
      "outputs": []
    },
    {
      "cell_type": "code",
      "source": [
        "class ClassifierDataset(Dataset):\n",
        "    \n",
        "    def __init__(self, X_data, y_data):\n",
        "        self.X_data = X_data\n",
        "        self.y_data = y_data\n",
        "        \n",
        "    def __getitem__(self, index):\n",
        "        return self.X_data[index], self.y_data[index]\n",
        "        \n",
        "    def __len__ (self):\n",
        "        return len(self.X_data)\n",
        "\n",
        "\n",
        "train_dataset = ClassifierDataset(torch.from_numpy(X_train).float(), torch.from_numpy(y_train).long())\n",
        "val_dataset = ClassifierDataset(torch.from_numpy(X_val).float(), torch.from_numpy(y_val).long())\n",
        "test_dataset = ClassifierDataset(torch.from_numpy(X_test).float(), torch.from_numpy(y_test).long())"
      ],
      "metadata": {
        "id": "gTK9JDFhV8nW"
      },
      "execution_count": 206,
      "outputs": []
    },
    {
      "cell_type": "code",
      "source": [
        "target_list = []\n",
        "for _, t in train_dataset:\n",
        "    target_list.append(t)\n",
        "    \n",
        "target_list = torch.tensor(target_list)"
      ],
      "metadata": {
        "id": "oX9jdWe8WAYf"
      },
      "execution_count": 208,
      "outputs": []
    },
    {
      "cell_type": "code",
      "source": [
        "class_count = [i for i in get_class_distribution(y_train).values()]\n",
        "class_weights = 1./torch.tensor(class_count, dtype=torch.float) \n",
        "print(class_weights)"
      ],
      "metadata": {
        "colab": {
          "base_uri": "https://localhost:8080/"
        },
        "id": "a_KAhIJHWCnc",
        "outputId": "7d93de24-9689-4f47-9293-051b0548d361"
      },
      "execution_count": 209,
      "outputs": [
        {
          "output_type": "stream",
          "name": "stdout",
          "text": [
            "tensor([0.0072, 0.0909, 0.0083, 0.0020, 0.0116])\n"
          ]
        }
      ]
    },
    {
      "cell_type": "code",
      "source": [
        "class_weights_all = class_weights[target_list]"
      ],
      "metadata": {
        "id": "UtVfktAWWErJ"
      },
      "execution_count": 210,
      "outputs": []
    },
    {
      "cell_type": "code",
      "source": [
        "weighted_sampler = WeightedRandomSampler(\n",
        "    weights=class_weights_all,\n",
        "    num_samples=len(class_weights_all),\n",
        "    replacement=True\n",
        ")"
      ],
      "metadata": {
        "id": "Xvt3sn1vWI1z"
      },
      "execution_count": 211,
      "outputs": []
    },
    {
      "cell_type": "code",
      "source": [
        "EPOCHS = 64\n",
        "BATCH_SIZE = 32\n",
        "LEARNING_RATE = 0.007\n",
        "NUM_FEATURES = len(X.columns)\n",
        "NUM_CLASSES = 5"
      ],
      "metadata": {
        "id": "Rfke8aRbWJ-t"
      },
      "execution_count": 212,
      "outputs": []
    },
    {
      "cell_type": "code",
      "source": [
        "train_loader = DataLoader(dataset=train_dataset,\n",
        "                          batch_size=BATCH_SIZE,\n",
        "                          sampler=weighted_sampler\n",
        ")\n",
        "val_loader = DataLoader(dataset=val_dataset, batch_size=1)\n",
        "test_loader = DataLoader(dataset=test_dataset, batch_size=1)"
      ],
      "metadata": {
        "id": "Sbrq2ROKWTBO"
      },
      "execution_count": 213,
      "outputs": []
    },
    {
      "cell_type": "code",
      "source": [
        "class MulticlassClassification(nn.Module):\n",
        "    def __init__(self, num_feature, num_class):\n",
        "        super(MulticlassClassification, self).__init__()\n",
        "        \n",
        "        self.layer_1 = nn.Linear(num_feature, 512)\n",
        "        self.layer_2 = nn.Linear(512, 256)\n",
        "        self.layer_3 = nn.Linear(256, 128)\n",
        "        self.layer_4 = nn.Linear(128, 64)\n",
        "        self.layer_out = nn.Linear(64, num_class) \n",
        "        \n",
        "        self.relu = nn.ReLU()\n",
        "        self.dropout = nn.Dropout(0.4)\n",
        "        self.batchnorm1 = nn.BatchNorm1d(512)\n",
        "        self.batchnorm2 = nn.BatchNorm1d(256)\n",
        "        self.batchnorm3 = nn.BatchNorm1d(128)\n",
        "        self.batchnorm4 = nn.BatchNorm1d(64)\n",
        "        \n",
        "    def forward(self, x):\n",
        "        x = self.layer_1(x)\n",
        "        x = self.batchnorm1(x)\n",
        "        x = self.relu(x)\n",
        "        \n",
        "        x = self.layer_2(x)\n",
        "        x = self.batchnorm2(x)\n",
        "        x = self.relu(x)\n",
        "        x = self.dropout(x)\n",
        "        \n",
        "        x = self.layer_3(x)\n",
        "        x = self.batchnorm3(x)\n",
        "        x = self.relu(x)\n",
        "        x = self.dropout(x)\n",
        "\n",
        "        x = self.layer_4(x)\n",
        "        x = self.batchnorm4(x)\n",
        "        x = self.relu(x)\n",
        "        x = self.dropout(x)\n",
        "        \n",
        "        x = self.layer_out(x)\n",
        "        \n",
        "        return x"
      ],
      "metadata": {
        "id": "9Z1fVIJOWVHL"
      },
      "execution_count": 214,
      "outputs": []
    },
    {
      "cell_type": "code",
      "source": [
        "device = torch.device(\"cuda:0\" if torch.cuda.is_available() else \"cpu\")\n",
        "print(device)"
      ],
      "metadata": {
        "colab": {
          "base_uri": "https://localhost:8080/"
        },
        "id": "tFyAYwAgWbSI",
        "outputId": "fd2739ea-177c-4dab-f411-001e163082b0"
      },
      "execution_count": 215,
      "outputs": [
        {
          "output_type": "stream",
          "name": "stdout",
          "text": [
            "cuda:0\n"
          ]
        }
      ]
    },
    {
      "cell_type": "code",
      "source": [
        "model = MulticlassClassification(num_feature = NUM_FEATURES, num_class=NUM_CLASSES)\n",
        "model.to(device)\n",
        "\n",
        "criterion = nn.CrossEntropyLoss(weight=class_weights.to(device))\n",
        "optimizer = optim.Adam(model.parameters(), lr=LEARNING_RATE)\n",
        "print(model)"
      ],
      "metadata": {
        "colab": {
          "base_uri": "https://localhost:8080/"
        },
        "id": "wcIsoYhBWdKd",
        "outputId": "26a38615-b81a-4145-ca43-eaf47397e599"
      },
      "execution_count": 216,
      "outputs": [
        {
          "output_type": "stream",
          "name": "stdout",
          "text": [
            "MulticlassClassification(\n",
            "  (layer_1): Linear(in_features=4, out_features=512, bias=True)\n",
            "  (layer_2): Linear(in_features=512, out_features=256, bias=True)\n",
            "  (layer_3): Linear(in_features=256, out_features=128, bias=True)\n",
            "  (layer_4): Linear(in_features=128, out_features=64, bias=True)\n",
            "  (layer_out): Linear(in_features=64, out_features=5, bias=True)\n",
            "  (relu): ReLU()\n",
            "  (dropout): Dropout(p=0.4, inplace=False)\n",
            "  (batchnorm1): BatchNorm1d(512, eps=1e-05, momentum=0.1, affine=True, track_running_stats=True)\n",
            "  (batchnorm2): BatchNorm1d(256, eps=1e-05, momentum=0.1, affine=True, track_running_stats=True)\n",
            "  (batchnorm3): BatchNorm1d(128, eps=1e-05, momentum=0.1, affine=True, track_running_stats=True)\n",
            "  (batchnorm4): BatchNorm1d(64, eps=1e-05, momentum=0.1, affine=True, track_running_stats=True)\n",
            ")\n"
          ]
        }
      ]
    },
    {
      "cell_type": "code",
      "source": [
        "def multi_acc(y_pred, y_test):\n",
        "    y_pred_softmax = torch.log_softmax(y_pred, dim = 1)\n",
        "    _, y_pred_tags = torch.max(y_pred_softmax, dim = 1)    \n",
        "    \n",
        "    correct_pred = (y_pred_tags == y_test).float()\n",
        "    acc = correct_pred.sum() / len(correct_pred)\n",
        "    \n",
        "    acc = torch.round(acc * 100)\n",
        "    \n",
        "    return acc"
      ],
      "metadata": {
        "id": "tdJr97NnWfy5"
      },
      "execution_count": 217,
      "outputs": []
    },
    {
      "cell_type": "code",
      "source": [
        "accuracy_stats = {\n",
        "    'train': [],\n",
        "    \"val\": []\n",
        "}\n",
        "loss_stats = {\n",
        "    'train': [],\n",
        "    \"val\": []\n",
        "}"
      ],
      "metadata": {
        "id": "LL3BTCgtWibH"
      },
      "execution_count": 218,
      "outputs": []
    },
    {
      "cell_type": "code",
      "source": [
        "print(\"Begin training.\")\n",
        "for e in tqdm(range(1, EPOCHS+1)):\n",
        "    \n",
        "    # TRAINING\n",
        "    train_epoch_loss = 0\n",
        "    train_epoch_acc = 0\n",
        "    model.train()\n",
        "    for X_train_batch, y_train_batch in train_loader:\n",
        "        X_train_batch, y_train_batch = X_train_batch.to(device), y_train_batch.to(device)\n",
        "        optimizer.zero_grad()\n",
        "        \n",
        "        y_train_pred = model(X_train_batch)\n",
        "        \n",
        "        train_loss = criterion(y_train_pred, y_train_batch)\n",
        "        train_acc = multi_acc(y_train_pred, y_train_batch)\n",
        "        \n",
        "        train_loss.backward()\n",
        "        optimizer.step()\n",
        "        \n",
        "        train_epoch_loss += train_loss.item()\n",
        "        train_epoch_acc += train_acc.item()\n",
        "        \n",
        "        \n",
        "    # VALIDATION    \n",
        "    with torch.no_grad():\n",
        "        \n",
        "        val_epoch_loss = 0\n",
        "        val_epoch_acc = 0\n",
        "        \n",
        "        model.eval()\n",
        "        for X_val_batch, y_val_batch in val_loader:\n",
        "            X_val_batch, y_val_batch = X_val_batch.to(device), y_val_batch.to(device)\n",
        "            \n",
        "            y_val_pred = model(X_val_batch)\n",
        "                        \n",
        "            val_loss = criterion(y_val_pred, y_val_batch)\n",
        "            val_acc = multi_acc(y_val_pred, y_val_batch)\n",
        "            \n",
        "            val_epoch_loss += val_loss.item()\n",
        "            val_epoch_acc += val_acc.item()\n",
        "    loss_stats['train'].append(train_epoch_loss/len(train_loader))\n",
        "    loss_stats['val'].append(val_epoch_loss/len(val_loader))\n",
        "    accuracy_stats['train'].append(train_epoch_acc/len(train_loader))\n",
        "    accuracy_stats['val'].append(val_epoch_acc/len(val_loader))\n",
        "                              \n",
        "    \n",
        "    print(f'Epoch {e+0:03}: | Train Loss: {train_epoch_loss/len(train_loader):.5f} | Val Loss: {val_epoch_loss/len(val_loader):.5f} | Train Acc: {train_epoch_acc/len(train_loader):.3f}| Val Acc: {val_epoch_acc/len(val_loader):.3f}')\n"
      ],
      "metadata": {
        "colab": {
          "base_uri": "https://localhost:8080/",
          "height": 1000,
          "referenced_widgets": [
            "f017defdcef14ec2af3ab49305b456c0",
            "20560650a48d4c50ae104d674d698e15",
            "d91a95795c6e4341a47f7fffefe37cb5",
            "a3359a3585bb45f4b2d213c2a97dcae6",
            "207c6137ed05437ba8a7b4182568d489",
            "624a8a8e957b4383b47f0ff69cdb826b",
            "740dbdb8815543d4b68e66dbdc7d3652",
            "85065dc780de4614973253d0a9888c97",
            "13928ac5a1004754a944271a57db5aa6",
            "177cca2f5940403b898de1ee160f7aba",
            "cdc824c345e54dbc9f68ca28d1e370b3"
          ]
        },
        "id": "k8ij_9oXWj5l",
        "outputId": "78046ab1-8e32-4f6a-ede3-29eac2cb4149"
      },
      "execution_count": 219,
      "outputs": [
        {
          "output_type": "stream",
          "name": "stdout",
          "text": [
            "Begin training.\n"
          ]
        },
        {
          "output_type": "display_data",
          "data": {
            "application/vnd.jupyter.widget-view+json": {
              "model_id": "f017defdcef14ec2af3ab49305b456c0",
              "version_minor": 0,
              "version_major": 2
            },
            "text/plain": [
              "  0%|          | 0/64 [00:00<?, ?it/s]"
            ]
          },
          "metadata": {}
        },
        {
          "output_type": "stream",
          "name": "stdout",
          "text": [
            "Epoch 001: | Train Loss: 0.64474 | Val Loss: 2.02609 | Train Acc: 44.704| Val Acc: 23.958\n",
            "Epoch 002: | Train Loss: 0.29865 | Val Loss: 1.93125 | Train Acc: 63.037| Val Acc: 38.542\n",
            "Epoch 003: | Train Loss: 0.24226 | Val Loss: 1.88627 | Train Acc: 68.370| Val Acc: 38.542\n",
            "Epoch 004: | Train Loss: 0.29839 | Val Loss: 1.58438 | Train Acc: 66.296| Val Acc: 46.875\n",
            "Epoch 005: | Train Loss: 0.34118 | Val Loss: 1.66360 | Train Acc: 68.667| Val Acc: 47.917\n",
            "Epoch 006: | Train Loss: 0.23862 | Val Loss: 1.67794 | Train Acc: 69.630| Val Acc: 55.208\n",
            "Epoch 007: | Train Loss: 0.25686 | Val Loss: 1.35639 | Train Acc: 68.815| Val Acc: 64.583\n",
            "Epoch 008: | Train Loss: 0.27161 | Val Loss: 1.72372 | Train Acc: 68.852| Val Acc: 41.667\n",
            "Epoch 009: | Train Loss: 0.24067 | Val Loss: 1.72462 | Train Acc: 73.815| Val Acc: 61.458\n",
            "Epoch 010: | Train Loss: 0.22268 | Val Loss: 1.53763 | Train Acc: 79.815| Val Acc: 69.792\n",
            "Epoch 011: | Train Loss: 0.26180 | Val Loss: 1.62084 | Train Acc: 74.185| Val Acc: 50.000\n",
            "Epoch 012: | Train Loss: 0.20755 | Val Loss: 1.70565 | Train Acc: 73.333| Val Acc: 51.042\n",
            "Epoch 013: | Train Loss: 0.27101 | Val Loss: 1.38959 | Train Acc: 71.889| Val Acc: 69.792\n",
            "Epoch 014: | Train Loss: 0.25295 | Val Loss: 1.57171 | Train Acc: 71.593| Val Acc: 47.917\n",
            "Epoch 015: | Train Loss: 0.26002 | Val Loss: 1.64865 | Train Acc: 73.333| Val Acc: 55.208\n",
            "Epoch 016: | Train Loss: 0.27157 | Val Loss: 1.61100 | Train Acc: 72.667| Val Acc: 47.917\n",
            "Epoch 017: | Train Loss: 0.26472 | Val Loss: 1.43920 | Train Acc: 72.704| Val Acc: 68.750\n",
            "Epoch 018: | Train Loss: 0.24910 | Val Loss: 1.43922 | Train Acc: 74.407| Val Acc: 68.750\n",
            "Epoch 019: | Train Loss: 0.28078 | Val Loss: 1.50090 | Train Acc: 71.556| Val Acc: 68.750\n",
            "Epoch 020: | Train Loss: 0.24793 | Val Loss: 1.84638 | Train Acc: 73.556| Val Acc: 31.250\n",
            "Epoch 021: | Train Loss: 0.22853 | Val Loss: 1.54238 | Train Acc: 72.481| Val Acc: 67.708\n",
            "Epoch 022: | Train Loss: 0.23334 | Val Loss: 1.63977 | Train Acc: 77.519| Val Acc: 61.458\n",
            "Epoch 023: | Train Loss: 0.25196 | Val Loss: 1.53675 | Train Acc: 72.222| Val Acc: 50.000\n",
            "Epoch 024: | Train Loss: 0.25877 | Val Loss: 1.45957 | Train Acc: 74.741| Val Acc: 64.583\n",
            "Epoch 025: | Train Loss: 0.22029 | Val Loss: 1.58083 | Train Acc: 74.963| Val Acc: 54.167\n",
            "Epoch 026: | Train Loss: 0.23051 | Val Loss: 1.62372 | Train Acc: 76.333| Val Acc: 42.708\n",
            "Epoch 027: | Train Loss: 0.23375 | Val Loss: 1.37439 | Train Acc: 76.185| Val Acc: 71.875\n",
            "Epoch 028: | Train Loss: 0.24413 | Val Loss: 1.70113 | Train Acc: 71.148| Val Acc: 35.417\n",
            "Epoch 029: | Train Loss: 0.24161 | Val Loss: 1.49506 | Train Acc: 71.630| Val Acc: 60.417\n",
            "Epoch 030: | Train Loss: 0.25993 | Val Loss: 1.42182 | Train Acc: 75.407| Val Acc: 67.708\n",
            "Epoch 031: | Train Loss: 0.23035 | Val Loss: 1.47787 | Train Acc: 74.852| Val Acc: 70.833\n",
            "Epoch 032: | Train Loss: 0.30558 | Val Loss: 1.60691 | Train Acc: 74.111| Val Acc: 57.292\n",
            "Epoch 033: | Train Loss: 0.24221 | Val Loss: 1.50688 | Train Acc: 73.889| Val Acc: 69.792\n",
            "Epoch 034: | Train Loss: 0.21673 | Val Loss: 1.57053 | Train Acc: 74.333| Val Acc: 57.292\n",
            "Epoch 035: | Train Loss: 0.21775 | Val Loss: 1.48759 | Train Acc: 77.667| Val Acc: 70.833\n",
            "Epoch 036: | Train Loss: 0.24828 | Val Loss: 1.42721 | Train Acc: 74.741| Val Acc: 68.750\n",
            "Epoch 037: | Train Loss: 0.21843 | Val Loss: 1.69323 | Train Acc: 73.148| Val Acc: 52.083\n",
            "Epoch 038: | Train Loss: 0.23102 | Val Loss: 1.37122 | Train Acc: 76.963| Val Acc: 71.875\n",
            "Epoch 039: | Train Loss: 0.21241 | Val Loss: 1.52145 | Train Acc: 76.741| Val Acc: 57.292\n",
            "Epoch 040: | Train Loss: 0.24054 | Val Loss: 1.39455 | Train Acc: 79.111| Val Acc: 70.833\n",
            "Epoch 041: | Train Loss: 0.23342 | Val Loss: 1.67065 | Train Acc: 74.741| Val Acc: 30.208\n",
            "Epoch 042: | Train Loss: 0.22881 | Val Loss: 1.46052 | Train Acc: 72.222| Val Acc: 72.917\n",
            "Epoch 043: | Train Loss: 0.21211 | Val Loss: 1.39522 | Train Acc: 80.148| Val Acc: 73.958\n",
            "Epoch 044: | Train Loss: 0.22917 | Val Loss: 1.64139 | Train Acc: 72.741| Val Acc: 56.250\n",
            "Epoch 045: | Train Loss: 0.24932 | Val Loss: 1.57099 | Train Acc: 75.185| Val Acc: 57.292\n",
            "Epoch 046: | Train Loss: 0.27019 | Val Loss: 1.49526 | Train Acc: 71.889| Val Acc: 66.667\n",
            "Epoch 047: | Train Loss: 0.29284 | Val Loss: 1.56378 | Train Acc: 74.926| Val Acc: 55.208\n",
            "Epoch 048: | Train Loss: 0.26119 | Val Loss: 1.60394 | Train Acc: 75.889| Val Acc: 43.750\n",
            "Epoch 049: | Train Loss: 0.24040 | Val Loss: 1.73361 | Train Acc: 70.926| Val Acc: 50.000\n",
            "Epoch 050: | Train Loss: 0.21773 | Val Loss: 1.55852 | Train Acc: 72.815| Val Acc: 69.792\n",
            "Epoch 051: | Train Loss: 0.18925 | Val Loss: 1.71589 | Train Acc: 78.481| Val Acc: 68.750\n",
            "Epoch 052: | Train Loss: 0.19954 | Val Loss: 1.43081 | Train Acc: 77.481| Val Acc: 71.875\n",
            "Epoch 053: | Train Loss: 0.22914 | Val Loss: 1.82814 | Train Acc: 76.111| Val Acc: 50.000\n",
            "Epoch 054: | Train Loss: 0.22728 | Val Loss: 1.73792 | Train Acc: 73.148| Val Acc: 64.583\n",
            "Epoch 055: | Train Loss: 0.23438 | Val Loss: 1.73120 | Train Acc: 71.778| Val Acc: 48.958\n",
            "Epoch 056: | Train Loss: 0.23671 | Val Loss: 1.51492 | Train Acc: 75.593| Val Acc: 68.750\n",
            "Epoch 057: | Train Loss: 0.22959 | Val Loss: 1.51038 | Train Acc: 78.556| Val Acc: 68.750\n",
            "Epoch 058: | Train Loss: 0.28520 | Val Loss: 1.73163 | Train Acc: 70.519| Val Acc: 45.833\n",
            "Epoch 059: | Train Loss: 0.19695 | Val Loss: 1.58908 | Train Acc: 75.963| Val Acc: 70.833\n",
            "Epoch 060: | Train Loss: 0.25961 | Val Loss: 1.69991 | Train Acc: 75.000| Val Acc: 48.958\n",
            "Epoch 061: | Train Loss: 0.23120 | Val Loss: 1.44085 | Train Acc: 74.074| Val Acc: 71.875\n",
            "Epoch 062: | Train Loss: 0.22653 | Val Loss: 1.60089 | Train Acc: 75.556| Val Acc: 57.292\n",
            "Epoch 063: | Train Loss: 0.25616 | Val Loss: 1.51973 | Train Acc: 78.111| Val Acc: 58.333\n",
            "Epoch 064: | Train Loss: 0.23027 | Val Loss: 1.39913 | Train Acc: 80.889| Val Acc: 73.958\n"
          ]
        }
      ]
    },
    {
      "cell_type": "code",
      "source": [
        "# Create dataframes\n",
        "train_val_acc_df = pd.DataFrame.from_dict(accuracy_stats).reset_index().melt(id_vars=['index']).rename(columns={\"index\":\"epochs\"})\n",
        "train_val_loss_df = pd.DataFrame.from_dict(loss_stats).reset_index().melt(id_vars=['index']).rename(columns={\"index\":\"epochs\"})\n",
        "# Plot the dataframes\n",
        "fig, axes = plt.subplots(nrows=1, ncols=2, figsize=(20,7))\n",
        "sns.lineplot(data=train_val_acc_df, x = \"epochs\", y=\"value\", hue=\"variable\",  ax=axes[0]).set_title('Train-Val Accuracy/Epoch')\n",
        "sns.lineplot(data=train_val_loss_df, x = \"epochs\", y=\"value\", hue=\"variable\", ax=axes[1]).set_title('Train-Val Loss/Epoch')"
      ],
      "metadata": {
        "colab": {
          "base_uri": "https://localhost:8080/",
          "height": 495
        },
        "id": "_VYajjdEXlCn",
        "outputId": "22a3351b-7ce9-4ace-aa8c-6cf1f7fa68cc"
      },
      "execution_count": 220,
      "outputs": [
        {
          "output_type": "execute_result",
          "data": {
            "text/plain": [
              "Text(0.5, 1.0, 'Train-Val Loss/Epoch')"
            ]
          },
          "metadata": {},
          "execution_count": 220
        },
        {
          "output_type": "display_data",
          "data": {
            "image/png": "[encoded data removed]",
            "text/plain": [
              "<Figure size 1440x504 with 2 Axes>"
            ]
          },
          "metadata": {
            "needs_background": "light"
          }
        }
      ]
    },
    {
      "cell_type": "code",
      "source": [
        "y_pred_list = []\n",
        "with torch.no_grad():\n",
        "    model.eval()\n",
        "    for X_batch, _ in test_loader:\n",
        "        X_batch = X_batch.to(device)\n",
        "        y_test_pred = model(X_batch)\n",
        "        _, y_pred_tags = torch.max(y_test_pred, dim = 1)\n",
        "        y_pred_list.append(y_pred_tags.cpu().numpy())\n",
        "y_pred_list = [a.squeeze().tolist() for a in y_pred_list]"
      ],
      "metadata": {
        "id": "c7I6Q8tBo6zB"
      },
      "execution_count": 253,
      "outputs": []
    },
    {
      "cell_type": "code",
      "source": [
        "accuracy_score(y_test, y_pred_list)"
      ],
      "metadata": {
        "colab": {
          "base_uri": "https://localhost:8080/"
        },
        "id": "-X7bseVxoz88",
        "outputId": "3703cec8-9b40-4546-e72b-e8df10a6c586"
      },
      "execution_count": 254,
      "outputs": [
        {
          "output_type": "execute_result",
          "data": {
            "text/plain": [
              "0.6635514018691588"
            ]
          },
          "metadata": {},
          "execution_count": 254
        }
      ]
    },
    {
      "cell_type": "code",
      "source": [
        "dev_df = pd.read_csv('dev_cats.csv')\n",
        "dev_df['sentiment'].replace(class2idx, inplace=True)\n",
        "y_dev = dev_df['sentiment']\n",
        "X_dev = scaler.transform(dev_df[features_columns])\n",
        "X_dev, y_dev = np.array(X_dev), np.array(y_dev)\n",
        "dev_dataset = ClassifierDataset(torch.from_numpy(X_dev).float(), torch.from_numpy(y_dev).long())\n",
        "dev_loader = DataLoader(dataset=dev_dataset, batch_size=1)"
      ],
      "metadata": {
        "id": "2n101pwxiFU0"
      },
      "execution_count": 247,
      "outputs": []
    },
    {
      "cell_type": "code",
      "source": [
        "from sklearn.metrics import accuracy_score\n",
        "y_pred_list = []\n",
        "with torch.no_grad():\n",
        "    model.eval()\n",
        "    for X_batch, _ in dev_loader:\n",
        "        X_batch = X_batch.to(device)\n",
        "        y_test_pred = model(X_batch)\n",
        "        _, y_pred_tags = torch.max(y_test_pred, dim = 1)\n",
        "        y_pred_list.append(y_pred_tags.cpu().numpy())\n",
        "y_pred_list = [a.squeeze().tolist() for a in y_pred_list]"
      ],
      "metadata": {
        "id": "6VoywSUkiRya"
      },
      "execution_count": 248,
      "outputs": []
    },
    {
      "cell_type": "code",
      "source": [
        "print(accuracy_score(y_dev, y_pred_list))"
      ],
      "metadata": {
        "colab": {
          "base_uri": "https://localhost:8080/"
        },
        "id": "xL7VA676iV2l",
        "outputId": "c970e1e4-7e1e-4eb4-d30d-2b759e59e556"
      },
      "execution_count": 252,
      "outputs": [
        {
          "output_type": "stream",
          "name": "stdout",
          "text": [
            "0.7859154929577464\n"
          ]
        }
      ]
    }
  ]
}